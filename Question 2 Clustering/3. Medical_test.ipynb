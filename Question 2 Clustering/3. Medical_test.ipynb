{
 "cells": [
  {
   "cell_type": "markdown",
   "id": "3d334d6b",
   "metadata": {},
   "source": [
    "In this notebook, we explore the biological relevance of this clusters by looking at the difference in medical usage by this two clusters.\n",
    "\n"
   ]
  },
  {
   "cell_type": "code",
   "execution_count": 1,
   "id": "59be2ff0",
   "metadata": {},
   "outputs": [],
   "source": [
    "# --- PART 0: SETUP AND LIBRARIES ---\n",
    "import pandas as pd\n",
    "import numpy as np\n",
    "import seaborn as sns\n",
    "import matplotlib.pyplot as plt\n",
    "from scipy.stats import chi2_contingency\n",
    "import warnings\n",
    "\n",
    "warnings.filterwarnings('ignore')\n",
    "sns.set_style(\"whitegrid\")"
   ]
  },
  {
   "cell_type": "markdown",
   "id": "5f8c9b48",
   "metadata": {},
   "source": [
    "We load the cluster data created in the previous notebook and also the medicine history we had obtained earlier."
   ]
  },
  {
   "cell_type": "code",
   "execution_count": 2,
   "id": "55994036",
   "metadata": {},
   "outputs": [],
   "source": [
    "# --- PART 1: DATA LOADING AND PREPARATION ---\n",
    "\n",
    "cluster_data = pd.read_csv(\"cluster_data.csv\")[['participant_id', 'cluster']]\n",
    "med_history = pd.read_csv(\"cleaned_med_data.csv\")\n"
   ]
  },
  {
   "cell_type": "code",
   "execution_count": 3,
   "id": "6b573274",
   "metadata": {},
   "outputs": [
    {
     "data": {
      "text/html": [
       "<div>\n",
       "<style scoped>\n",
       "    .dataframe tbody tr th:only-of-type {\n",
       "        vertical-align: middle;\n",
       "    }\n",
       "\n",
       "    .dataframe tbody tr th {\n",
       "        vertical-align: top;\n",
       "    }\n",
       "\n",
       "    .dataframe thead th {\n",
       "        text-align: right;\n",
       "    }\n",
       "</style>\n",
       "<table border=\"1\" class=\"dataframe\">\n",
       "  <thead>\n",
       "    <tr style=\"text-align: right;\">\n",
       "      <th></th>\n",
       "      <th>participant_id</th>\n",
       "      <th>cluster</th>\n",
       "      <th>on_levodopa</th>\n",
       "      <th>on_dopamine_agonist</th>\n",
       "      <th>on_other_pd_medications</th>\n",
       "    </tr>\n",
       "  </thead>\n",
       "  <tbody>\n",
       "    <tr>\n",
       "      <th>0</th>\n",
       "      <td>BF-1002</td>\n",
       "      <td>NaN</td>\n",
       "      <td>1</td>\n",
       "      <td>0</td>\n",
       "      <td>0</td>\n",
       "    </tr>\n",
       "    <tr>\n",
       "      <th>1</th>\n",
       "      <td>BF-1003</td>\n",
       "      <td>NaN</td>\n",
       "      <td>1</td>\n",
       "      <td>1</td>\n",
       "      <td>1</td>\n",
       "    </tr>\n",
       "    <tr>\n",
       "      <th>2</th>\n",
       "      <td>BF-1004</td>\n",
       "      <td>NaN</td>\n",
       "      <td>1</td>\n",
       "      <td>0</td>\n",
       "      <td>0</td>\n",
       "    </tr>\n",
       "    <tr>\n",
       "      <th>3</th>\n",
       "      <td>BF-1006</td>\n",
       "      <td>NaN</td>\n",
       "      <td>1</td>\n",
       "      <td>1</td>\n",
       "      <td>0</td>\n",
       "    </tr>\n",
       "    <tr>\n",
       "      <th>4</th>\n",
       "      <td>BF-1008</td>\n",
       "      <td>NaN</td>\n",
       "      <td>1</td>\n",
       "      <td>0</td>\n",
       "      <td>1</td>\n",
       "    </tr>\n",
       "  </tbody>\n",
       "</table>\n",
       "</div>"
      ],
      "text/plain": [
       "  participant_id  cluster  on_levodopa  on_dopamine_agonist  \\\n",
       "0        BF-1002      NaN            1                    0   \n",
       "1        BF-1003      NaN            1                    1   \n",
       "2        BF-1004      NaN            1                    0   \n",
       "3        BF-1006      NaN            1                    1   \n",
       "4        BF-1008      NaN            1                    0   \n",
       "\n",
       "   on_other_pd_medications  \n",
       "0                        0  \n",
       "1                        1  \n",
       "2                        0  \n",
       "3                        0  \n",
       "4                        1  "
      ]
     },
     "execution_count": 3,
     "metadata": {},
     "output_type": "execute_result"
    }
   ],
   "source": [
    "cluster_data_with_medical_history = cluster_data.merge(med_history, on = \"participant_id\", how = \"outer\")\n",
    "cluster_data_with_medical_history.head()"
   ]
  },
  {
   "cell_type": "code",
   "execution_count": 4,
   "id": "5f2e80a1",
   "metadata": {},
   "outputs": [],
   "source": [
    "cluster_data_with_medical_history.dropna(inplace = True)"
   ]
  },
  {
   "cell_type": "code",
   "execution_count": 5,
   "id": "ad44266c",
   "metadata": {},
   "outputs": [
    {
     "data": {
      "text/plain": [
       "1055"
      ]
     },
     "execution_count": 5,
     "metadata": {},
     "output_type": "execute_result"
    }
   ],
   "source": [
    "cluster_data_with_medical_history['participant_id'].nunique()"
   ]
  },
  {
   "cell_type": "markdown",
   "id": "5a86e36a",
   "metadata": {},
   "source": [
    "We are working with 1055 unique participants in this notebook."
   ]
  },
  {
   "cell_type": "code",
   "execution_count": 6,
   "id": "2a970ae7",
   "metadata": {},
   "outputs": [
    {
     "data": {
      "text/html": [
       "<div>\n",
       "<style scoped>\n",
       "    .dataframe tbody tr th:only-of-type {\n",
       "        vertical-align: middle;\n",
       "    }\n",
       "\n",
       "    .dataframe tbody tr th {\n",
       "        vertical-align: top;\n",
       "    }\n",
       "\n",
       "    .dataframe thead th {\n",
       "        text-align: right;\n",
       "    }\n",
       "</style>\n",
       "<table border=\"1\" class=\"dataframe\">\n",
       "  <thead>\n",
       "    <tr style=\"text-align: right;\">\n",
       "      <th></th>\n",
       "      <th>participant_id</th>\n",
       "      <th>cluster</th>\n",
       "      <th>on_levodopa</th>\n",
       "      <th>on_dopamine_agonist</th>\n",
       "      <th>on_other_pd_medications</th>\n",
       "    </tr>\n",
       "  </thead>\n",
       "  <tbody>\n",
       "    <tr>\n",
       "      <th>763</th>\n",
       "      <td>PD-PDAA503EF5</td>\n",
       "      <td>0.0</td>\n",
       "      <td>1</td>\n",
       "      <td>1</td>\n",
       "      <td>1</td>\n",
       "    </tr>\n",
       "    <tr>\n",
       "      <th>764</th>\n",
       "      <td>PD-PDAA503EF5</td>\n",
       "      <td>0.0</td>\n",
       "      <td>1</td>\n",
       "      <td>1</td>\n",
       "      <td>1</td>\n",
       "    </tr>\n",
       "    <tr>\n",
       "      <th>765</th>\n",
       "      <td>PD-PDAA503EF5</td>\n",
       "      <td>0.0</td>\n",
       "      <td>1</td>\n",
       "      <td>1</td>\n",
       "      <td>1</td>\n",
       "    </tr>\n",
       "    <tr>\n",
       "      <th>766</th>\n",
       "      <td>PD-PDAA503EF5</td>\n",
       "      <td>0.0</td>\n",
       "      <td>1</td>\n",
       "      <td>1</td>\n",
       "      <td>1</td>\n",
       "    </tr>\n",
       "    <tr>\n",
       "      <th>768</th>\n",
       "      <td>PD-PDAB549YWB</td>\n",
       "      <td>1.0</td>\n",
       "      <td>1</td>\n",
       "      <td>1</td>\n",
       "      <td>1</td>\n",
       "    </tr>\n",
       "  </tbody>\n",
       "</table>\n",
       "</div>"
      ],
      "text/plain": [
       "    participant_id  cluster  on_levodopa  on_dopamine_agonist  \\\n",
       "763  PD-PDAA503EF5      0.0            1                    1   \n",
       "764  PD-PDAA503EF5      0.0            1                    1   \n",
       "765  PD-PDAA503EF5      0.0            1                    1   \n",
       "766  PD-PDAA503EF5      0.0            1                    1   \n",
       "768  PD-PDAB549YWB      1.0            1                    1   \n",
       "\n",
       "     on_other_pd_medications  \n",
       "763                        1  \n",
       "764                        1  \n",
       "765                        1  \n",
       "766                        1  \n",
       "768                        1  "
      ]
     },
     "execution_count": 6,
     "metadata": {},
     "output_type": "execute_result"
    }
   ],
   "source": [
    "cluster_data_with_medical_history.head()"
   ]
  },
  {
   "cell_type": "code",
   "execution_count": 7,
   "id": "96ee8a7c",
   "metadata": {},
   "outputs": [
    {
     "data": {
      "text/plain": [
       "participant_id             1055\n",
       "cluster                       2\n",
       "on_levodopa                   2\n",
       "on_dopamine_agonist           2\n",
       "on_other_pd_medications       2\n",
       "dtype: int64"
      ]
     },
     "execution_count": 7,
     "metadata": {},
     "output_type": "execute_result"
    }
   ],
   "source": [
    "cluster_data_with_medical_history.nunique()"
   ]
  },
  {
   "cell_type": "code",
   "execution_count": 6,
   "id": "973ebd9d",
   "metadata": {},
   "outputs": [
    {
     "name": "stdout",
     "output_type": "stream",
     "text": [
      "\n",
      "--- Part 3: Analyzing Medication Usage by Cluster  ---\n"
     ]
    },
    {
     "data": {
      "image/png": "[encoded data removed]",
      "text/plain": [
       "<Figure size 1400x800 with 1 Axes>"
      ]
     },
     "metadata": {},
     "output_type": "display_data"
    },
    {
     "name": "stdout",
     "output_type": "stream",
     "text": [
      "\n",
      "Percentage of Patients Using Each Medication Category, by Cluster:\n",
      "         on_levodopa  on_dopamine_agonist  on_other_pd_medications\n",
      "cluster                                                           \n",
      "0.0             85.4                 48.2                     64.5\n",
      "1.0             79.7                 58.9                     74.9\n",
      "\n",
      "--- Analysis Complete ---\n"
     ]
    }
   ],
   "source": [
    "# --- PART 2: MEDICATION USAGE ANALYSIS \n",
    "print(\"\\n--- Part 3: Analyzing Medication Usage by Cluster  ---\")\n",
    "\n",
    "med_columns = ['on_levodopa', 'on_dopamine_agonist', 'on_other_pd_medications']\n",
    "\n",
    "\n",
    "# Calculate the mean for each medication column, grouped by cluster.\n",
    "# The mean of a 1/0 column is the percentage of 1s (i.e., 'yes' values).\n",
    "percentage_usage = cluster_data_with_medical_history.groupby('cluster')[med_columns].mean() * 100\n",
    "\n",
    "# Visualize the comparison - This is the key plot for the business story\n",
    "fig_med, ax_med = plt.subplots(figsize=(14, 8))\n",
    "percentage_usage.plot(kind='bar', ax=ax_med, width=0.8)\n",
    "\n",
    "ax_med.set_title('Medication Usage by Patient Cluster (Percentage of Patients)', fontsize=18, fontweight='bold')\n",
    "ax_med.set_ylabel('Percentage of Patients in Cluster Using Meds (%)', fontsize=12)\n",
    "ax_med.set_xlabel('Patient Cluster (Identified by Progression Rate)', fontsize=12)\n",
    "ax_med.tick_params(axis='x', rotation=0)\n",
    "ax_med.legend(title='Medication Category', bbox_to_anchor=(1.02, 1), loc='upper left')\n",
    "ax_med.grid(axis='y', linestyle='--', alpha=0.7)\n",
    "plt.tight_layout()\n",
    "plt.show()\n",
    "\n",
    "# Display the percentage table for a precise view\n",
    "print(\"\\nPercentage of Patients Using Each Medication Category, by Cluster:\")\n",
    "print(percentage_usage.round(1))\n",
    "print(\"\\n--- Analysis Complete ---\")\n"
   ]
  },
  {
   "cell_type": "markdown",
   "id": "0d776de0",
   "metadata": {},
   "source": [
    "We can observe that the medical usage in cluster 0 is significantly different from that in cluster 1. Patients in cluster 0 are more significantly on levodopa, \n",
    "whereas those in cluster 1 are on the other medications. To be sure, we employ a statistical test."
   ]
  },
  {
   "cell_type": "code",
   "execution_count": null,
   "id": "55014acf",
   "metadata": {},
   "outputs": [
    {
     "name": "stdout",
     "output_type": "stream",
     "text": [
      "\n",
      "--- Part 4: Hypothesis Testing for Statistical Significance ---\n",
      "Null Hypothesis (H0): Medication usage is independent of the patient cluster.\n",
      "Alternative Hypothesis (H1): Medication usage is dependent on the patient cluster.\n",
      "\n",
      "--- Results for 'on_levodopa' ---\n",
      "Chi-Squared Statistic: 27.3652\n",
      "P-value: 0.0000\n",
      "Conclusion: We REJECT the null hypothesis. The difference in 'on_levodopa' usage between clusters is statistically significant.\n",
      "----------------------------------------\n",
      "--- Results for 'on_dopamine_agonist' ---\n",
      "Chi-Squared Statistic: 57.4509\n",
      "P-value: 0.0000\n",
      "Conclusion: We REJECT the null hypothesis. The difference in 'on_dopamine_agonist' usage between clusters is statistically significant.\n",
      "----------------------------------------\n",
      "--- Results for 'on_other_pd_medications' ---\n",
      "Chi-Squared Statistic: 64.7895\n",
      "P-value: 0.0000\n",
      "Conclusion: We REJECT the null hypothesis. The difference in 'on_other_pd_medications' usage between clusters is statistically significant.\n",
      "----------------------------------------\n",
      "\n",
      "--- Analysis Complete ---\n"
     ]
    }
   ],
   "source": [
    "print(\"\\n--- Part 3: Hypothesis Testing for Statistical Significance ---\")\n",
    "print(\"Null Hypothesis (H0): Medication usage is independent of the patient cluster.\")\n",
    "print(\"Alternative Hypothesis (H1): Medication usage is dependent on the patient cluster.\\n\")\n",
    "\n",
    "for med_col in med_columns:\n",
    "    # Create a contingency table (counts of on/off medication vs. cluster)\n",
    "    contingency_table = pd.crosstab(cluster_data_with_medical_history['cluster'], cluster_data_with_medical_history[med_col])\n",
    "    \n",
    "    # Perform the Chi-Squared Test\n",
    "    chi2, p_value, _, _ = chi2_contingency(contingency_table)\n",
    "    \n",
    "    print(f\"--- Results for '{med_col}' ---\")\n",
    "    print(f\"Chi-Squared Statistic: {chi2:.4f}\")\n",
    "    print(f\"P-value: {p_value:.4f}\")\n",
    "    \n",
    "    # Interpret the result\n",
    "    alpha = 0.05\n",
    "    if p_value < alpha:\n",
    "        print(f\"Conclusion: We REJECT the null hypothesis. The difference in '{med_col}' usage between clusters is statistically significant.\")\n",
    "    else:\n",
    "        print(f\"Conclusion: We FAIL to reject the null hypothesis. There is not enough evidence to say the difference in '{med_col}' usage is significant.\")\n",
    "    print(\"-\" * 40)\n",
    "\n",
    "print(\"\\n--- Analysis Complete ---\")\n",
    "\n"
   ]
  },
  {
   "cell_type": "markdown",
   "id": "0bca2f9a",
   "metadata": {},
   "source": [
    "We reject the null hypothesis in all the cases showing that the clusters are biologically significant.  "
   ]
  }
 ],
 "metadata": {
  "kernelspec": {
   "display_name": "erdos_summer_2025",
   "language": "python",
   "name": "python3"
  },
  "language_info": {
   "codemirror_mode": {
    "name": "ipython",
    "version": 3
   },
   "file_extension": ".py",
   "mimetype": "text/x-python",
   "name": "python",
   "nbconvert_exporter": "python",
   "pygments_lexer": "ipython3",
   "version": "3.12.10"
  }
 },
 "nbformat": 4,
 "nbformat_minor": 5
}
