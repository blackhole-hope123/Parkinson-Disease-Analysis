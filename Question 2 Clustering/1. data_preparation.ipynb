{
 "cells": [
  {
   "cell_type": "code",
   "execution_count": 1,
   "id": "96abd7bc",
   "metadata": {},
   "outputs": [],
   "source": [
    "import pandas as pd\n",
    "import numpy as np\n",
    "import seaborn as sns\n",
    "import matplotlib.pyplot as plt\n",
    "import warnings\n",
    "from utils import delete_patients_with_the_same_GUID, averaging_scores\n",
    "warnings.filterwarnings('ignore')\n",
    "\n",
    "sns.set_style(\"whitegrid\")"
   ]
  },
  {
   "cell_type": "markdown",
   "id": "1c01a2c2",
   "metadata": {},
   "source": [
    "We prepare our cleaned data for clustering. First of all we restrict only to PD patients by filtering them out from the clinical data. Next, we load medication data to check the biological relevance of our data."
   ]
  },
  {
   "cell_type": "code",
   "execution_count": 2,
   "id": "cab4abe4",
   "metadata": {},
   "outputs": [
    {
     "name": "stdout",
     "output_type": "stream",
     "text": [
      "Processing screening records by participant...\n",
      "Consolidated 474 screening records into 457 baseline records.\n",
      "Processing regular visit records by participant and month...\n",
      "Consolidated 10864 regular records into 10633 records.\n"
     ]
    }
   ],
   "source": [
    "enrollment = delete_patients_with_the_same_GUID(pd.read_csv(\"new-data/releases_2023_v4release_1027_clinical_Enrollment.csv\"))\n",
    "\n",
    "updrs_scores = pd.read_csv(\"cleaned_data.csv\")[['participant_id', 'visit_name', 'visit_month',\n",
    "       'mds_updrs_part_i_summary_score', 'mds_updrs_part_ii_summary_score',\n",
    "       'mds_updrs_part_iii_summary_score']]\n",
    "\n",
    "enrollment_pd = enrollment[enrollment['study_arm'] == 'PD']\n",
    "\n",
    "updrs_scores = updrs_scores[updrs_scores['participant_id'].isin(enrollment_pd['participant_id'])]\n",
    "\n",
    "updrs_scores.columns = ['participant_id', 'visit_name', 'visit_month', 'updrs_1', 'updrs_2', 'updrs_3']\n",
    "\n",
    "updrs_scores = averaging_scores(updrs_scores, ['updrs_1', 'updrs_2', 'updrs_3'])\n",
    "\n",
    "updrs_scores = updrs_scores.drop(columns = ['visit_name'])\n",
    "\n",
    "updrs_scores.to_csv(\"cleaned_updrs_scores.csv\", index=False)"
   ]
  },
  {
   "cell_type": "code",
   "execution_count": 3,
   "id": "747b0826",
   "metadata": {},
   "outputs": [],
   "source": [
    "med_data = delete_patients_with_the_same_GUID(pd.read_csv(\"new-data/releases_2023_v4release_1027_clinical_PD_Medical_History.csv\"))\n",
    "\n",
    "med_data = med_data[med_data['participant_id'].isin(enrollment_pd['participant_id'])]\n",
    "\n",
    "med_columns = ['on_levodopa', 'on_dopamine_agonist', 'on_other_pd_medications']\n",
    "for col in med_columns:\n",
    "    med_data[col] = med_data[col].apply(lambda x: 1 if x == 'Yes' else 0)\n",
    "\n",
    "med_data = med_data.groupby('participant_id').agg({\n",
    "    'on_levodopa': 'max',\n",
    "    'on_dopamine_agonist': 'max',\n",
    "    'on_other_pd_medications': 'max'\n",
    "}).reset_index()\n",
    "\n",
    "med_data.to_csv(\"cleaned_med_data.csv\", index=False)"
   ]
  },
  {
   "cell_type": "code",
   "execution_count": 4,
   "id": "d7358326",
   "metadata": {},
   "outputs": [
    {
     "data": {
      "text/plain": [
       "on_levodopa\n",
       "1    1730\n",
       "0     966\n",
       "Name: count, dtype: int64"
      ]
     },
     "execution_count": 4,
     "metadata": {},
     "output_type": "execute_result"
    }
   ],
   "source": [
    "med_data.on_levodopa.value_counts()"
   ]
  }
 ],
 "metadata": {
  "kernelspec": {
   "display_name": "erdos_summer_2025",
   "language": "python",
   "name": "python3"
  },
  "language_info": {
   "codemirror_mode": {
    "name": "ipython",
    "version": 3
   },
   "file_extension": ".py",
   "mimetype": "text/x-python",
   "name": "python",
   "nbconvert_exporter": "python",
   "pygments_lexer": "ipython3",
   "version": "3.12.10"
  }
 },
 "nbformat": 4,
 "nbformat_minor": 5
}
