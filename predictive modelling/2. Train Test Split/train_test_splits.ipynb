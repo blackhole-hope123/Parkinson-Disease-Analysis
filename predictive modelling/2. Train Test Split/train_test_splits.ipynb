{
  "cells": [
    {
      "cell_type": "code",
      "execution_count": 1,
      "metadata": {
        "collapsed": true,
        "id": "u2d1caRKI2Ub"
      },
      "outputs": [],
      "source": [
        "import pandas as pd\n",
        "import numpy as np\n",
        "import seaborn as sns\n",
        "import matplotlib.pyplot as plt\n",
        "from sklearn.model_selection import GroupKFold\n",
        "\n",
        "sns.set_style(\"whitegrid\")"
      ]
    },
    {
      "cell_type": "code",
      "execution_count": 2,
      "metadata": {
        "collapsed": true,
        "id": "Yd8_CuazJixV"
      },
      "outputs": [
        {
          "name": "stderr",
          "output_type": "stream",
          "text": [
            "C:\\Users\\smile\\AppData\\Local\\Temp\\ipykernel_14948\\1303433362.py:1: DtypeWarning: Columns (6,7,13,14,15) have mixed types. Specify dtype option on import or set low_memory=False.\n",
            "  data=pd.read_csv(\"complete_data.csv\")\n"
          ]
        }
      ],
      "source": [
        "data=pd.read_csv(\"complete_data.csv\")"
      ]
    },
    {
      "cell_type": "code",
      "execution_count": 3,
      "metadata": {
        "colab": {
          "base_uri": "https://localhost:8080/",
          "height": 88
        },
        "id": "gUc-2QrtydA3",
        "outputId": "01b9ccde-74b5-4e3a-ae20-00ab0622f6b7"
      },
      "outputs": [
        {
          "name": "stdout",
          "output_type": "stream",
          "text": [
            "Splitting data into 5 folds using GroupKFold based on 'patient_id':\n",
            "\n",
            "[    0     2     3 ... 20312 20315 20316]\n",
            "[    1     7     9 ... 20314 20317 20318]\n"
          ]
        }
      ],
      "source": [
        "groups = data['participant_id']\n",
        "\n",
        "# --- 3. Set up GroupKFold ---\n",
        "# This ensures that all visits for a single patient are in the same split.\n",
        "n_splits = 5 # Or another number, e.g., number of unique patients for LeaveOneGroupOut\n",
        "gkf = GroupKFold(n_splits=n_splits)\n",
        "\n",
        "\n",
        "print(f\"Splitting data into {n_splits} folds using GroupKFold based on 'patient_id':\\n\")\n",
        "\n",
        "train_idx, test_idx = next(gkf.split(data, groups=groups))\n",
        "print(train_idx)\n",
        "print(test_idx)\n",
        "train_single, test_single = data.iloc[train_idx], data.iloc[test_idx]\n",
        "train_single.to_csv(\"training_data_2.csv\", index=False)\n",
        "test_single.to_csv(\"testing_data_2.csv\", index=False)\n"
      ]
    }
  ],
  "metadata": {
    "accelerator": "GPU",
    "colab": {
      "gpuType": "T4",
      "provenance": []
    },
    "kernelspec": {
      "display_name": "erdos_summer_2025",
      "language": "python",
      "name": "python3"
    },
    "language_info": {
      "codemirror_mode": {
        "name": "ipython",
        "version": 3
      },
      "file_extension": ".py",
      "mimetype": "text/x-python",
      "name": "python",
      "nbconvert_exporter": "python",
      "pygments_lexer": "ipython3",
      "version": "3.12.11"
    }
  },
  "nbformat": 4,
  "nbformat_minor": 0
}
