{
  "cells": [
    {
      "cell_type": "markdown",
      "metadata": {},
      "source": [
        "### Introduction:\n",
        "\n",
        "There are also over 1000 biospecimen features in the dataset. The intuition is that without specific domain knowledge, it is hard to capture the signals from these biospecimen features. To confirm that, we do a hypothesis testing here. \n",
        "\n",
        "The null hypothesis $H_0$ is: There is no true relationship between the biospecimen features and the UPDRS target scores. The model's performance on the real data is not better than what could be achieved by random chance.\n",
        "\n",
        "The alternative hypothesis $H_1$ is: There is a true, non-random relationship between the biospecimen features and the UPDRS target scores. The model's performance on the real data is significantly better than what would be expected by random chance."
      ]
    },
    {
      "cell_type": "code",
      "execution_count": 35,
      "metadata": {
        "colab": {
          "base_uri": "https://localhost:8080/"
        },
        "id": "dwbId079we2f",
        "outputId": "aa37f32c-fa81-489a-a61c-6d76a1c80827"
      },
      "outputs": [],
      "source": [
        "import pandas as pd\n",
        "import numpy as np\n",
        "from collections import Counter\n",
        "import seaborn as sns\n",
        "import matplotlib.pyplot as plt\n",
        "from sklearn.metrics import mean_absolute_error\n",
        "from collections import defaultdict\n",
        "from sklearn.model_selection import GroupKFold\n",
        "from tqdm.notebook import tqdm\n",
        "from sklearn.ensemble import RandomForestRegressor\n",
        "from sklearn.multioutput import MultiOutputRegressor\n",
        "from sklearn.compose import ColumnTransformer\n",
        "import re\n",
        "from sklearn.impute import KNNImputer, SimpleImputer\n",
        "from sklearn.pipeline import Pipeline\n",
        "import lightgbm as lgb\n",
        "\n",
        "sns.set_style(\"whitegrid\")"
      ]
    },
    {
      "cell_type": "markdown",
      "metadata": {},
      "source": [
        "Since LGBM model cannot handle special characters such as \"/\", \"+\", \"(\", which appeared in the column name of biospecimen features, we need to replace all the special characters by \"_\"."
      ]
    },
    {
      "cell_type": "code",
      "execution_count": 36,
      "metadata": {},
      "outputs": [],
      "source": [
        "data = pd.read_csv(\"../3. EDA and data preprocessing/preprocessed_training_data.csv\")\n",
        "data.columns = [re.sub(r'[^A-Za-z0-9_]+', '_', col) for col in data.columns]\n",
        "\n",
        "with open(\"../3. EDA and data preprocessing/time_dependent_clinical_features.txt\", 'r') as file:\n",
        "    clinical_feature_time_dependent = file.readlines()\n",
        "clinical_feature_time_dependent = [item.strip() for item in clinical_feature_time_dependent]\n",
        "\n",
        "with open(\"../3. EDA and data preprocessing/static_clinical_features.txt\", 'r') as file:\n",
        "    clinical_feature_non_time_dependent = file.readlines()\n",
        "clinical_feature_non_time_dependent = [item.strip() for item in clinical_feature_non_time_dependent]\n",
        "\n",
        "\n",
        "cols=data.columns.tolist()\n",
        "proteomics_features = []\n",
        "\n",
        "for i in cols:\n",
        "  if \"CSF\" in i or \"Plasma\" in i or \"Serum\" in i or \"RNA\" in i:\n",
        "    proteomics_features.append(i)\n",
        "\n",
        "updrs_cols = ['updrs_1', 'updrs_2', 'updrs_3']\n",
        "\n",
        "cols_to_lag = clinical_feature_time_dependent + updrs_cols\n",
        "\n",
        "data = data.sort_values(['participant_id', 'visit_month'])\n",
        "\n",
        "for lag in [1, 2, 3]: \n",
        "    for col in cols_to_lag:\n",
        "        data[f'{col}_lag_{lag}'] = data.groupby('participant_id')[col].shift(lag)\n",
        "\n",
        "lagged_feature_cols = [col for col in data.columns if '_lag_' in col]\n",
        "\n",
        "clinical_or_lagged_features = clinical_feature_non_time_dependent + lagged_feature_cols\n",
        "\n",
        "clinical_or_lagged_features = [re.sub(r'[^A-Za-z0-9_]+', '_', col) for col in clinical_or_lagged_features]\n",
        "\n",
        "final_feature_cols = clinical_or_lagged_features + proteomics_features"
      ]
    },
    {
      "cell_type": "markdown",
      "metadata": {},
      "source": [
        "Since imputers will implicitly drop columns where all the values are missing and there is only one such column in the biospeciman feature, we deleted it from the dataframe and features lists."
      ]
    },
    {
      "cell_type": "code",
      "execution_count": 37,
      "metadata": {
        "colab": {
          "base_uri": "https://localhost:8080/"
        },
        "id": "jFEEMCLVvwkB",
        "outputId": "c80c0199-1a27-41e2-d911-d8e94bd8e828"
      },
      "outputs": [
        {
          "name": "stdout",
          "output_type": "stream",
          "text": [
            "there is/are 1 missing column(s)\n",
            "the missing column(s) is/are:\n",
            "test_value_CSF_a_syn_ng_mL\n",
            "there is no missing column after the removal\n"
          ]
        }
      ],
      "source": [
        "missing_columns = data.columns[data.isnull().all()]\n",
        "print(f\"there is/are {len(missing_columns)} missing column(s)\")\n",
        "print(f\"the missing column(s) is/are:\")\n",
        "for missing_col in missing_columns:\n",
        "    print(missing_col)\n",
        "    data=data.drop(missing_col, axis=1)\n",
        "    while missing_col in final_feature_cols:\n",
        "        final_feature_cols.remove(missing_col)\n",
        "    while missing_col in proteomics_features:\n",
        "        proteomics_features.remove(missing_col)\n",
        "assert len(data.columns[data.isnull().all()])==0\n",
        "\n",
        "print(f\"there is no missing column after the removal\")"
      ]
    },
    {
      "cell_type": "markdown",
      "metadata": {},
      "source": [
        "Besides, duplicated columns will also confuse the LGBM model, and we need to rename them."
      ]
    },
    {
      "cell_type": "code",
      "execution_count": 38,
      "metadata": {},
      "outputs": [
        {
          "name": "stdout",
          "output_type": "stream",
          "text": [
            "there are/is 1 duplicated column(s)\n",
            "the missing column(s) is/are:\n",
            "test_value_Plasma_Casein_kinase_II_2_alpha_2_beta_heterotetramer_RFU\n",
            "there is no duplicated column and no data loss after renaming\n"
          ]
        }
      ],
      "source": [
        "duplicated_cols = data.columns[data.columns.duplicated()]\n",
        "old_number_of_cols = len(data.columns)\n",
        "print(f\"there are/is {len(data.columns)-len(data.columns.unique())} duplicated column(s)\")\n",
        "print(f\"the missing column(s) is/are:\")\n",
        "for dup_col in duplicated_cols:\n",
        "    print(dup_col)\n",
        "counts = Counter()\n",
        "new_columns = []\n",
        "for col in data.columns:\n",
        "    counts[col] += 1\n",
        "    if counts[col] > 1:\n",
        "        new_columns.append(f\"{col}_{counts[col]}\")\n",
        "    else:\n",
        "        new_columns.append(col)\n",
        "\n",
        "data.columns = new_columns\n",
        "new_number_of_cols = len(data.columns)\n",
        "assert (len(data.columns[data.columns.duplicated()])==0) and (old_number_of_cols==new_number_of_cols)\n",
        "print(f\"there is no duplicated column and no data loss after renaming\")"
      ]
    },
    {
      "cell_type": "markdown",
      "metadata": {},
      "source": [
        "### We use the permutation test to do the hypothesis testing, for the following reasons:\n",
        "\n",
        "\n",
        "1. Little assumptions about the data\n",
        "\n",
        "    By EDA, we see that there are heterogeneity and highly skewed distributions in the dataset. Since permutation test makes little assumption about the data, it is a robust and reliable choice.\n",
        "\n",
        "2. Compatibility with the model and cross validation\n",
        "\n",
        "    LGBM is a complicated model and we used cross validation when we evaluate the error of LGBM trained only on the clinical and lag features. To make the experiment closer to the previous training process, we decide to use cross validation. However, both LGBM and cross validation discourages some traditional ways of hypothesis testing, while the permutation test becomes a good choice in this setting.\n"
      ]
    },
    {
      "cell_type": "code",
      "execution_count": null,
      "metadata": {
        "id": "8TC7GuBPiUBR"
      },
      "outputs": [],
      "source": [
        "def run_experiment(X, y, groups, feature_cols):\n",
        "    \"\"\"\n",
        "    Runs a cross-validated experiment for a given set of features.\n",
        "    Handles imputation correctly inside the cross-validation loop.\n",
        "    Supports multi-output targets.\n",
        "    \"\"\"\n",
        "    cv_scores = defaultdict(list)\n",
        "    gkf = GroupKFold(n_splits=5)\n",
        "\n",
        "    preprocessor = ColumnTransformer(\n",
        "        transformers=[\n",
        "            ('proteomics_imputer', KNNImputer(n_neighbors=5), proteomics_features),\n",
        "            ('clinical_imputer', SimpleImputer(strategy='median'), clinical_or_lagged_features)\n",
        "        ],\n",
        "        remainder='passthrough'\n",
        "    )\n",
        "\n",
        "    base_model = lgb.LGBMRegressor(random_state=42, n_estimators=100, verbose=-1)\n",
        "    multi_output_model = MultiOutputRegressor(base_model)\n",
        "\n",
        "\n",
        "    pipeline = Pipeline(steps=[('preprocessor', preprocessor),\n",
        "                               ('regressor', multi_output_model)])\n",
        "    for fold, (train_idx, val_idx) in enumerate(gkf.split(X, y, groups)):\n",
        "\n",
        "        X_train, X_val = X.iloc[train_idx], X.iloc[val_idx]\n",
        "        y_train, y_val = y.iloc[train_idx], y.iloc[val_idx]\n",
        "\n",
        "        X_train, X_val = X_train[feature_cols], X_val[feature_cols]\n",
        "        valid_indices = y_train.dropna().index\n",
        "        X_train_clean = X_train.loc[valid_indices]\n",
        "        y_train_clean = y_train.loc[valid_indices]\n",
        "\n",
        "        pipeline.fit(X_train_clean, y_train_clean)\n",
        "\n",
        "\n",
        "        predictions = pipeline.predict(X_val)\n",
        "        for i in range(predictions.shape[1]):\n",
        "          valid_indices = (~np.isnan(predictions[:,i])) & (~np.isnan(y_val.values[:,i]))\n",
        "          score=-1\n",
        "          if valid_indices.sum() > 0:\n",
        "              score = mean_absolute_error(y_val.values[valid_indices,i], predictions[valid_indices,i])\n",
        "          cv_scores[i].append(score)\n",
        "\n",
        "    return cv_scores"
      ]
    },
    {
      "cell_type": "markdown",
      "metadata": {},
      "source": [
        "#### Calculate the real score with unshuffled data"
      ]
    },
    {
      "cell_type": "code",
      "execution_count": 1,
      "metadata": {
        "colab": {
          "base_uri": "https://localhost:8080/"
        },
        "id": "nflHYH7ZlljC",
        "outputId": "384c3d5c-f982-48db-fc19-4b7559295e43"
      },
      "outputs": [
        {
          "name": "stdout",
          "output_type": "stream",
          "text": [
            "\n",
            "==================================================\n",
            "--- Running Permutation Test for Feature Significance ---\n",
            "Calculating real model score...\n",
            "\n",
            "Average Score with REAL Data: 3.6680\n"
          ]
        }
      ],
      "source": [
        "y_final = data[updrs_cols]\n",
        "groups_final = data['participant_id']\n",
        "\n",
        "print(\"\\n\" + \"=\"*50)\n",
        "print(\"--- Running Permutation Test for Feature Significance ---\")\n",
        "\n",
        "print(\"Calculating real model score...\")\n",
        "real_score = run_experiment(data, y_final, groups_final, final_feature_cols)\n",
        "real_average=np.mean(np.array([np.mean(np.array(real_score[i])) for i in real_score]))\n",
        "print(f\"\\nAverage Score with REAL Data: {real_average:.4f}\")"
      ]
    },
    {
      "cell_type": "markdown",
      "metadata": {},
      "source": [
        "#### Calculate scores by permuting ONLY the proteomics features"
      ]
    },
    {
      "cell_type": "code",
      "execution_count": null,
      "metadata": {},
      "outputs": [
        {
          "name": "stdout",
          "output_type": "stream",
          "text": [
            "\n",
            "Running 100 permutations to build null distribution...\n",
            "  Finished permutation 10/100...\n",
            "  Finished permutation 20/100...\n",
            "  Finished permutation 30/100...\n",
            "  Finished permutation 40/100...\n",
            "  Finished permutation 50/100...\n",
            "  Finished permutation 60/100...\n",
            "  Finished permutation 70/100...\n",
            "  Finished permutation 80/100...\n",
            "  Finished permutation 90/100...\n",
            "  Finished permutation 100/100...\n"
          ]
        }
      ],
      "source": [
        "n_permutations = 100\n",
        "permuted_scores = []\n",
        "print(f\"\\nRunning {n_permutations} permutations to build null distribution...\")\n",
        "for i in range(n_permutations):\n",
        "    X_shuffled = data.copy()\n",
        "    \n",
        "    # Shuffle the values within the proteomics columns\n",
        "    shuffled_proteomics = X_shuffled[proteomics_features].sample(frac=1, random_state=i).values\n",
        "    X_shuffled[proteomics_features] = shuffled_proteomics\n",
        "    \n",
        "    shuffled_score = run_experiment(data, y_shuffled, groups_final, final_feature_cols)\n",
        "    shuffled_average=np.mean(np.array([np.mean(np.array(shuffled_score[i])) for i in shuffled_score]))\n",
        "    permuted_scores.append(shuffled_average)\n",
        "    if (i + 1) % 10 == 0:\n",
        "        print(f\"  Finished permutation {i+1}/{n_permutations}...\")"
      ]
    },
    {
      "cell_type": "markdown",
      "metadata": {},
      "source": [
        "### Calculate the p-value and skectch the MAE distribution"
      ]
    },
    {
      "cell_type": "code",
      "execution_count": null,
      "metadata": {},
      "outputs": [
        {
          "name": "stdout",
          "output_type": "stream",
          "text": [
            "\n",
            "==================================================\n",
            "--- Hypothesis Test Conclusion ---\n",
            "Real Model Score (MAE): 3.6680\n",
            "Mean Permuted Score (MAE): 3.6742\n",
            "P-value: 0.4600\n",
            "==================================================\n"
          ]
        },
        {
          "data": {
            "image/png": "[encoded data removed]",
            "text/plain": [
              "<Figure size 1000x600 with 1 Axes>"
            ]
          },
          "metadata": {},
          "output_type": "display_data"
        },
        {
          "name": "stdout",
          "output_type": "stream",
          "text": [
            "\n",
            "Result: The p-value is not less than 0.05. We fail to reject the null hypothesis.\n",
            "This suggests that the model is not finding a statistically significant signal\n",
            "in the proteomic features.\n"
          ]
        }
      ],
      "source": [
        "real_average_mae = np.mean(real_averages)\n",
        "p_value = np.mean(np.array(permuted_scores) <= np.mean(real_averages))\n",
        "\n",
        "\n",
        "print(\"\\n\" + \"=\"*50)\n",
        "print(\"--- Hypothesis Test Conclusion ---\")\n",
        "print(f\"Real Model Score (MAE): {real_average_mae:.4f}\")\n",
        "print(f\"Mean Permuted Score (MAE): {np.mean(permuted_scores):.4f}\")\n",
        "print(f\"P-value: {p_value:.4f}\")\n",
        "print(\"=\"*50)\n",
        "\n",
        "\n",
        "plt.figure(figsize=(10, 6))\n",
        "sns.histplot(permuted_scores, kde=True, label='Permuted Scores (Null Distribution)')\n",
        "plt.axvline(real_average_mae, color='red', linestyle='--', linewidth=2, label=f'Real Score: {real_average_mae:.4f}')\n",
        "plt.title('Permutation Importance Test Results')\n",
        "plt.xlabel('Mean Absolute Error (MAE)')\n",
        "plt.ylabel('Frequency')\n",
        "plt.legend()\n",
        "plt.show()\n",
        "\n",
        "if p_value < 0.05:\n",
        "    print(\"\\nResult: The p-value is less than 0.05. We reject the null hypothesis.\")\n",
        "    print(\"This provides strong statistical evidence that the features\")\n",
        "    print(\"contain a significant predictive signal.\")\n",
        "else:\n",
        "    print(\"\\nResult: The p-value is not less than 0.05. We fail to reject the null hypothesis.\")\n",
        "    print(\"This suggests that the model is not finding a statistically significant signal\")\n",
        "    print(\"in the proteomic features.\")\n"
      ]
    },
    {
      "cell_type": "markdown",
      "metadata": {},
      "source": [
        "## Conclusion: \n",
        "\n",
        "### Observation: \n",
        "\n",
        "The score with the real data (MAE ≈ 3.67), falls directly in the middle of the blue histogram. There is no clear separation between the real score and the scores achieved by randomly permuting the biospecimen features.\n",
        "\n",
        "### Analysis\n",
        "Since the p-value is high, we cannot reject the null hypothesis, so we conclude that there is no statistically significant signals in the biospecimen features."
      ]
    }
  ],
  "metadata": {
    "accelerator": "GPU",
    "colab": {
      "gpuType": "T4",
      "provenance": []
    },
    "kernelspec": {
      "display_name": "erdos_summer_2025",
      "language": "python",
      "name": "python3"
    },
    "language_info": {
      "codemirror_mode": {
        "name": "ipython",
        "version": 3
      },
      "file_extension": ".py",
      "mimetype": "text/x-python",
      "name": "python",
      "nbconvert_exporter": "python",
      "pygments_lexer": "ipython3",
      "version": "3.12.11"
    }
  },
  "nbformat": 4,
  "nbformat_minor": 0
}
