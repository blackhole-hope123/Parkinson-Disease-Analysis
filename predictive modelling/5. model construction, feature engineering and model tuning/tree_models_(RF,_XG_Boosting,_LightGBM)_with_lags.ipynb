{
  "cells": [
    {
      "cell_type": "code",
      "execution_count": 1,
      "metadata": {
        "colab": {
          "base_uri": "https://localhost:8080/",
          "height": 366
        },
        "id": "PXXqPcHrQM0A",
        "outputId": "d5de7e43-05eb-477e-f2f7-7b2ab314febc"
      },
      "outputs": [],
      "source": [
        "import pandas as pd\n",
        "import numpy as np\n",
        "import seaborn as sns\n",
        "import matplotlib.pyplot as plt\n",
        "from sklearn.metrics import mean_absolute_error\n",
        "from collections import defaultdict\n",
        "from sklearn.model_selection import GroupKFold\n",
        "from sklearn.impute import SimpleImputer\n",
        "from tqdm.notebook import tqdm\n",
        "from sklearn.ensemble import RandomForestRegressor\n",
        "from sklearn.multioutput import MultiOutputRegressor\n",
        "import xgboost as xgb\n",
        "import lightgbm as lgb\n",
        "import warnings\n",
        "warnings.filterwarnings(\"ignore\")\n",
        "\n",
        "sns.set_style(\"whitegrid\")\n",
        "\n"
      ]
    },
    {
      "cell_type": "code",
      "execution_count": 3,
      "metadata": {},
      "outputs": [],
      "source": [
        "data=pd.read_csv(\"../3. EDA and data preprocessing/preprocessed_training_data.csv\")\n",
        "\n",
        "with open(\"../3. EDA and data preprocessing/time_dependent_clinical_features.txt\", 'r') as file:\n",
        "    clinical_feature_time_dependent = file.readlines()\n",
        "clinical_feature_time_dependent = [item.strip() for item in clinical_feature_time_dependent]\n",
        "\n",
        "with open(\"../3. EDA and data preprocessing/static_clinical_features.txt\", 'r') as file:\n",
        "    clinical_feature_non_time_dependent = file.readlines()\n",
        "clinical_feature_non_time_dependent = [item.strip() for item in clinical_feature_non_time_dependent] "
      ]
    },
    {
      "cell_type": "code",
      "execution_count": 4,
      "metadata": {},
      "outputs": [],
      "source": [
        "updrs_cols = ['updrs_1', 'updrs_2', 'updrs_3']\n",
        "cols_to_lag = updrs_cols + clinical_feature_time_dependent\n",
        "\n",
        "data = data.sort_values(['participant_id', 'visit_month'])\n",
        "\n",
        "for lag in [1, 2, 3]: \n",
        "    for col in cols_to_lag:\n",
        "        data[f'{col}_lag_{lag}'] = data.groupby('participant_id')[col].shift(lag)\n",
        "\n",
        "\n",
        "lagged_feature_cols = [col for col in data.columns if '_lag_' in col]\n",
        "final_feature_cols = clinical_feature_non_time_dependent + lagged_feature_cols"
      ]
    },
    {
      "cell_type": "code",
      "execution_count": 5,
      "metadata": {
        "colab": {
          "base_uri": "https://localhost:8080/",
          "height": 66,
          "referenced_widgets": [
            "10d6457925964b45b7086a266ea5b265",
            "915bfbbb22aa4d6e818462175ed53784",
            "85e719e561464524a1f5f5dbe489b20d",
            "4d60ee7dc65e41e3b09f12598e9cf8e3",
            "55704e24d64f4cc28ea80588556d5aa8",
            "d2c5cfb2da7144ff879bc5fde4f736db",
            "d791e02ced9a4304bd1c0072a5f47b99",
            "d8cdd4b34895460dbf9d0c2b66e866c3",
            "a1bf83091c654c2ea03b455762da0859",
            "e879ac362f7648a2be775d11a2848137",
            "25db583d20de4615a3207e64c4531919"
          ]
        },
        "id": "I1CIUE2BUHop",
        "outputId": "f2753f54-338b-407d-83b3-ea699210de4e"
      },
      "outputs": [
        {
          "name": "stdout",
          "output_type": "stream",
          "text": [
            "Starting cross-validation for Random Forest with Lagged Features...\n"
          ]
        },
        {
          "data": {
            "application/vnd.jupyter.widget-view+json": {
              "model_id": "6de05e5d0f574625b6f356145ce2db76",
              "version_major": 2,
              "version_minor": 0
            },
            "text/plain": [
              "Running CV:   0%|          | 0/5 [00:00<?, ?it/s]"
            ]
          },
          "metadata": {},
          "output_type": "display_data"
        }
      ],
      "source": [
        "n_splits = 5\n",
        "gkf = GroupKFold(n_splits=n_splits)\n",
        "\n",
        "mae_results = {}\n",
        "mae_results[\"0\"]=defaultdict(list)\n",
        "mae_results[\"1\"]=defaultdict(list)\n",
        "mae_results[\"2\"]=defaultdict(list)\n",
        "\n",
        "cv_split_generator = gkf.split(data, groups=data[\"participant_id\"])\n",
        "\n",
        "print(\"Starting cross-validation for Random Forest with Lagged Features...\")\n",
        "\n",
        "for fold, (train_idx, test_idx) in enumerate(tqdm(cv_split_generator, total=n_splits, desc=\"Running CV\")):\n",
        "    train_fold = data.iloc[train_idx]\n",
        "    holdout_fold = data.iloc[test_idx]\n",
        "\n",
        "\n",
        "    X_train, y_train = train_fold[final_feature_cols], train_fold[updrs_cols]\n",
        "    X_holdout, y_holdout = holdout_fold[final_feature_cols], holdout_fold[updrs_cols]\n",
        "\n",
        "\n",
        "    imputer = SimpleImputer(strategy='median')\n",
        "    imputer.fit(X_train)\n",
        "\n",
        "    X_train_imputed = pd.DataFrame(imputer.transform(X_train), columns=final_feature_cols, index=X_train.index)\n",
        "    X_holdout_imputed = pd.DataFrame(imputer.transform(X_holdout), columns=final_feature_cols, index=X_holdout.index)\n",
        "\n",
        "\n",
        "    y_train_clean = y_train.dropna()\n",
        "    X_train_clean = X_train_imputed.loc[y_train_clean.index]\n",
        "\n",
        "    xgb_estimator = xgb.XGBRegressor(\n",
        "        objective='reg:squarederror',\n",
        "        n_estimators=1000,  \n",
        "        learning_rate=0.05,\n",
        "        max_depth=5,\n",
        "        subsample=0.8,\n",
        "        colsample_bytree=0.8,\n",
        "        random_state=42,\n",
        "        n_jobs=-1,\n",
        "        tree_method='hist' \n",
        "    )\n",
        "    model1 = MultiOutputRegressor(xgb_estimator)\n",
        "\n",
        "\n",
        "    rf = RandomForestRegressor(n_estimators=100, random_state=42, n_jobs=-1)\n",
        "    model2 = MultiOutputRegressor(rf)\n",
        "\n",
        "    lgbm_estimator = lgb.LGBMRegressor(\n",
        "        objective='regression_l1',\n",
        "        n_estimators=1000,\n",
        "        learning_rate=0.05,\n",
        "        num_leaves=31,\n",
        "        max_depth=-1,\n",
        "        n_jobs=-1,\n",
        "        random_state=42,\n",
        "        verbose=-1\n",
        "    )\n",
        "    model3 = MultiOutputRegressor(lgbm_estimator)\n",
        "\n",
        "    models=[model1, model2, model3]\n",
        "    for i, model in enumerate(models):\n",
        "      model.fit(X_train_clean, y_train_clean)\n",
        "\n",
        "      predictions_array = model.predict(X_holdout_imputed)\n",
        "      predictions_df = pd.DataFrame(predictions_array, index=X_holdout.index, columns=updrs_cols)\n",
        "\n",
        "      for col in updrs_cols:\n",
        "          actual_values = y_holdout[col]\n",
        "          predicted_values = predictions_df[col]\n",
        "\n",
        "          valid_indices = actual_values.notna()\n",
        "          mae = mean_absolute_error(actual_values[valid_indices], predicted_values[valid_indices])\n",
        "\n",
        "          mae_results[f\"{i}\"][col].append(mae)\n"
      ]
    },
    {
      "cell_type": "code",
      "execution_count": 7,
      "metadata": {
        "colab": {
          "base_uri": "https://localhost:8080/"
        },
        "id": "KR-Kj2Y2HdbX",
        "outputId": "e4094dc1-7a7c-46ac-d232-69f574e54154"
      },
      "outputs": [
        {
          "name": "stdout",
          "output_type": "stream",
          "text": [
            "\n",
            "--- Cross-Validation Results for XG Boosting w/ Lags ---\n",
            "Average MAE for updrs_1: 2.7464 (+/- 0.0327)\n",
            "Average MAE for updrs_2: 2.7410 (+/- 0.0116)\n",
            "Average MAE for updrs_3: 5.9895 (+/- 0.0658)\n",
            "\n",
            "--- Cross-Validation Results for Random Forest w/ Lags ---\n",
            "Average MAE for updrs_1: 2.7986 (+/- 0.0270)\n",
            "Average MAE for updrs_2: 2.7826 (+/- 0.0238)\n",
            "Average MAE for updrs_3: 6.0751 (+/- 0.0542)\n",
            "\n",
            "--- Cross-Validation Results for LightGBM w/ Lags ---\n",
            "Average MAE for updrs_1: 2.6568 (+/- 0.0341)\n",
            "Average MAE for updrs_2: 2.5800 (+/- 0.0286)\n",
            "Average MAE for updrs_3: 5.8017 (+/- 0.0443)\n"
          ]
        }
      ],
      "source": [
        "for i in range(0,3):\n",
        "  if i==0:\n",
        "    print(\"\\n--- Cross-Validation Results for XG Boosting w/ Lags ---\")\n",
        "  elif i==1:\n",
        "    print(\"\\n--- Cross-Validation Results for Random Forest w/ Lags ---\")\n",
        "  else:\n",
        "    print(\"\\n--- Cross-Validation Results for LightGBM w/ Lags ---\")\n",
        "  for col, scores in mae_results[f\"{i}\"].items():\n",
        "      avg_mae = np.mean(scores)\n",
        "      std_mae = np.std(scores)\n",
        "      print(f\"Average MAE for {col}: {avg_mae:.4f} (+/- {std_mae:.4f})\")"
      ]
    },
    {
      "cell_type": "markdown",
      "metadata": {
        "id": "8N2eCL706D76"
      },
      "source": [
        "# Observations:\n",
        "\n",
        "Compared to the baseline models, the tree models with lags achieved a large improvement. This confirm with our knowledge about time series data: the trend is the most important feature.\n",
        "\n",
        "Since the LightGBM model has the best performance here, we will use that model in the subsequent modelling process.\n",
        "\n",
        "In order to prepare for the later feature engineering, we roughly look at the feature importance for the LightBGM model in the last fold."
      ]
    },
    {
      "cell_type": "code",
      "execution_count": 8,
      "metadata": {
        "colab": {
          "base_uri": "https://localhost:8080/",
          "height": 1000
        },
        "id": "feuqLAG0EIxI",
        "outputId": "79ed0de7-b8d5-447a-bb83-fb5d99dfa3ed"
      },
      "outputs": [
        {
          "name": "stdout",
          "output_type": "stream",
          "text": [
            "\n",
            "--- Feature Importance (from last fold's model) ---\n",
            "Top 20 Features (Averaged Across UPDRS Targets):\n",
            "                                         updrs_1  updrs_2  updrs_3  \\\n",
            "updrs_3_lag_1                               1944     2524     2627   \n",
            "age_at_baseline                             1225     2370     2119   \n",
            "updrs_3_lag_3                               1471     1735     2014   \n",
            "updrs_3_lag_2                               1606     1030     2386   \n",
            "updrs_2_lag_3                                953     2525     1491   \n",
            "visit_month                                 1480      860     2601   \n",
            "updrs_1_lag_1                               1801     1721     1146   \n",
            "updrs_1_lag_2                               1268     2530      784   \n",
            "updrs_2_lag_1                               1184     1922      839   \n",
            "updrs_2_lag_2                               1057     1851      696   \n",
            "updrs_1_lag_3                               1266     1657      642   \n",
            "sbr_caudate_l_lag_3                          854      410      438   \n",
            "sbr_caudate_r_lag_3                          915      299      459   \n",
            "sbr_putamen_l_lag_3                          821      306      383   \n",
            "roi5_right_middle_Fractional Anisotropy      277      971      189   \n",
            "sbr_putamen_r_lag_3                          753      283      357   \n",
            "ref1_left_reference_Eigenvalue2              253       95     1002   \n",
            "sbr_caudate_l_lag_2                          544      374      393   \n",
            "roi4_right_rostral_Eigenvalue2               202       87     1002   \n",
            "sbr_caudate_r_lag_1                          513      297      473   \n",
            "\n",
            "                                         average_importance  \n",
            "updrs_3_lag_1                                   2365.000000  \n",
            "age_at_baseline                                 1904.666667  \n",
            "updrs_3_lag_3                                   1740.000000  \n",
            "updrs_3_lag_2                                   1674.000000  \n",
            "updrs_2_lag_3                                   1656.333333  \n",
            "visit_month                                     1647.000000  \n",
            "updrs_1_lag_1                                   1556.000000  \n",
            "updrs_1_lag_2                                   1527.333333  \n",
            "updrs_2_lag_1                                   1315.000000  \n",
            "updrs_2_lag_2                                   1201.333333  \n",
            "updrs_1_lag_3                                   1188.333333  \n",
            "sbr_caudate_l_lag_3                              567.333333  \n",
            "sbr_caudate_r_lag_3                              557.666667  \n",
            "sbr_putamen_l_lag_3                              503.333333  \n",
            "roi5_right_middle_Fractional Anisotropy          479.000000  \n",
            "sbr_putamen_r_lag_3                              464.333333  \n",
            "ref1_left_reference_Eigenvalue2                  450.000000  \n",
            "sbr_caudate_l_lag_2                              437.000000  \n",
            "roi4_right_rostral_Eigenvalue2                   430.333333  \n",
            "sbr_caudate_r_lag_1                              427.666667  \n"
          ]
        },
        {
          "data": {
            "image/png": "[encoded data removed]",
            "text/plain": [
              "<Figure size 1500x800 with 1 Axes>"
            ]
          },
          "metadata": {},
          "output_type": "display_data"
        }
      ],
      "source": [
        "model=models[-1]\n",
        "print(\"\\n--- Feature Importance (from last fold's model) ---\")\n",
        "importance_df = pd.DataFrame(index=final_feature_cols)\n",
        "\n",
        "for i, estimator in enumerate(model.estimators_):\n",
        "    target_name = updrs_cols[i]\n",
        "    importances = estimator.feature_importances_\n",
        "    importance_df[target_name] = importances\n",
        "\n",
        "importance_df['average_importance'] = importance_df.mean(axis=1)\n",
        "importance_df.to_csv(\"feature_importance_LGBM.csv\")\n",
        "top_features = importance_df.sort_values(by='average_importance', ascending=False).head(20)\n",
        "\n",
        "print(\"Top 20 Features (Averaged Across UPDRS Targets):\")\n",
        "print(top_features)\n",
        "\n",
        "top_features[updrs_cols].plot(kind='bar', figsize=(15, 8))\n",
        "plt.title('Top 20 Feature Importances for Predicting UPDRS Scores')\n",
        "plt.ylabel('Importance (Mean Decrease in Impurity)')\n",
        "plt.xticks(rotation=45, ha=\"right\")\n",
        "plt.tight_layout()\n",
        "plt.show()"
      ]
    },
    {
      "cell_type": "markdown",
      "metadata": {
        "id": "4pJukzV67iCk"
      },
      "source": [
        "# Analysis\n",
        "\n",
        "### The Patient's Most Recent History has great importance:\n",
        "\n",
        "The most important features by a large margin will be the lagged versions of the UPDRS scores themselves. This confirms with our intuition that the disease is strongly autoregressive: the best predictor of a patient's near-future state is their immediate past state.\n",
        "\n",
        "### Time and Age are Fundamental:\n",
        "\n",
        "`visit_month` and `age_at_baseline` will be the next most important features. They provide the fundamental context of \"where\" the patient is in their disease timeline and their biological starting point.\n",
        "\n",
        "### Other Clinical Markers Provide Additional Signal:\n",
        "\n",
        "Lagged, time-dependent clinical features, especially the SBR (striatal binding ratio) imaging markers like sbr_putamen_r_lag_1, will likely rank as moderately important. They provide predictive information that the lagged UPDRS scores alone don't capture.\n",
        "\n",
        "### Other Static Demographics are Less Impactful:\n",
        "\n",
        "The remaining static features (e.g., race, education level) will have much lower importance scores compared to the dynamic (time-varying) features."
      ]
    }
  ],
  "metadata": {
    "accelerator": "GPU",
    "colab": {
      "gpuType": "T4",
      "provenance": []
    },
    "kernelspec": {
      "display_name": "erdos_summer_2025",
      "language": "python",
      "name": "python3"
    },
    "language_info": {
      "codemirror_mode": {
        "name": "ipython",
        "version": 3
      },
      "file_extension": ".py",
      "mimetype": "text/x-python",
      "name": "python",
      "nbconvert_exporter": "python",
      "pygments_lexer": "ipython3",
      "version": "3.12.11"
    },
    "widgets": {
      "application/vnd.jupyter.widget-state+json": {
        "10d6457925964b45b7086a266ea5b265": {
          "model_module": "@jupyter-widgets/controls",
          "model_module_version": "1.5.0",
          "model_name": "HBoxModel",
          "state": {
            "_dom_classes": [],
            "_model_module": "@jupyter-widgets/controls",
            "_model_module_version": "1.5.0",
            "_model_name": "HBoxModel",
            "_view_count": null,
            "_view_module": "@jupyter-widgets/controls",
            "_view_module_version": "1.5.0",
            "_view_name": "HBoxView",
            "box_style": "",
            "children": [
              "IPY_MODEL_915bfbbb22aa4d6e818462175ed53784",
              "IPY_MODEL_85e719e561464524a1f5f5dbe489b20d",
              "IPY_MODEL_4d60ee7dc65e41e3b09f12598e9cf8e3"
            ],
            "layout": "IPY_MODEL_55704e24d64f4cc28ea80588556d5aa8"
          }
        },
        "25db583d20de4615a3207e64c4531919": {
          "model_module": "@jupyter-widgets/controls",
          "model_module_version": "1.5.0",
          "model_name": "DescriptionStyleModel",
          "state": {
            "_model_module": "@jupyter-widgets/controls",
            "_model_module_version": "1.5.0",
            "_model_name": "DescriptionStyleModel",
            "_view_count": null,
            "_view_module": "@jupyter-widgets/base",
            "_view_module_version": "1.2.0",
            "_view_name": "StyleView",
            "description_width": ""
          }
        },
        "4d60ee7dc65e41e3b09f12598e9cf8e3": {
          "model_module": "@jupyter-widgets/controls",
          "model_module_version": "1.5.0",
          "model_name": "HTMLModel",
          "state": {
            "_dom_classes": [],
            "_model_module": "@jupyter-widgets/controls",
            "_model_module_version": "1.5.0",
            "_model_name": "HTMLModel",
            "_view_count": null,
            "_view_module": "@jupyter-widgets/controls",
            "_view_module_version": "1.5.0",
            "_view_name": "HTMLView",
            "description": "",
            "description_tooltip": null,
            "layout": "IPY_MODEL_e879ac362f7648a2be775d11a2848137",
            "placeholder": "​",
            "style": "IPY_MODEL_25db583d20de4615a3207e64c4531919",
            "value": " 5/5 [05:48&lt;00:00, 69.28s/it]"
          }
        },
        "55704e24d64f4cc28ea80588556d5aa8": {
          "model_module": "@jupyter-widgets/base",
          "model_module_version": "1.2.0",
          "model_name": "LayoutModel",
          "state": {
            "_model_module": "@jupyter-widgets/base",
            "_model_module_version": "1.2.0",
            "_model_name": "LayoutModel",
            "_view_count": null,
            "_view_module": "@jupyter-widgets/base",
            "_view_module_version": "1.2.0",
            "_view_name": "LayoutView",
            "align_content": null,
            "align_items": null,
            "align_self": null,
            "border": null,
            "bottom": null,
            "display": null,
            "flex": null,
            "flex_flow": null,
            "grid_area": null,
            "grid_auto_columns": null,
            "grid_auto_flow": null,
            "grid_auto_rows": null,
            "grid_column": null,
            "grid_gap": null,
            "grid_row": null,
            "grid_template_areas": null,
            "grid_template_columns": null,
            "grid_template_rows": null,
            "height": null,
            "justify_content": null,
            "justify_items": null,
            "left": null,
            "margin": null,
            "max_height": null,
            "max_width": null,
            "min_height": null,
            "min_width": null,
            "object_fit": null,
            "object_position": null,
            "order": null,
            "overflow": null,
            "overflow_x": null,
            "overflow_y": null,
            "padding": null,
            "right": null,
            "top": null,
            "visibility": null,
            "width": null
          }
        },
        "85e719e561464524a1f5f5dbe489b20d": {
          "model_module": "@jupyter-widgets/controls",
          "model_module_version": "1.5.0",
          "model_name": "FloatProgressModel",
          "state": {
            "_dom_classes": [],
            "_model_module": "@jupyter-widgets/controls",
            "_model_module_version": "1.5.0",
            "_model_name": "FloatProgressModel",
            "_view_count": null,
            "_view_module": "@jupyter-widgets/controls",
            "_view_module_version": "1.5.0",
            "_view_name": "ProgressView",
            "bar_style": "success",
            "description": "",
            "description_tooltip": null,
            "layout": "IPY_MODEL_d8cdd4b34895460dbf9d0c2b66e866c3",
            "max": 5,
            "min": 0,
            "orientation": "horizontal",
            "style": "IPY_MODEL_a1bf83091c654c2ea03b455762da0859",
            "value": 5
          }
        },
        "915bfbbb22aa4d6e818462175ed53784": {
          "model_module": "@jupyter-widgets/controls",
          "model_module_version": "1.5.0",
          "model_name": "HTMLModel",
          "state": {
            "_dom_classes": [],
            "_model_module": "@jupyter-widgets/controls",
            "_model_module_version": "1.5.0",
            "_model_name": "HTMLModel",
            "_view_count": null,
            "_view_module": "@jupyter-widgets/controls",
            "_view_module_version": "1.5.0",
            "_view_name": "HTMLView",
            "description": "",
            "description_tooltip": null,
            "layout": "IPY_MODEL_d2c5cfb2da7144ff879bc5fde4f736db",
            "placeholder": "​",
            "style": "IPY_MODEL_d791e02ced9a4304bd1c0072a5f47b99",
            "value": "Running CV: 100%"
          }
        },
        "a1bf83091c654c2ea03b455762da0859": {
          "model_module": "@jupyter-widgets/controls",
          "model_module_version": "1.5.0",
          "model_name": "ProgressStyleModel",
          "state": {
            "_model_module": "@jupyter-widgets/controls",
            "_model_module_version": "1.5.0",
            "_model_name": "ProgressStyleModel",
            "_view_count": null,
            "_view_module": "@jupyter-widgets/base",
            "_view_module_version": "1.2.0",
            "_view_name": "StyleView",
            "bar_color": null,
            "description_width": ""
          }
        },
        "d2c5cfb2da7144ff879bc5fde4f736db": {
          "model_module": "@jupyter-widgets/base",
          "model_module_version": "1.2.0",
          "model_name": "LayoutModel",
          "state": {
            "_model_module": "@jupyter-widgets/base",
            "_model_module_version": "1.2.0",
            "_model_name": "LayoutModel",
            "_view_count": null,
            "_view_module": "@jupyter-widgets/base",
            "_view_module_version": "1.2.0",
            "_view_name": "LayoutView",
            "align_content": null,
            "align_items": null,
            "align_self": null,
            "border": null,
            "bottom": null,
            "display": null,
            "flex": null,
            "flex_flow": null,
            "grid_area": null,
            "grid_auto_columns": null,
            "grid_auto_flow": null,
            "grid_auto_rows": null,
            "grid_column": null,
            "grid_gap": null,
            "grid_row": null,
            "grid_template_areas": null,
            "grid_template_columns": null,
            "grid_template_rows": null,
            "height": null,
            "justify_content": null,
            "justify_items": null,
            "left": null,
            "margin": null,
            "max_height": null,
            "max_width": null,
            "min_height": null,
            "min_width": null,
            "object_fit": null,
            "object_position": null,
            "order": null,
            "overflow": null,
            "overflow_x": null,
            "overflow_y": null,
            "padding": null,
            "right": null,
            "top": null,
            "visibility": null,
            "width": null
          }
        },
        "d791e02ced9a4304bd1c0072a5f47b99": {
          "model_module": "@jupyter-widgets/controls",
          "model_module_version": "1.5.0",
          "model_name": "DescriptionStyleModel",
          "state": {
            "_model_module": "@jupyter-widgets/controls",
            "_model_module_version": "1.5.0",
            "_model_name": "DescriptionStyleModel",
            "_view_count": null,
            "_view_module": "@jupyter-widgets/base",
            "_view_module_version": "1.2.0",
            "_view_name": "StyleView",
            "description_width": ""
          }
        },
        "d8cdd4b34895460dbf9d0c2b66e866c3": {
          "model_module": "@jupyter-widgets/base",
          "model_module_version": "1.2.0",
          "model_name": "LayoutModel",
          "state": {
            "_model_module": "@jupyter-widgets/base",
            "_model_module_version": "1.2.0",
            "_model_name": "LayoutModel",
            "_view_count": null,
            "_view_module": "@jupyter-widgets/base",
            "_view_module_version": "1.2.0",
            "_view_name": "LayoutView",
            "align_content": null,
            "align_items": null,
            "align_self": null,
            "border": null,
            "bottom": null,
            "display": null,
            "flex": null,
            "flex_flow": null,
            "grid_area": null,
            "grid_auto_columns": null,
            "grid_auto_flow": null,
            "grid_auto_rows": null,
            "grid_column": null,
            "grid_gap": null,
            "grid_row": null,
            "grid_template_areas": null,
            "grid_template_columns": null,
            "grid_template_rows": null,
            "height": null,
            "justify_content": null,
            "justify_items": null,
            "left": null,
            "margin": null,
            "max_height": null,
            "max_width": null,
            "min_height": null,
            "min_width": null,
            "object_fit": null,
            "object_position": null,
            "order": null,
            "overflow": null,
            "overflow_x": null,
            "overflow_y": null,
            "padding": null,
            "right": null,
            "top": null,
            "visibility": null,
            "width": null
          }
        },
        "e879ac362f7648a2be775d11a2848137": {
          "model_module": "@jupyter-widgets/base",
          "model_module_version": "1.2.0",
          "model_name": "LayoutModel",
          "state": {
            "_model_module": "@jupyter-widgets/base",
            "_model_module_version": "1.2.0",
            "_model_name": "LayoutModel",
            "_view_count": null,
            "_view_module": "@jupyter-widgets/base",
            "_view_module_version": "1.2.0",
            "_view_name": "LayoutView",
            "align_content": null,
            "align_items": null,
            "align_self": null,
            "border": null,
            "bottom": null,
            "display": null,
            "flex": null,
            "flex_flow": null,
            "grid_area": null,
            "grid_auto_columns": null,
            "grid_auto_flow": null,
            "grid_auto_rows": null,
            "grid_column": null,
            "grid_gap": null,
            "grid_row": null,
            "grid_template_areas": null,
            "grid_template_columns": null,
            "grid_template_rows": null,
            "height": null,
            "justify_content": null,
            "justify_items": null,
            "left": null,
            "margin": null,
            "max_height": null,
            "max_width": null,
            "min_height": null,
            "min_width": null,
            "object_fit": null,
            "object_position": null,
            "order": null,
            "overflow": null,
            "overflow_x": null,
            "overflow_y": null,
            "padding": null,
            "right": null,
            "top": null,
            "visibility": null,
            "width": null
          }
        }
      }
    }
  },
  "nbformat": 4,
  "nbformat_minor": 0
}
