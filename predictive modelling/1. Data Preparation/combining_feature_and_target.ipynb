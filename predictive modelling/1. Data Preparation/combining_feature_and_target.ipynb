{
 "cells": [
  {
   "cell_type": "code",
   "execution_count": 1,
   "id": "cc0c5c69",
   "metadata": {},
   "outputs": [],
   "source": [
    "# To import functions from utils.py, which is in the parent diretory\n",
    "\n",
    "import sys\n",
    "import os\n",
    "\n",
    "current_dir = os.path.dirname(os.path.abspath('__file__')) \n",
    "\n",
    "parent_dir = os.path.dirname(current_dir)\n",
    "\n",
    "sys.path.append(parent_dir)"
   ]
  },
  {
   "cell_type": "code",
   "execution_count": 2,
   "id": "a04201a3",
   "metadata": {},
   "outputs": [],
   "source": [
    "import pandas as pd\n",
    "import numpy as np\n",
    "import seaborn as sns\n",
    "import matplotlib.pyplot as plt\n",
    "from utils import delete_patients_with_the_same_GUID, delete_patients_without_GUID, averaging_scores\n",
    "\n",
    "sns.set_style(\"whitegrid\")"
   ]
  },
  {
   "cell_type": "markdown",
   "id": "aecb2755",
   "metadata": {},
   "source": [
    "We observed previously that there are patients with different `participant_id` yet with the same `GUID`, and that these patients are likely to be the same person, since their age only increased 1 after 1 year and their updrs scores are rather close. So we decide to remove observations if they correspond to only 1 `GUID` but more than two different `participant_id`'s. The following codes execute this idea for targets and all potential features."
   ]
  },
  {
   "cell_type": "markdown",
   "id": "0cd022b4",
   "metadata": {},
   "source": [
    "This is a demonstration of `delete_patients_with_the_same_GUID` and `delete_patients_without_GUID` function for the `updrs_1` table."
   ]
  },
  {
   "cell_type": "code",
   "execution_count": 5,
   "id": "4594b060",
   "metadata": {},
   "outputs": [],
   "source": [
    "updrs_1=pd.read_csv(\"../new-data/releases_2023_v4release_1027_clinical_MDS_UPDRS_Part_I.csv\")"
   ]
  },
  {
   "cell_type": "markdown",
   "id": "68e18ac9",
   "metadata": {},
   "source": [
    "Observe"
   ]
  },
  {
   "cell_type": "code",
   "execution_count": 6,
   "id": "0e72adc5",
   "metadata": {},
   "outputs": [],
   "source": [
    "updrs_1_cleaned=delete_patients_with_the_same_GUID(updrs_1)"
   ]
  },
  {
   "cell_type": "markdown",
   "id": "535b5afc",
   "metadata": {},
   "source": [
    "Sanity check for delete_patients_with_the_same_GUID"
   ]
  },
  {
   "cell_type": "code",
   "execution_count": 8,
   "id": "06d30d0f",
   "metadata": {},
   "outputs": [],
   "source": [
    "groups=updrs_1_cleaned.groupby(by=\"GUID\")\n",
    "for i,df in groups:\n",
    "    if len(df.participant_id.unique())>=2:\n",
    "        print(df)"
   ]
  },
  {
   "cell_type": "markdown",
   "id": "58b9b769",
   "metadata": {},
   "source": [
    "There is nothing printed out, meaning there is not a GUID which corresponds to 2 or more participant ids."
   ]
  },
  {
   "cell_type": "markdown",
   "id": "b26e6268",
   "metadata": {},
   "source": [
    "Also, observe that there are patients who took a updrs assessment test multiple times in a single month or during the screening time. Since the base unit for our time series analysis is month, we are going to average them so that each patient has at most one score for each month."
   ]
  },
  {
   "cell_type": "code",
   "execution_count": null,
   "id": "2b615697",
   "metadata": {},
   "outputs": [
    {
     "name": "stdout",
     "output_type": "stream",
     "text": [
      "Processing screening records by participant...\n",
      "Consolidated 1009 screening records into 1005 baseline records.\n",
      "Processing regular visit records by participant and month...\n",
      "Consolidated 19444 regular records into 19434 records.\n",
      "Processing screening records by participant...\n",
      "Consolidated 319 screening records into 319 baseline records.\n",
      "Processing regular visit records by participant and month...\n",
      "Consolidated 12314 regular records into 12309 records.\n"
     ]
    }
   ],
   "source": [
    "updrs_1=pd.read_csv(\"../new-data/releases_2023_v4release_1027_clinical_MDS_UPDRS_Part_I.csv\")\n",
    "updrs_1_cleaned=delete_patients_with_the_same_GUID(updrs_1)\n",
    "updrs_1_cleaned=averaging_scores(updrs_1_cleaned, [\"mds_updrs_part_i_summary_score\"])"
   ]
  },
  {
   "cell_type": "code",
   "execution_count": null,
   "id": "b4dce97a",
   "metadata": {},
   "outputs": [
    {
     "name": "stdout",
     "output_type": "stream",
     "text": [
      "Processing screening records by participant...\n",
      "Consolidated 1004 screening records into 1000 baseline records.\n",
      "Processing regular visit records by participant and month...\n",
      "Consolidated 20366 regular records into 20356 records.\n",
      "Processing screening records by participant...\n",
      "Consolidated 319 screening records into 319 baseline records.\n",
      "Processing regular visit records by participant and month...\n",
      "Consolidated 13240 regular records into 13235 records.\n"
     ]
    }
   ],
   "source": [
    "updrs_2=pd.read_csv(\"../new-data/releases_2023_v4release_1027_clinical_MDS_UPDRS_Part_II.csv\")\n",
    "updrs_2_cleaned=delete_patients_with_the_same_GUID(updrs_2)\n",
    "updrs_2_cleaned=averaging_scores(updrs_2_cleaned, [\"mds_updrs_part_ii_summary_score\"])"
   ]
  },
  {
   "cell_type": "code",
   "execution_count": null,
   "id": "322925b5",
   "metadata": {},
   "outputs": [
    {
     "name": "stdout",
     "output_type": "stream",
     "text": [
      "Processing screening records by participant...\n",
      "Consolidated 1044 screening records into 1020 baseline records.\n",
      "Processing regular visit records by participant and month...\n",
      "Consolidated 22500 regular records into 20478 records.\n",
      "Processing screening records by participant...\n",
      "Consolidated 319 screening records into 318 baseline records.\n",
      "Processing regular visit records by participant and month...\n",
      "Consolidated 14343 regular records into 13415 records.\n"
     ]
    }
   ],
   "source": [
    "updrs_3=pd.read_csv(\"../new-data/releases_2023_v4release_1027_clinical_MDS_UPDRS_Part_III.csv\")\n",
    "updrs_3_cleaned=delete_patients_with_the_same_GUID(updrs_3)\n",
    "updrs_3_cleaned=averaging_scores(updrs_3_cleaned, [\"mds_updrs_part_iii_summary_score\"])"
   ]
  },
  {
   "cell_type": "code",
   "execution_count": null,
   "id": "d2fcd035",
   "metadata": {},
   "outputs": [],
   "source": [
    "updrs_4=pd.read_csv(\"../new-data/releases_2023_v4release_1027_clinical_MDS_UPDRS_Part_IV.csv\")\n",
    "updrs_4_cleaned=delete_patients_with_the_same_GUID(updrs_4)\n",
    "\n",
    "\n",
    "caffeine_data=pd.read_csv(\"../new-data/releases_2023_v4release_1027_clinical_Caffeine_history.csv\")\n",
    "caffeine_data_cleaned=delete_patients_with_the_same_GUID(caffeine_data)\n",
    "\n",
    "\n",
    "demographic_data=pd.read_csv(\"../new-data/releases_2023_v4release_1027_clinical_Demographics.csv\")\n",
    "demographic_data_cleaned=delete_patients_with_the_same_GUID(demographic_data)\n",
    "\n",
    "\n",
    "family_data=pd.read_csv(\"../new-data/releases_2023_v4release_1027_clinical_Family_History_PD.csv\")\n",
    "family_data_cleaned=delete_patients_with_the_same_GUID(family_data)\n",
    "\n",
    "\n",
    "DaTSCAN_SBR_data=pd.read_csv(\"../new-data/releases_2023_v4release_1027_clinical_DaTSCAN_SBR.csv\")\n",
    "DaTSCAN_SBR_data_cleaned=delete_patients_with_the_same_GUID(DaTSCAN_SBR_data)\n",
    "\n",
    "\n",
    "DTI_data=pd.read_csv(\"../new-data/releases_2023_v4release_1027_clinical_DTI.csv\")\n",
    "DTI_data_cleaned=delete_patients_with_the_same_GUID(DTI_data)"
   ]
  },
  {
   "cell_type": "code",
   "execution_count": null,
   "id": "47f4f9e5",
   "metadata": {},
   "outputs": [],
   "source": [
    "updrs_1_cleaned=updrs_1_cleaned[[\"participant_id\", \"visit_name\", \"visit_month\", \"mds_updrs_part_i_summary_score\"]]\n",
    "\n",
    "updrs_2_cleaned=updrs_2_cleaned[[\"participant_id\", \"visit_name\", \"visit_month\", \"mds_updrs_part_ii_summary_score\"]]\n",
    "\n",
    "updrs_3_cleaned=updrs_3_cleaned[[\"participant_id\", \"visit_name\", \"visit_month\", \"mds_updrs_part_iii_summary_score\"]]"
   ]
  },
  {
   "cell_type": "markdown",
   "id": "bdd7ca59",
   "metadata": {},
   "source": [
    "We first join the target variables, `updrs_1`, `updrs_2` and `updrs_3` in an inner way, so that all participant will have a complete record of all the three scores.  \n",
    "\n",
    "(Need to have a more convincing reason, maybe state the reason from the correlation of updrs scores)"
   ]
  },
  {
   "cell_type": "code",
   "execution_count": null,
   "id": "9491460f",
   "metadata": {},
   "outputs": [
    {
     "name": "stderr",
     "output_type": "stream",
     "text": [
      "C:\\Users\\smile\\AppData\\Local\\Temp\\ipykernel_16700\\2721668787.py:4: UserWarning: You are merging on int and float columns where the float values are not equal to their int representation.\n",
      "  how=\"inner\").merge(\n",
      "C:\\Users\\smile\\AppData\\Local\\Temp\\ipykernel_16700\\2721668787.py:11: UserWarning: You are merging on int and float columns where the float values are not equal to their int representation.\n",
      "  how=\"inner\").merge(\n"
     ]
    }
   ],
   "source": [
    "cleaned_updrs_scores=updrs_1_cleaned.merge(\n",
    "    updrs_2_cleaned, \n",
    "    on=[\"participant_id\", \"visit_name\", \"visit_month\"], \n",
    "    how=\"inner\").merge(\n",
    "        updrs_3_cleaned,\n",
    "        on=[\"participant_id\", \"visit_name\", \"visit_month\"], \n",
    "        how=\"inner\")"
   ]
  },
  {
   "cell_type": "code",
   "execution_count": null,
   "id": "53de0260",
   "metadata": {},
   "outputs": [
    {
     "name": "stdout",
     "output_type": "stream",
     "text": [
      "<class 'pandas.core.frame.DataFrame'>\n",
      "RangeIndex: 20319 entries, 0 to 20318\n",
      "Data columns (total 6 columns):\n",
      " #   Column                            Non-Null Count  Dtype  \n",
      "---  ------                            --------------  -----  \n",
      " 0   participant_id                    20319 non-null  object \n",
      " 1   visit_name                        20319 non-null  object \n",
      " 2   visit_month                       20319 non-null  int64  \n",
      " 3   mds_updrs_part_i_summary_score    20319 non-null  float64\n",
      " 4   mds_updrs_part_ii_summary_score   20317 non-null  float64\n",
      " 5   mds_updrs_part_iii_summary_score  20316 non-null  float64\n",
      "dtypes: float64(3), int64(1), object(2)\n",
      "memory usage: 952.6+ KB\n"
     ]
    }
   ],
   "source": [
    "cleaned_updrs_scores.info()"
   ]
  },
  {
   "cell_type": "markdown",
   "id": "faa2d307",
   "metadata": {},
   "source": [
    "Before we merge the features with the targets, we need to check whether a feature is a time dependent feature, as time-dependent variables and non-time-dependent variables are treated differently in model with lags."
   ]
  },
  {
   "cell_type": "markdown",
   "id": "61a8a085",
   "metadata": {},
   "source": [
    "So we take a look at whether a test or a survey is conducted several times, and also use our common knowledge."
   ]
  },
  {
   "cell_type": "code",
   "execution_count": null,
   "id": "f16842f1",
   "metadata": {},
   "outputs": [
    {
     "name": "stdout",
     "output_type": "stream",
     "text": [
      "<class 'pandas.core.frame.DataFrame'>\n",
      "RangeIndex: 2155 entries, 0 to 2154\n",
      "Data columns (total 6 columns):\n",
      " #   Column                           Non-Null Count  Dtype  \n",
      "---  ------                           --------------  -----  \n",
      " 0   participant_id                   2155 non-null   object \n",
      " 1   GUID                             1453 non-null   object \n",
      " 2   visit_name                       2155 non-null   object \n",
      " 3   visit_month                      1418 non-null   float64\n",
      " 4   caff_drinks_ever_used_regularly  2155 non-null   object \n",
      " 5   caff_drinks_current_use          2063 non-null   object \n",
      "dtypes: float64(1), object(5)\n",
      "memory usage: 101.1+ KB\n"
     ]
    },
    {
     "data": {
      "text/plain": [
       "None"
      ]
     },
     "metadata": {},
     "output_type": "display_data"
    },
    {
     "name": "stdout",
     "output_type": "stream",
     "text": [
      "----------------------------------\n",
      "Number of times every participant attended the survey\n"
     ]
    },
    {
     "data": {
      "text/plain": [
       "count\n",
       "1    2155\n",
       "Name: count, dtype: int64"
      ]
     },
     "metadata": {},
     "output_type": "display_data"
    },
    {
     "name": "stdout",
     "output_type": "stream",
     "text": [
      "----------------------------------\n",
      "Detailed time of the survey:\n"
     ]
    },
    {
     "data": {
      "text/plain": [
       "visit_month\n",
       " 0.0     1390\n",
       " 12.0      11\n",
       "-1.0       10\n",
       " 24.0       3\n",
       " 36.0       2\n",
       " 48.0       1\n",
       " 60.0       1\n",
       "Name: count, dtype: int64"
      ]
     },
     "metadata": {},
     "output_type": "display_data"
    }
   ],
   "source": [
    "display(caffeine_data_cleaned.info())\n",
    "\n",
    "\n",
    "print(\"----------------------------------\")\n",
    "print(\"Number of times every participant attended the survey\")\n",
    "display(caffeine_data_cleaned.participant_id.value_counts().value_counts())\n",
    "\n",
    "print(\"----------------------------------\")\n",
    "print(\"Detailed time of the survey:\")\n",
    "display(caffeine_data_cleaned.visit_month.value_counts())\n"
   ]
  },
  {
   "cell_type": "markdown",
   "id": "6e22cef1",
   "metadata": {},
   "source": [
    "The last result means that every participant is only asked once about their caffeine usage (current and previous), so this feature is not time dependent, which also matches with our intuition. So we drop the `visit_name` and `visit_month` and match the caffeine record with the feature by `participant_id`. We use `how=\"left\"` so that we won't include additional patient who does not have a updrs score record. "
   ]
  },
  {
   "cell_type": "code",
   "execution_count": null,
   "id": "76681efb",
   "metadata": {},
   "outputs": [],
   "source": [
    "caffeine_data_cleaned=caffeine_data_cleaned.drop([\"GUID\",\"visit_name\",\"visit_month\"],axis=1)"
   ]
  },
  {
   "cell_type": "code",
   "execution_count": null,
   "id": "3b53cc93",
   "metadata": {},
   "outputs": [
    {
     "data": {
      "text/html": [
       "<div>\n",
       "<style scoped>\n",
       "    .dataframe tbody tr th:only-of-type {\n",
       "        vertical-align: middle;\n",
       "    }\n",
       "\n",
       "    .dataframe tbody tr th {\n",
       "        vertical-align: top;\n",
       "    }\n",
       "\n",
       "    .dataframe thead th {\n",
       "        text-align: right;\n",
       "    }\n",
       "</style>\n",
       "<table border=\"1\" class=\"dataframe\">\n",
       "  <thead>\n",
       "    <tr style=\"text-align: right;\">\n",
       "      <th></th>\n",
       "      <th>participant_id</th>\n",
       "      <th>caff_drinks_ever_used_regularly</th>\n",
       "      <th>caff_drinks_current_use</th>\n",
       "    </tr>\n",
       "  </thead>\n",
       "  <tbody>\n",
       "    <tr>\n",
       "      <th>0</th>\n",
       "      <td>HB-PD_INVAA223GY7</td>\n",
       "      <td>No</td>\n",
       "      <td>No</td>\n",
       "    </tr>\n",
       "    <tr>\n",
       "      <th>1</th>\n",
       "      <td>HB-PD_INVAB465GYE</td>\n",
       "      <td>Yes</td>\n",
       "      <td>Yes</td>\n",
       "    </tr>\n",
       "    <tr>\n",
       "      <th>2</th>\n",
       "      <td>HB-PD_INVAD033HX2</td>\n",
       "      <td>No</td>\n",
       "      <td>No</td>\n",
       "    </tr>\n",
       "    <tr>\n",
       "      <th>3</th>\n",
       "      <td>HB-PD_INVAD802MY3</td>\n",
       "      <td>No</td>\n",
       "      <td>No</td>\n",
       "    </tr>\n",
       "    <tr>\n",
       "      <th>4</th>\n",
       "      <td>HB-PD_INVAD946MJ7</td>\n",
       "      <td>Yes</td>\n",
       "      <td>Yes</td>\n",
       "    </tr>\n",
       "  </tbody>\n",
       "</table>\n",
       "</div>"
      ],
      "text/plain": [
       "      participant_id caff_drinks_ever_used_regularly caff_drinks_current_use\n",
       "0  HB-PD_INVAA223GY7                              No                      No\n",
       "1  HB-PD_INVAB465GYE                             Yes                     Yes\n",
       "2  HB-PD_INVAD033HX2                              No                      No\n",
       "3  HB-PD_INVAD802MY3                              No                      No\n",
       "4  HB-PD_INVAD946MJ7                             Yes                     Yes"
      ]
     },
     "execution_count": 28,
     "metadata": {},
     "output_type": "execute_result"
    }
   ],
   "source": [
    "caffeine_data_cleaned.head(5)"
   ]
  },
  {
   "cell_type": "code",
   "execution_count": null,
   "id": "f96be752",
   "metadata": {},
   "outputs": [
    {
     "data": {
      "text/html": [
       "<div>\n",
       "<style scoped>\n",
       "    .dataframe tbody tr th:only-of-type {\n",
       "        vertical-align: middle;\n",
       "    }\n",
       "\n",
       "    .dataframe tbody tr th {\n",
       "        vertical-align: top;\n",
       "    }\n",
       "\n",
       "    .dataframe thead th {\n",
       "        text-align: right;\n",
       "    }\n",
       "</style>\n",
       "<table border=\"1\" class=\"dataframe\">\n",
       "  <thead>\n",
       "    <tr style=\"text-align: right;\">\n",
       "      <th></th>\n",
       "      <th>participant_id</th>\n",
       "      <th>visit_name</th>\n",
       "      <th>visit_month</th>\n",
       "      <th>mds_updrs_part_i_summary_score</th>\n",
       "      <th>mds_updrs_part_ii_summary_score</th>\n",
       "      <th>mds_updrs_part_iii_summary_score</th>\n",
       "      <th>caff_drinks_ever_used_regularly</th>\n",
       "      <th>caff_drinks_current_use</th>\n",
       "    </tr>\n",
       "  </thead>\n",
       "  <tbody>\n",
       "    <tr>\n",
       "      <th>0</th>\n",
       "      <td>LC-460010</td>\n",
       "      <td>SC</td>\n",
       "      <td>-1</td>\n",
       "      <td>1.0</td>\n",
       "      <td>0.0</td>\n",
       "      <td>3.0</td>\n",
       "      <td>NaN</td>\n",
       "      <td>NaN</td>\n",
       "    </tr>\n",
       "    <tr>\n",
       "      <th>1</th>\n",
       "      <td>PP-10874</td>\n",
       "      <td>SC</td>\n",
       "      <td>-1</td>\n",
       "      <td>0.0</td>\n",
       "      <td>0.0</td>\n",
       "      <td>2.0</td>\n",
       "      <td>NaN</td>\n",
       "      <td>NaN</td>\n",
       "    </tr>\n",
       "    <tr>\n",
       "      <th>2</th>\n",
       "      <td>PP-12499</td>\n",
       "      <td>SC</td>\n",
       "      <td>-1</td>\n",
       "      <td>4.0</td>\n",
       "      <td>2.0</td>\n",
       "      <td>0.0</td>\n",
       "      <td>NaN</td>\n",
       "      <td>NaN</td>\n",
       "    </tr>\n",
       "    <tr>\n",
       "      <th>3</th>\n",
       "      <td>PP-12593</td>\n",
       "      <td>SC</td>\n",
       "      <td>-1</td>\n",
       "      <td>4.0</td>\n",
       "      <td>3.0</td>\n",
       "      <td>2.0</td>\n",
       "      <td>Yes</td>\n",
       "      <td>Yes</td>\n",
       "    </tr>\n",
       "    <tr>\n",
       "      <th>4</th>\n",
       "      <td>PP-13039</td>\n",
       "      <td>SC</td>\n",
       "      <td>-1</td>\n",
       "      <td>5.0</td>\n",
       "      <td>3.0</td>\n",
       "      <td>0.0</td>\n",
       "      <td>Yes</td>\n",
       "      <td>Yes</td>\n",
       "    </tr>\n",
       "    <tr>\n",
       "      <th>...</th>\n",
       "      <td>...</td>\n",
       "      <td>...</td>\n",
       "      <td>...</td>\n",
       "      <td>...</td>\n",
       "      <td>...</td>\n",
       "      <td>...</td>\n",
       "      <td>...</td>\n",
       "      <td>...</td>\n",
       "    </tr>\n",
       "    <tr>\n",
       "      <th>20314</th>\n",
       "      <td>SY-PDZX943HWN</td>\n",
       "      <td>M36</td>\n",
       "      <td>36</td>\n",
       "      <td>10.0</td>\n",
       "      <td>5.0</td>\n",
       "      <td>10.0</td>\n",
       "      <td>NaN</td>\n",
       "      <td>NaN</td>\n",
       "    </tr>\n",
       "    <tr>\n",
       "      <th>20315</th>\n",
       "      <td>SY-PDZY968RFA</td>\n",
       "      <td>M0</td>\n",
       "      <td>0</td>\n",
       "      <td>2.0</td>\n",
       "      <td>0.0</td>\n",
       "      <td>11.0</td>\n",
       "      <td>NaN</td>\n",
       "      <td>NaN</td>\n",
       "    </tr>\n",
       "    <tr>\n",
       "      <th>20316</th>\n",
       "      <td>SY-PDZY968RFA</td>\n",
       "      <td>M36</td>\n",
       "      <td>36</td>\n",
       "      <td>3.0</td>\n",
       "      <td>5.0</td>\n",
       "      <td>22.0</td>\n",
       "      <td>NaN</td>\n",
       "      <td>NaN</td>\n",
       "    </tr>\n",
       "    <tr>\n",
       "      <th>20317</th>\n",
       "      <td>SY-PDZZ260HUM</td>\n",
       "      <td>M0</td>\n",
       "      <td>0</td>\n",
       "      <td>3.0</td>\n",
       "      <td>1.0</td>\n",
       "      <td>13.0</td>\n",
       "      <td>NaN</td>\n",
       "      <td>NaN</td>\n",
       "    </tr>\n",
       "    <tr>\n",
       "      <th>20318</th>\n",
       "      <td>SY-PDZZ260HUM</td>\n",
       "      <td>M36</td>\n",
       "      <td>36</td>\n",
       "      <td>6.0</td>\n",
       "      <td>4.0</td>\n",
       "      <td>14.0</td>\n",
       "      <td>NaN</td>\n",
       "      <td>NaN</td>\n",
       "    </tr>\n",
       "  </tbody>\n",
       "</table>\n",
       "<p>20319 rows × 8 columns</p>\n",
       "</div>"
      ],
      "text/plain": [
       "      participant_id visit_name  visit_month  mds_updrs_part_i_summary_score  \\\n",
       "0          LC-460010         SC           -1                             1.0   \n",
       "1           PP-10874         SC           -1                             0.0   \n",
       "2           PP-12499         SC           -1                             4.0   \n",
       "3           PP-12593         SC           -1                             4.0   \n",
       "4           PP-13039         SC           -1                             5.0   \n",
       "...              ...        ...          ...                             ...   \n",
       "20314  SY-PDZX943HWN        M36           36                            10.0   \n",
       "20315  SY-PDZY968RFA         M0            0                             2.0   \n",
       "20316  SY-PDZY968RFA        M36           36                             3.0   \n",
       "20317  SY-PDZZ260HUM         M0            0                             3.0   \n",
       "20318  SY-PDZZ260HUM        M36           36                             6.0   \n",
       "\n",
       "       mds_updrs_part_ii_summary_score  mds_updrs_part_iii_summary_score  \\\n",
       "0                                  0.0                               3.0   \n",
       "1                                  0.0                               2.0   \n",
       "2                                  2.0                               0.0   \n",
       "3                                  3.0                               2.0   \n",
       "4                                  3.0                               0.0   \n",
       "...                                ...                               ...   \n",
       "20314                              5.0                              10.0   \n",
       "20315                              0.0                              11.0   \n",
       "20316                              5.0                              22.0   \n",
       "20317                              1.0                              13.0   \n",
       "20318                              4.0                              14.0   \n",
       "\n",
       "      caff_drinks_ever_used_regularly caff_drinks_current_use  \n",
       "0                                 NaN                     NaN  \n",
       "1                                 NaN                     NaN  \n",
       "2                                 NaN                     NaN  \n",
       "3                                 Yes                     Yes  \n",
       "4                                 Yes                     Yes  \n",
       "...                               ...                     ...  \n",
       "20314                             NaN                     NaN  \n",
       "20315                             NaN                     NaN  \n",
       "20316                             NaN                     NaN  \n",
       "20317                             NaN                     NaN  \n",
       "20318                             NaN                     NaN  \n",
       "\n",
       "[20319 rows x 8 columns]"
      ]
     },
     "execution_count": 29,
     "metadata": {},
     "output_type": "execute_result"
    }
   ],
   "source": [
    "cleaned_data=cleaned_updrs_scores.merge(\n",
    "    caffeine_data_cleaned,\n",
    "    on=\"participant_id\", \n",
    "    how=\"left\"\n",
    ")\n",
    "cleaned_data"
   ]
  },
  {
   "cell_type": "markdown",
   "id": "cd38a2a3",
   "metadata": {},
   "source": [
    "We repeat the above process with other potential features."
   ]
  },
  {
   "cell_type": "code",
   "execution_count": null,
   "id": "3715db8b",
   "metadata": {},
   "outputs": [
    {
     "name": "stdout",
     "output_type": "stream",
     "text": [
      "<class 'pandas.core.frame.DataFrame'>\n",
      "Index: 10898 entries, 0 to 10907\n",
      "Data columns (total 9 columns):\n",
      " #   Column                 Non-Null Count  Dtype \n",
      "---  ------                 --------------  ----- \n",
      " 0   participant_id         10898 non-null  object\n",
      " 1   GUID                   4403 non-null   object\n",
      " 2   visit_name             10898 non-null  object\n",
      " 3   visit_month            10898 non-null  int64 \n",
      " 4   age_at_baseline        10898 non-null  int64 \n",
      " 5   sex                    10898 non-null  object\n",
      " 6   ethnicity              6293 non-null   object\n",
      " 7   race                   10879 non-null  object\n",
      " 8   education_level_years  6312 non-null   object\n",
      "dtypes: int64(2), object(7)\n",
      "memory usage: 851.4+ KB\n"
     ]
    },
    {
     "data": {
      "text/plain": [
       "None"
      ]
     },
     "metadata": {},
     "output_type": "display_data"
    },
    {
     "name": "stdout",
     "output_type": "stream",
     "text": [
      "----------------------------------\n",
      "Number of times every participant attended the survey\n"
     ]
    },
    {
     "data": {
      "text/plain": [
       "count\n",
       "1    10898\n",
       "Name: count, dtype: int64"
      ]
     },
     "metadata": {},
     "output_type": "display_data"
    },
    {
     "name": "stdout",
     "output_type": "stream",
     "text": [
      "----------------------------------\n",
      "Detailed time of the survey:\n"
     ]
    },
    {
     "data": {
      "text/plain": [
       "visit_month\n",
       " 0     8912\n",
       "-1     1979\n",
       " 48       3\n",
       " 24       2\n",
       " 12       1\n",
       " 36       1\n",
       "Name: count, dtype: int64"
      ]
     },
     "metadata": {},
     "output_type": "display_data"
    }
   ],
   "source": [
    "display(demographic_data_cleaned.info())\n",
    "\n",
    "\n",
    "print(\"----------------------------------\")\n",
    "print(\"Number of times every participant attended the survey\")\n",
    "display(demographic_data_cleaned.participant_id.value_counts().value_counts())\n",
    "\n",
    "print(\"----------------------------------\")\n",
    "print(\"Detailed time of the survey:\")\n",
    "display(demographic_data_cleaned.visit_month.value_counts())"
   ]
  },
  {
   "cell_type": "markdown",
   "id": "9aa9391d",
   "metadata": {},
   "source": [
    "The last result also confirms with our intuition that this feature is not time dependent. So we drop the `visit_name` and `visit_month` and match the demographic record with the feature by `participant_id`. We use `how=\"left\"` so that we won't include additional patient who does not have a updrs score record. \n",
    "\n",
    "Also observe that `race` carries more information than `ethnicity`, so we drop `ethnicity`."
   ]
  },
  {
   "cell_type": "code",
   "execution_count": null,
   "id": "4870045b",
   "metadata": {},
   "outputs": [],
   "source": [
    "demographic_data_cleaned=demographic_data_cleaned.drop([\"GUID\",\"visit_name\",\"visit_month\", \"ethnicity\"],axis=1)"
   ]
  },
  {
   "cell_type": "code",
   "execution_count": null,
   "id": "a6f1bd07",
   "metadata": {},
   "outputs": [],
   "source": [
    "cleaned_data=cleaned_data.merge(\n",
    "    demographic_data_cleaned,\n",
    "    on=\"participant_id\", \n",
    "    how=\"left\"\n",
    ")"
   ]
  },
  {
   "cell_type": "code",
   "execution_count": null,
   "id": "74ed9f4b",
   "metadata": {},
   "outputs": [
    {
     "name": "stdout",
     "output_type": "stream",
     "text": [
      "<class 'pandas.core.frame.DataFrame'>\n",
      "Index: 8131 entries, 0 to 8138\n",
      "Data columns (total 7 columns):\n",
      " #   Column                     Non-Null Count  Dtype  \n",
      "---  ------                     --------------  -----  \n",
      " 0   participant_id             8131 non-null   object \n",
      " 1   GUID                       3790 non-null   object \n",
      " 2   visit_name                 8131 non-null   object \n",
      " 3   visit_month                7006 non-null   float64\n",
      " 4   biological_mother_with_pd  8079 non-null   object \n",
      " 5   biological_father_with_pd  8077 non-null   object \n",
      " 6   other_relative_with_pd     8097 non-null   object \n",
      "dtypes: float64(1), object(6)\n",
      "memory usage: 508.2+ KB\n"
     ]
    },
    {
     "data": {
      "text/plain": [
       "None"
      ]
     },
     "metadata": {},
     "output_type": "display_data"
    },
    {
     "name": "stdout",
     "output_type": "stream",
     "text": [
      "----------------------------------\n",
      "Number of times every participant attended the survey\n"
     ]
    },
    {
     "data": {
      "text/plain": [
       "count\n",
       "1    8087\n",
       "2      22\n",
       "Name: count, dtype: int64"
      ]
     },
     "metadata": {},
     "output_type": "display_data"
    },
    {
     "name": "stdout",
     "output_type": "stream",
     "text": [
      "----------------------------------\n",
      "Detailed time of the survey:\n"
     ]
    },
    {
     "data": {
      "text/plain": [
       "visit_month\n",
       " 0.0     6153\n",
       "-1.0      834\n",
       " 84.0       9\n",
       " 72.0       6\n",
       " 96.0       4\n",
       "Name: count, dtype: int64"
      ]
     },
     "metadata": {},
     "output_type": "display_data"
    }
   ],
   "source": [
    "display(family_data_cleaned.info())\n",
    "\n",
    "\n",
    "print(\"----------------------------------\")\n",
    "print(\"Number of times every participant attended the survey\")\n",
    "display(family_data_cleaned.participant_id.value_counts().value_counts())\n",
    "\n",
    "print(\"----------------------------------\")\n",
    "print(\"Detailed time of the survey:\")\n",
    "display(family_data_cleaned.visit_month.value_counts())"
   ]
  },
  {
   "cell_type": "markdown",
   "id": "91ea0196",
   "metadata": {},
   "source": [
    "We found that there are 22 people who are asked about their family history twice. Although that is a small number, we take a look at that."
   ]
  },
  {
   "cell_type": "code",
   "execution_count": null,
   "id": "88a685e7",
   "metadata": {},
   "outputs": [
    {
     "name": "stdout",
     "output_type": "stream",
     "text": [
      "Checking for participants with inconsistent survey answers...\n",
      "\n",
      "This patient was asked about their family history at:\n",
      "['SC' 'M96']\n",
      "This patient was asked about their family history at:\n",
      "['SC' 'M96']\n",
      "This patient was asked about their family history at:\n",
      "['SC' 'M96']\n",
      "This patient was asked about their family history at:\n",
      "['SC' 'M96']\n",
      "This patient was asked about their family history at:\n",
      "['SC' 'M84']\n",
      "--- Participant PP-3018 answered differently ---\n",
      "\n",
      "His answers are:\n",
      "On the mother side:\n",
      "['No' 'No']\n",
      "On the father side:\n",
      "['No' 'Yes']\n",
      "Other relatives:\n",
      "['Yes' 'Yes']\n",
      "----------------------------------\n",
      "This patient was asked about their family history at:\n",
      "['SC' 'M84']\n",
      "This patient was asked about their family history at:\n",
      "['SC' 'M84']\n",
      "This patient was asked about their family history at:\n",
      "['SC' 'M84']\n",
      "This patient was asked about their family history at:\n",
      "['SC' 'M84']\n",
      "This patient was asked about their family history at:\n",
      "['SC' 'M84']\n",
      "This patient was asked about their family history at:\n",
      "['SC' 'M84']\n",
      "This patient was asked about their family history at:\n",
      "['SC' 'M84']\n",
      "This patient was asked about their family history at:\n",
      "['SC' 'M84']\n",
      "--- Participant PP-4072 answered differently ---\n",
      "\n",
      "His answers are:\n",
      "On the mother side:\n",
      "['No' 'Yes']\n",
      "On the father side:\n",
      "['No' 'No']\n",
      "Other relatives:\n",
      "['No' 'No']\n",
      "----------------------------------\n",
      "This patient was asked about their family history at:\n",
      "['SC' 'M72']\n",
      "This patient was asked about their family history at:\n",
      "['SC' 'M72']\n",
      "This patient was asked about their family history at:\n",
      "['SC' 'M72']\n",
      "This patient was asked about their family history at:\n",
      "['SC' 'M72']\n",
      "This patient was asked about their family history at:\n",
      "['SC' 'M72']\n",
      "This patient was asked about their family history at:\n",
      "['SC' 'M72']\n",
      "This patient was asked about their family history at:\n",
      "['M0' 'LOG']\n",
      "This patient was asked about their family history at:\n",
      "['SC' 'LOG']\n",
      "This patient was asked about their family history at:\n",
      "['SC' 'LOG']\n"
     ]
    }
   ],
   "source": [
    "groups = family_data_cleaned.groupby(by=\"participant_id\")\n",
    "\n",
    "print(\"Checking for participants with inconsistent survey answers...\\n\")\n",
    "\n",
    "for participant_id, df in groups:\n",
    "    \n",
    "    if len(df) >= 2:\n",
    "        \n",
    "        \n",
    "        mother_answers_changed = df['biological_mother_with_pd'].nunique() > 1\n",
    "        father_answers_changed = df['biological_father_with_pd'].nunique() > 1\n",
    "        other_relatives_answers_changed = df['other_relative_with_pd'].nunique() > 1\n",
    "\n",
    "        print(\"This patient was asked about their family history at:\")\n",
    "        print(df.visit_name.values[::-1])\n",
    "        \n",
    "  \n",
    "        if mother_answers_changed or father_answers_changed or other_relatives_answers_changed:\n",
    "            \n",
    "            print(f\"--- Participant {participant_id} answered differently ---\")\n",
    "            \n",
    "            print(\"\\nHis answers are:\")\n",
    "            \n",
    "            print(\"On the mother side:\")\n",
    "            print(df.biological_mother_with_pd.values[::-1])\n",
    "            \n",
    "            print(\"On the father side:\")\n",
    "            print(df.biological_father_with_pd.values[::-1])\n",
    "            \n",
    "            print(\"Other relatives:\")\n",
    "            print(df.other_relative_with_pd.values[::-1])\n",
    "            print(\"----------------------------------\")\n",
    "\n",
    "        "
   ]
  },
  {
   "cell_type": "markdown",
   "id": "7fe8a02f",
   "metadata": {},
   "source": [
    "We found that only two patients had different answers over time. In both of these cases, the change reflected an update from \"No\" to \"Yes\". Given this, and the strong genetic component of Parkinson's disease, we applied a rule to assign \"Yes\" to a variable if a participant ever reported it as such. This approach ensures we use the most complete affirmative information provided."
   ]
  },
  {
   "cell_type": "code",
   "execution_count": null,
   "id": "3f92513c",
   "metadata": {},
   "outputs": [
    {
     "name": "stderr",
     "output_type": "stream",
     "text": [
      "C:\\Users\\smile\\AppData\\Local\\Temp\\ipykernel_16700\\3283215029.py:29: FutureWarning: DataFrameGroupBy.apply operated on the grouping columns. This behavior is deprecated, and in a future version of pandas the grouping columns will be excluded from the operation. Either pass `include_groups=False` to exclude the groupings or explicitly select the grouping columns after groupby to silence this warning.\n",
      "  family_data_cleaned = family_data_cleaned.groupby('participant_id').apply(consolidate_history).reset_index(drop=True)\n"
     ]
    }
   ],
   "source": [
    "def consolidate_history(group):\n",
    "    \"\"\"\n",
    "    Consolidates multiple family history records for a single participant\n",
    "    into one record based on the \"if any is Yes, then Yes\" rule.\n",
    "    \n",
    "    It also keeps the visit information from the most recent record.\n",
    "    \"\"\"\n",
    "\n",
    "    latest_record = group.sort_values('visit_month', ascending=False).iloc[0]\n",
    "    \n",
    "\n",
    "    mother_history = 'Yes' if 'Yes' in group['biological_mother_with_pd'].values else 'No'\n",
    "    father_history = 'Yes' if 'Yes' in group['biological_father_with_pd'].values else 'No'\n",
    "    other_history = 'Yes' if 'Yes' in group['other_relative_with_pd'].values else 'No'\n",
    "    \n",
    "    consolidated_data = {\n",
    "        'participant_id': group['participant_id'].iloc[0],\n",
    "        'GUID': group['GUID'].iloc[0],\n",
    "        'visit_name': latest_record['visit_name'],\n",
    "        'visit_month': latest_record['visit_month'],\n",
    "        'biological_mother_with_pd': mother_history,\n",
    "        'biological_father_with_pd': father_history,\n",
    "        'other_relative_with_pd': other_history\n",
    "    }\n",
    "    \n",
    "    return pd.Series(consolidated_data)\n",
    "\n",
    "try:\n",
    "    family_data_cleaned = family_data_cleaned.groupby('participant_id').apply(consolidate_history).reset_index(drop=True)\n",
    "\n",
    "except FileNotFoundError:\n",
    "    print(\"Error: The file 'releases_2023_v4release_1027_clinical_Family_History_PD.csv' was not found.\")\n",
    "except Exception as e:\n",
    "    print(f\"An error occurred: {e}\")"
   ]
  },
  {
   "cell_type": "code",
   "execution_count": null,
   "id": "1ee3bfbc",
   "metadata": {},
   "outputs": [],
   "source": [
    "family_data_cleaned=family_data_cleaned.drop([\"GUID\",\"visit_name\",\"visit_month\"],axis=1)"
   ]
  },
  {
   "cell_type": "code",
   "execution_count": null,
   "id": "31b4c2f0",
   "metadata": {},
   "outputs": [],
   "source": [
    "cleaned_data=cleaned_data.merge(\n",
    "    family_data_cleaned,\n",
    "    on=\"participant_id\", \n",
    "    how=\"left\"\n",
    ")"
   ]
  },
  {
   "cell_type": "code",
   "execution_count": null,
   "id": "3a1378f5",
   "metadata": {},
   "outputs": [
    {
     "name": "stdout",
     "output_type": "stream",
     "text": [
      "<class 'pandas.core.frame.DataFrame'>\n",
      "RangeIndex: 2280 entries, 0 to 2279\n",
      "Data columns (total 8 columns):\n",
      " #   Column          Non-Null Count  Dtype  \n",
      "---  ------          --------------  -----  \n",
      " 0   participant_id  2280 non-null   object \n",
      " 1   GUID            881 non-null    object \n",
      " 2   visit_name      2280 non-null   object \n",
      " 3   visit_month     2276 non-null   float64\n",
      " 4   sbr_caudate_r   2280 non-null   float64\n",
      " 5   sbr_caudate_l   2280 non-null   float64\n",
      " 6   sbr_putamen_r   2280 non-null   float64\n",
      " 7   sbr_putamen_l   2280 non-null   float64\n",
      "dtypes: float64(5), object(3)\n",
      "memory usage: 142.6+ KB\n"
     ]
    },
    {
     "data": {
      "text/plain": [
       "None"
      ]
     },
     "metadata": {},
     "output_type": "display_data"
    },
    {
     "name": "stdout",
     "output_type": "stream",
     "text": [
      "----------------------------------\n",
      "Number of times every participant attended the survey\n"
     ]
    },
    {
     "data": {
      "text/plain": [
       "count\n",
       "1    431\n",
       "4    271\n",
       "2    167\n",
       "3    128\n",
       "5      7\n",
       "6      2\n",
       "Name: count, dtype: int64"
      ]
     },
     "metadata": {},
     "output_type": "display_data"
    },
    {
     "name": "stdout",
     "output_type": "stream",
     "text": [
      "----------------------------------\n",
      "Detailed time of the survey:\n"
     ]
    },
    {
     "data": {
      "text/plain": [
       "visit_month\n",
       "-1.0     925\n",
       " 24.0    533\n",
       " 12.0    381\n",
       " 48.0    345\n",
       " 0.0      73\n",
       " 36.0     11\n",
       " 60.0      7\n",
       " 30.0      1\n",
       "Name: count, dtype: int64"
      ]
     },
     "metadata": {},
     "output_type": "display_data"
    },
    {
     "name": "stdout",
     "output_type": "stream",
     "text": [
      "----------------------------------\n",
      "Any repeated test in a single month or during screening? (#2, #3, etc. indicates repeated visits.)\n"
     ]
    },
    {
     "data": {
      "text/plain": [
       "visit_name\n",
       "SC     925\n",
       "M24    533\n",
       "M12    381\n",
       "M48    345\n",
       "M0      73\n",
       "M36     11\n",
       "M60      7\n",
       "LOG      4\n",
       "M30      1\n",
       "Name: count, dtype: int64"
      ]
     },
     "metadata": {},
     "output_type": "display_data"
    }
   ],
   "source": [
    "display(DaTSCAN_SBR_data_cleaned.info())\n",
    "\n",
    "\n",
    "print(\"----------------------------------\")\n",
    "print(\"Number of times every participant attended the survey\")\n",
    "display(DaTSCAN_SBR_data_cleaned.participant_id.value_counts().value_counts())\n",
    "\n",
    "print(\"----------------------------------\")\n",
    "print(\"Detailed time of the survey:\")\n",
    "display(DaTSCAN_SBR_data_cleaned.visit_month.value_counts())\n",
    "\n",
    "print(\"----------------------------------\")\n",
    "print(\"Any repeated test in a single month or during screening? (#2, #3, etc. indicates repeated visits.)\")\n",
    "display(DaTSCAN_SBR_data_cleaned.visit_name.value_counts())"
   ]
  },
  {
   "cell_type": "markdown",
   "id": "08647ea3",
   "metadata": {},
   "source": [
    "Since there is a significant number of patients who took the test several times, and that these characters are also changing with time, we treat it as a time-dependent variable. So we keep the `visit_month` column and merge that with the target and feature table with `on=[\"participant_id\",\"visit_month\"]`. Since all `visit_name` don't carry `#02` or `#03`, there is also no repeated test during screening or a single month. (Need literal revision)"
   ]
  },
  {
   "cell_type": "markdown",
   "id": "a0063d07",
   "metadata": {},
   "source": [
    "Note that there are 4 `visit_month` values missing."
   ]
  },
  {
   "cell_type": "code",
   "execution_count": null,
   "id": "20f70257",
   "metadata": {},
   "outputs": [
    {
     "data": {
      "text/html": [
       "<div>\n",
       "<style scoped>\n",
       "    .dataframe tbody tr th:only-of-type {\n",
       "        vertical-align: middle;\n",
       "    }\n",
       "\n",
       "    .dataframe tbody tr th {\n",
       "        vertical-align: top;\n",
       "    }\n",
       "\n",
       "    .dataframe thead th {\n",
       "        text-align: right;\n",
       "    }\n",
       "</style>\n",
       "<table border=\"1\" class=\"dataframe\">\n",
       "  <thead>\n",
       "    <tr style=\"text-align: right;\">\n",
       "      <th></th>\n",
       "      <th>participant_id</th>\n",
       "      <th>GUID</th>\n",
       "      <th>visit_name</th>\n",
       "      <th>visit_month</th>\n",
       "      <th>sbr_caudate_r</th>\n",
       "      <th>sbr_caudate_l</th>\n",
       "      <th>sbr_putamen_r</th>\n",
       "      <th>sbr_putamen_l</th>\n",
       "    </tr>\n",
       "  </thead>\n",
       "  <tbody>\n",
       "    <tr>\n",
       "      <th>597</th>\n",
       "      <td>PP-3356</td>\n",
       "      <td>NaN</td>\n",
       "      <td>LOG</td>\n",
       "      <td>NaN</td>\n",
       "      <td>2.51</td>\n",
       "      <td>2.54</td>\n",
       "      <td>2.19</td>\n",
       "      <td>2.26</td>\n",
       "    </tr>\n",
       "    <tr>\n",
       "      <th>1158</th>\n",
       "      <td>PP-3638</td>\n",
       "      <td>NIHNA340EADWL</td>\n",
       "      <td>LOG</td>\n",
       "      <td>NaN</td>\n",
       "      <td>1.68</td>\n",
       "      <td>1.88</td>\n",
       "      <td>0.56</td>\n",
       "      <td>0.58</td>\n",
       "    </tr>\n",
       "    <tr>\n",
       "      <th>1975</th>\n",
       "      <td>PP-41281</td>\n",
       "      <td>NaN</td>\n",
       "      <td>LOG</td>\n",
       "      <td>NaN</td>\n",
       "      <td>0.69</td>\n",
       "      <td>0.57</td>\n",
       "      <td>0.12</td>\n",
       "      <td>0.24</td>\n",
       "    </tr>\n",
       "    <tr>\n",
       "      <th>1978</th>\n",
       "      <td>PP-41287</td>\n",
       "      <td>NaN</td>\n",
       "      <td>LOG</td>\n",
       "      <td>NaN</td>\n",
       "      <td>1.81</td>\n",
       "      <td>2.06</td>\n",
       "      <td>0.75</td>\n",
       "      <td>0.63</td>\n",
       "    </tr>\n",
       "  </tbody>\n",
       "</table>\n",
       "</div>"
      ],
      "text/plain": [
       "     participant_id           GUID visit_name  visit_month  sbr_caudate_r  \\\n",
       "597         PP-3356            NaN        LOG          NaN           2.51   \n",
       "1158        PP-3638  NIHNA340EADWL        LOG          NaN           1.68   \n",
       "1975       PP-41281            NaN        LOG          NaN           0.69   \n",
       "1978       PP-41287            NaN        LOG          NaN           1.81   \n",
       "\n",
       "      sbr_caudate_l  sbr_putamen_r  sbr_putamen_l  \n",
       "597            2.54           2.19           2.26  \n",
       "1158           1.88           0.56           0.58  \n",
       "1975           0.57           0.12           0.24  \n",
       "1978           2.06           0.75           0.63  "
      ]
     },
     "execution_count": 39,
     "metadata": {},
     "output_type": "execute_result"
    }
   ],
   "source": [
    "DaTSCAN_SBR_data_cleaned[DaTSCAN_SBR_data_cleaned.visit_month.isna()]"
   ]
  },
  {
   "cell_type": "markdown",
   "id": "52d57700",
   "metadata": {},
   "source": [
    "Observe that they all come from records without visit, so we drop them."
   ]
  },
  {
   "cell_type": "code",
   "execution_count": null,
   "id": "d3bd9b5a",
   "metadata": {},
   "outputs": [],
   "source": [
    "DaTSCAN_SBR_data_cleaned=DaTSCAN_SBR_data_cleaned.dropna(subset=\"visit_month\")"
   ]
  },
  {
   "cell_type": "code",
   "execution_count": null,
   "id": "f9a38368",
   "metadata": {},
   "outputs": [],
   "source": [
    "DaTSCAN_SBR_data_cleaned=DaTSCAN_SBR_data_cleaned.drop([\"GUID\",\"visit_name\"],axis=1)"
   ]
  },
  {
   "cell_type": "code",
   "execution_count": null,
   "id": "1dffa2a6",
   "metadata": {},
   "outputs": [],
   "source": [
    "cleaned_data=cleaned_data.merge(\n",
    "    DaTSCAN_SBR_data_cleaned,\n",
    "    on=[\"participant_id\",\"visit_month\"],\n",
    "    how=\"left\"\n",
    ")"
   ]
  },
  {
   "cell_type": "code",
   "execution_count": null,
   "id": "9c53e1b5",
   "metadata": {},
   "outputs": [
    {
     "name": "stdout",
     "output_type": "stream",
     "text": [
      "<class 'pandas.core.frame.DataFrame'>\n",
      "RangeIndex: 1196 entries, 0 to 1195\n",
      "Data columns (total 14 columns):\n",
      " #   Column                Non-Null Count  Dtype  \n",
      "---  ------                --------------  -----  \n",
      " 0   participant_id        1196 non-null   object \n",
      " 1   GUID                  364 non-null    object \n",
      " 2   visit_name            1196 non-null   object \n",
      " 3   visit_month           0 non-null      float64\n",
      " 4   dti_brain_tissue      1196 non-null   object \n",
      " 5   dti_measure           1196 non-null   object \n",
      " 6   roi1_left_rostral     1196 non-null   float64\n",
      " 7   roi2_left_middle      1196 non-null   float64\n",
      " 8   roi3_left_caudal      1196 non-null   float64\n",
      " 9   roi4_right_rostral    1196 non-null   float64\n",
      " 10  roi5_right_middle     1196 non-null   float64\n",
      " 11  roi6_right_caudal     1196 non-null   float64\n",
      " 12  ref1_left_reference   1196 non-null   float64\n",
      " 13  ref2_right_reference  1196 non-null   float64\n",
      "dtypes: float64(9), object(5)\n",
      "memory usage: 130.9+ KB\n"
     ]
    },
    {
     "data": {
      "text/plain": [
       "None"
      ]
     },
     "metadata": {},
     "output_type": "display_data"
    },
    {
     "name": "stdout",
     "output_type": "stream",
     "text": [
      "----------------------------------\n",
      "Number of times every participant attended the survey\n"
     ]
    },
    {
     "data": {
      "text/plain": [
       "count\n",
       "4     229\n",
       "8      30\n",
       "12      2\n",
       "16      1\n",
       "Name: count, dtype: int64"
      ]
     },
     "metadata": {},
     "output_type": "display_data"
    },
    {
     "name": "stdout",
     "output_type": "stream",
     "text": [
      "----------------------------------\n",
      "Detailed time of the survey:\n"
     ]
    },
    {
     "data": {
      "text/plain": [
       "Series([], Name: count, dtype: int64)"
      ]
     },
     "metadata": {},
     "output_type": "display_data"
    },
    {
     "name": "stdout",
     "output_type": "stream",
     "text": [
      "----------------------------------\n",
      "Any repeated test in a single month or during screening? (#2, #3, etc. indicates repeated visits.)\n"
     ]
    },
    {
     "data": {
      "text/plain": [
       "visit_name\n",
       "LOG    1196\n",
       "Name: count, dtype: int64"
      ]
     },
     "metadata": {},
     "output_type": "display_data"
    }
   ],
   "source": [
    "display(DTI_data_cleaned.info())\n",
    "\n",
    "\n",
    "print(\"----------------------------------\")\n",
    "print(\"Number of times every participant attended the survey\")\n",
    "display(DTI_data_cleaned.participant_id.value_counts().value_counts())\n",
    "\n",
    "print(\"----------------------------------\")\n",
    "print(\"Detailed time of the survey:\")\n",
    "display(DTI_data_cleaned.visit_month.value_counts())\n",
    "\n",
    "print(\"----------------------------------\")\n",
    "print(\"Any repeated test in a single month or during screening? (#2, #3, etc. indicates repeated visits.)\")\n",
    "display(DTI_data_cleaned.visit_name.value_counts())"
   ]
  },
  {
   "cell_type": "markdown",
   "id": "515bdec0",
   "metadata": {},
   "source": [
    "As the DTI table contains different measurements, pivotting it will be helpful. We observe that there might be several tests on the same variable, and we only keep the first one, as that is the most universal to all participants."
   ]
  },
  {
   "cell_type": "code",
   "execution_count": null,
   "id": "b115a51f",
   "metadata": {},
   "outputs": [],
   "source": [
    "def appropriate_pivotting(df):\n",
    "    df=df.drop([\"GUID\", \"visit_name\", \"visit_month\",\"dti_brain_tissue\"], axis=1)\n",
    "    df_pivotted=df.pivot(columns=[\"dti_measure\"], index=\"participant_id\")\n",
    "    df_pivotted.columns = ['_'.join(map(str, col)).strip() for col in df_pivotted.columns.values]\n",
    "    cols=df_pivotted.columns\n",
    "    for col in cols:\n",
    "        if \"#\" in col:\n",
    "            df_pivotted=df_pivotted.drop(col, axis=1)\n",
    "    return df_pivotted\n",
    "\n",
    "DTI_data_cleaned_and_pivotted=appropriate_pivotting(DTI_data_cleaned)"
   ]
  },
  {
   "cell_type": "code",
   "execution_count": null,
   "id": "2e9da280",
   "metadata": {},
   "outputs": [
    {
     "data": {
      "text/html": [
       "<div>\n",
       "<style scoped>\n",
       "    .dataframe tbody tr th:only-of-type {\n",
       "        vertical-align: middle;\n",
       "    }\n",
       "\n",
       "    .dataframe tbody tr th {\n",
       "        vertical-align: top;\n",
       "    }\n",
       "\n",
       "    .dataframe thead th {\n",
       "        text-align: right;\n",
       "    }\n",
       "</style>\n",
       "<table border=\"1\" class=\"dataframe\">\n",
       "  <thead>\n",
       "    <tr style=\"text-align: right;\">\n",
       "      <th></th>\n",
       "      <th>roi1_left_rostral_Eigenvalue1</th>\n",
       "      <th>roi1_left_rostral_Eigenvalue2</th>\n",
       "      <th>roi1_left_rostral_Eigenvalue3</th>\n",
       "      <th>roi1_left_rostral_Fractional Anisotropy</th>\n",
       "      <th>roi2_left_middle_Eigenvalue1</th>\n",
       "      <th>roi2_left_middle_Eigenvalue2</th>\n",
       "      <th>roi2_left_middle_Eigenvalue3</th>\n",
       "      <th>roi2_left_middle_Fractional Anisotropy</th>\n",
       "      <th>roi3_left_caudal_Eigenvalue1</th>\n",
       "      <th>roi3_left_caudal_Eigenvalue2</th>\n",
       "      <th>...</th>\n",
       "      <th>roi6_right_caudal_Eigenvalue3</th>\n",
       "      <th>roi6_right_caudal_Fractional Anisotropy</th>\n",
       "      <th>ref1_left_reference_Eigenvalue1</th>\n",
       "      <th>ref1_left_reference_Eigenvalue2</th>\n",
       "      <th>ref1_left_reference_Eigenvalue3</th>\n",
       "      <th>ref1_left_reference_Fractional Anisotropy</th>\n",
       "      <th>ref2_right_reference_Eigenvalue1</th>\n",
       "      <th>ref2_right_reference_Eigenvalue2</th>\n",
       "      <th>ref2_right_reference_Eigenvalue3</th>\n",
       "      <th>ref2_right_reference_Fractional Anisotropy</th>\n",
       "    </tr>\n",
       "    <tr>\n",
       "      <th>participant_id</th>\n",
       "      <th></th>\n",
       "      <th></th>\n",
       "      <th></th>\n",
       "      <th></th>\n",
       "      <th></th>\n",
       "      <th></th>\n",
       "      <th></th>\n",
       "      <th></th>\n",
       "      <th></th>\n",
       "      <th></th>\n",
       "      <th></th>\n",
       "      <th></th>\n",
       "      <th></th>\n",
       "      <th></th>\n",
       "      <th></th>\n",
       "      <th></th>\n",
       "      <th></th>\n",
       "      <th></th>\n",
       "      <th></th>\n",
       "      <th></th>\n",
       "      <th></th>\n",
       "    </tr>\n",
       "  </thead>\n",
       "  <tbody>\n",
       "    <tr>\n",
       "      <th>PP-3101</th>\n",
       "      <td>0.000926</td>\n",
       "      <td>0.000604</td>\n",
       "      <td>0.000387</td>\n",
       "      <td>0.327429</td>\n",
       "      <td>0.000877</td>\n",
       "      <td>0.000511</td>\n",
       "      <td>0.000337</td>\n",
       "      <td>0.364471</td>\n",
       "      <td>0.000812</td>\n",
       "      <td>0.000587</td>\n",
       "      <td>...</td>\n",
       "      <td>0.000463</td>\n",
       "      <td>0.317038</td>\n",
       "      <td>0.001470</td>\n",
       "      <td>0.000537</td>\n",
       "      <td>0.000258</td>\n",
       "      <td>0.565928</td>\n",
       "      <td>0.001434</td>\n",
       "      <td>0.000411</td>\n",
       "      <td>0.000243</td>\n",
       "      <td>0.603173</td>\n",
       "    </tr>\n",
       "    <tr>\n",
       "      <th>PP-3102</th>\n",
       "      <td>0.000926</td>\n",
       "      <td>0.000644</td>\n",
       "      <td>0.000376</td>\n",
       "      <td>0.327140</td>\n",
       "      <td>0.000933</td>\n",
       "      <td>0.000591</td>\n",
       "      <td>0.000334</td>\n",
       "      <td>0.368317</td>\n",
       "      <td>0.000967</td>\n",
       "      <td>0.000637</td>\n",
       "      <td>...</td>\n",
       "      <td>0.000391</td>\n",
       "      <td>0.365978</td>\n",
       "      <td>0.001348</td>\n",
       "      <td>0.000393</td>\n",
       "      <td>0.000153</td>\n",
       "      <td>0.632944</td>\n",
       "      <td>0.001318</td>\n",
       "      <td>0.000269</td>\n",
       "      <td>0.000116</td>\n",
       "      <td>0.685334</td>\n",
       "    </tr>\n",
       "    <tr>\n",
       "      <th>PP-3104</th>\n",
       "      <td>0.000969</td>\n",
       "      <td>0.000667</td>\n",
       "      <td>0.000444</td>\n",
       "      <td>0.296356</td>\n",
       "      <td>0.000942</td>\n",
       "      <td>0.000644</td>\n",
       "      <td>0.000365</td>\n",
       "      <td>0.340615</td>\n",
       "      <td>0.001015</td>\n",
       "      <td>0.000665</td>\n",
       "      <td>...</td>\n",
       "      <td>0.000533</td>\n",
       "      <td>0.253402</td>\n",
       "      <td>0.001319</td>\n",
       "      <td>0.000355</td>\n",
       "      <td>0.000221</td>\n",
       "      <td>0.612216</td>\n",
       "      <td>0.001410</td>\n",
       "      <td>0.000370</td>\n",
       "      <td>0.000213</td>\n",
       "      <td>0.624466</td>\n",
       "    </tr>\n",
       "    <tr>\n",
       "      <th>PP-3105</th>\n",
       "      <td>0.000743</td>\n",
       "      <td>0.000422</td>\n",
       "      <td>0.000188</td>\n",
       "      <td>0.450384</td>\n",
       "      <td>0.000654</td>\n",
       "      <td>0.000409</td>\n",
       "      <td>0.000164</td>\n",
       "      <td>0.439363</td>\n",
       "      <td>0.000950</td>\n",
       "      <td>0.000638</td>\n",
       "      <td>...</td>\n",
       "      <td>0.000588</td>\n",
       "      <td>0.235125</td>\n",
       "      <td>0.001318</td>\n",
       "      <td>0.000230</td>\n",
       "      <td>0.000039</td>\n",
       "      <td>0.728970</td>\n",
       "      <td>0.001533</td>\n",
       "      <td>0.000422</td>\n",
       "      <td>0.000207</td>\n",
       "      <td>0.627681</td>\n",
       "    </tr>\n",
       "    <tr>\n",
       "      <th>PP-3106</th>\n",
       "      <td>0.001083</td>\n",
       "      <td>0.000752</td>\n",
       "      <td>0.000571</td>\n",
       "      <td>0.255552</td>\n",
       "      <td>0.000935</td>\n",
       "      <td>0.000555</td>\n",
       "      <td>0.000411</td>\n",
       "      <td>0.329358</td>\n",
       "      <td>0.000886</td>\n",
       "      <td>0.000510</td>\n",
       "      <td>...</td>\n",
       "      <td>0.000307</td>\n",
       "      <td>0.377322</td>\n",
       "      <td>0.001405</td>\n",
       "      <td>0.000504</td>\n",
       "      <td>0.000220</td>\n",
       "      <td>0.579911</td>\n",
       "      <td>0.001460</td>\n",
       "      <td>0.000452</td>\n",
       "      <td>0.000197</td>\n",
       "      <td>0.612912</td>\n",
       "    </tr>\n",
       "    <tr>\n",
       "      <th>...</th>\n",
       "      <td>...</td>\n",
       "      <td>...</td>\n",
       "      <td>...</td>\n",
       "      <td>...</td>\n",
       "      <td>...</td>\n",
       "      <td>...</td>\n",
       "      <td>...</td>\n",
       "      <td>...</td>\n",
       "      <td>...</td>\n",
       "      <td>...</td>\n",
       "      <td>...</td>\n",
       "      <td>...</td>\n",
       "      <td>...</td>\n",
       "      <td>...</td>\n",
       "      <td>...</td>\n",
       "      <td>...</td>\n",
       "      <td>...</td>\n",
       "      <td>...</td>\n",
       "      <td>...</td>\n",
       "      <td>...</td>\n",
       "      <td>...</td>\n",
       "    </tr>\n",
       "    <tr>\n",
       "      <th>PP-4084</th>\n",
       "      <td>0.000964</td>\n",
       "      <td>0.000599</td>\n",
       "      <td>0.000482</td>\n",
       "      <td>0.288346</td>\n",
       "      <td>0.000963</td>\n",
       "      <td>0.000565</td>\n",
       "      <td>0.000449</td>\n",
       "      <td>0.316809</td>\n",
       "      <td>0.000973</td>\n",
       "      <td>0.000689</td>\n",
       "      <td>...</td>\n",
       "      <td>0.000381</td>\n",
       "      <td>0.334611</td>\n",
       "      <td>0.001522</td>\n",
       "      <td>0.000460</td>\n",
       "      <td>0.000331</td>\n",
       "      <td>0.569118</td>\n",
       "      <td>0.001427</td>\n",
       "      <td>0.000329</td>\n",
       "      <td>0.000142</td>\n",
       "      <td>0.667300</td>\n",
       "    </tr>\n",
       "    <tr>\n",
       "      <th>PP-4085</th>\n",
       "      <td>0.000837</td>\n",
       "      <td>0.000611</td>\n",
       "      <td>0.000314</td>\n",
       "      <td>0.342581</td>\n",
       "      <td>0.000952</td>\n",
       "      <td>0.000640</td>\n",
       "      <td>0.000400</td>\n",
       "      <td>0.322198</td>\n",
       "      <td>0.001055</td>\n",
       "      <td>0.000689</td>\n",
       "      <td>...</td>\n",
       "      <td>0.000318</td>\n",
       "      <td>0.370197</td>\n",
       "      <td>0.001434</td>\n",
       "      <td>0.000280</td>\n",
       "      <td>0.000117</td>\n",
       "      <td>0.692710</td>\n",
       "      <td>0.001349</td>\n",
       "      <td>0.000414</td>\n",
       "      <td>0.000195</td>\n",
       "      <td>0.608474</td>\n",
       "    </tr>\n",
       "    <tr>\n",
       "      <th>PP-4086</th>\n",
       "      <td>0.001096</td>\n",
       "      <td>0.000778</td>\n",
       "      <td>0.000549</td>\n",
       "      <td>0.267581</td>\n",
       "      <td>0.000977</td>\n",
       "      <td>0.000731</td>\n",
       "      <td>0.000358</td>\n",
       "      <td>0.346608</td>\n",
       "      <td>0.001114</td>\n",
       "      <td>0.000847</td>\n",
       "      <td>...</td>\n",
       "      <td>0.000413</td>\n",
       "      <td>0.325613</td>\n",
       "      <td>0.001451</td>\n",
       "      <td>0.000437</td>\n",
       "      <td>0.000194</td>\n",
       "      <td>0.617197</td>\n",
       "      <td>0.001703</td>\n",
       "      <td>0.000468</td>\n",
       "      <td>0.000259</td>\n",
       "      <td>0.618275</td>\n",
       "    </tr>\n",
       "    <tr>\n",
       "      <th>PP-4135</th>\n",
       "      <td>0.001241</td>\n",
       "      <td>0.000783</td>\n",
       "      <td>0.000597</td>\n",
       "      <td>0.295878</td>\n",
       "      <td>0.001234</td>\n",
       "      <td>0.000827</td>\n",
       "      <td>0.000628</td>\n",
       "      <td>0.270861</td>\n",
       "      <td>0.001150</td>\n",
       "      <td>0.000835</td>\n",
       "      <td>...</td>\n",
       "      <td>0.000353</td>\n",
       "      <td>0.371143</td>\n",
       "      <td>0.001306</td>\n",
       "      <td>0.000206</td>\n",
       "      <td>0.000031</td>\n",
       "      <td>0.739090</td>\n",
       "      <td>0.001521</td>\n",
       "      <td>0.000351</td>\n",
       "      <td>0.000186</td>\n",
       "      <td>0.654761</td>\n",
       "    </tr>\n",
       "    <tr>\n",
       "      <th>PP-4136</th>\n",
       "      <td>0.001022</td>\n",
       "      <td>0.000575</td>\n",
       "      <td>0.000394</td>\n",
       "      <td>0.369541</td>\n",
       "      <td>0.001304</td>\n",
       "      <td>0.000662</td>\n",
       "      <td>0.000461</td>\n",
       "      <td>0.406094</td>\n",
       "      <td>0.001311</td>\n",
       "      <td>0.000696</td>\n",
       "      <td>...</td>\n",
       "      <td>0.000531</td>\n",
       "      <td>0.324685</td>\n",
       "      <td>0.001440</td>\n",
       "      <td>0.000385</td>\n",
       "      <td>0.000210</td>\n",
       "      <td>0.625138</td>\n",
       "      <td>0.001383</td>\n",
       "      <td>0.000395</td>\n",
       "      <td>0.000214</td>\n",
       "      <td>0.611940</td>\n",
       "    </tr>\n",
       "  </tbody>\n",
       "</table>\n",
       "<p>262 rows × 32 columns</p>\n",
       "</div>"
      ],
      "text/plain": [
       "                roi1_left_rostral_Eigenvalue1  roi1_left_rostral_Eigenvalue2  \\\n",
       "participant_id                                                                 \n",
       "PP-3101                              0.000926                       0.000604   \n",
       "PP-3102                              0.000926                       0.000644   \n",
       "PP-3104                              0.000969                       0.000667   \n",
       "PP-3105                              0.000743                       0.000422   \n",
       "PP-3106                              0.001083                       0.000752   \n",
       "...                                       ...                            ...   \n",
       "PP-4084                              0.000964                       0.000599   \n",
       "PP-4085                              0.000837                       0.000611   \n",
       "PP-4086                              0.001096                       0.000778   \n",
       "PP-4135                              0.001241                       0.000783   \n",
       "PP-4136                              0.001022                       0.000575   \n",
       "\n",
       "                roi1_left_rostral_Eigenvalue3  \\\n",
       "participant_id                                  \n",
       "PP-3101                              0.000387   \n",
       "PP-3102                              0.000376   \n",
       "PP-3104                              0.000444   \n",
       "PP-3105                              0.000188   \n",
       "PP-3106                              0.000571   \n",
       "...                                       ...   \n",
       "PP-4084                              0.000482   \n",
       "PP-4085                              0.000314   \n",
       "PP-4086                              0.000549   \n",
       "PP-4135                              0.000597   \n",
       "PP-4136                              0.000394   \n",
       "\n",
       "                roi1_left_rostral_Fractional Anisotropy  \\\n",
       "participant_id                                            \n",
       "PP-3101                                        0.327429   \n",
       "PP-3102                                        0.327140   \n",
       "PP-3104                                        0.296356   \n",
       "PP-3105                                        0.450384   \n",
       "PP-3106                                        0.255552   \n",
       "...                                                 ...   \n",
       "PP-4084                                        0.288346   \n",
       "PP-4085                                        0.342581   \n",
       "PP-4086                                        0.267581   \n",
       "PP-4135                                        0.295878   \n",
       "PP-4136                                        0.369541   \n",
       "\n",
       "                roi2_left_middle_Eigenvalue1  roi2_left_middle_Eigenvalue2  \\\n",
       "participant_id                                                               \n",
       "PP-3101                             0.000877                      0.000511   \n",
       "PP-3102                             0.000933                      0.000591   \n",
       "PP-3104                             0.000942                      0.000644   \n",
       "PP-3105                             0.000654                      0.000409   \n",
       "PP-3106                             0.000935                      0.000555   \n",
       "...                                      ...                           ...   \n",
       "PP-4084                             0.000963                      0.000565   \n",
       "PP-4085                             0.000952                      0.000640   \n",
       "PP-4086                             0.000977                      0.000731   \n",
       "PP-4135                             0.001234                      0.000827   \n",
       "PP-4136                             0.001304                      0.000662   \n",
       "\n",
       "                roi2_left_middle_Eigenvalue3  \\\n",
       "participant_id                                 \n",
       "PP-3101                             0.000337   \n",
       "PP-3102                             0.000334   \n",
       "PP-3104                             0.000365   \n",
       "PP-3105                             0.000164   \n",
       "PP-3106                             0.000411   \n",
       "...                                      ...   \n",
       "PP-4084                             0.000449   \n",
       "PP-4085                             0.000400   \n",
       "PP-4086                             0.000358   \n",
       "PP-4135                             0.000628   \n",
       "PP-4136                             0.000461   \n",
       "\n",
       "                roi2_left_middle_Fractional Anisotropy  \\\n",
       "participant_id                                           \n",
       "PP-3101                                       0.364471   \n",
       "PP-3102                                       0.368317   \n",
       "PP-3104                                       0.340615   \n",
       "PP-3105                                       0.439363   \n",
       "PP-3106                                       0.329358   \n",
       "...                                                ...   \n",
       "PP-4084                                       0.316809   \n",
       "PP-4085                                       0.322198   \n",
       "PP-4086                                       0.346608   \n",
       "PP-4135                                       0.270861   \n",
       "PP-4136                                       0.406094   \n",
       "\n",
       "                roi3_left_caudal_Eigenvalue1  roi3_left_caudal_Eigenvalue2  \\\n",
       "participant_id                                                               \n",
       "PP-3101                             0.000812                      0.000587   \n",
       "PP-3102                             0.000967                      0.000637   \n",
       "PP-3104                             0.001015                      0.000665   \n",
       "PP-3105                             0.000950                      0.000638   \n",
       "PP-3106                             0.000886                      0.000510   \n",
       "...                                      ...                           ...   \n",
       "PP-4084                             0.000973                      0.000689   \n",
       "PP-4085                             0.001055                      0.000689   \n",
       "PP-4086                             0.001114                      0.000847   \n",
       "PP-4135                             0.001150                      0.000835   \n",
       "PP-4136                             0.001311                      0.000696   \n",
       "\n",
       "                ...  roi6_right_caudal_Eigenvalue3  \\\n",
       "participant_id  ...                                  \n",
       "PP-3101         ...                       0.000463   \n",
       "PP-3102         ...                       0.000391   \n",
       "PP-3104         ...                       0.000533   \n",
       "PP-3105         ...                       0.000588   \n",
       "PP-3106         ...                       0.000307   \n",
       "...             ...                            ...   \n",
       "PP-4084         ...                       0.000381   \n",
       "PP-4085         ...                       0.000318   \n",
       "PP-4086         ...                       0.000413   \n",
       "PP-4135         ...                       0.000353   \n",
       "PP-4136         ...                       0.000531   \n",
       "\n",
       "                roi6_right_caudal_Fractional Anisotropy  \\\n",
       "participant_id                                            \n",
       "PP-3101                                        0.317038   \n",
       "PP-3102                                        0.365978   \n",
       "PP-3104                                        0.253402   \n",
       "PP-3105                                        0.235125   \n",
       "PP-3106                                        0.377322   \n",
       "...                                                 ...   \n",
       "PP-4084                                        0.334611   \n",
       "PP-4085                                        0.370197   \n",
       "PP-4086                                        0.325613   \n",
       "PP-4135                                        0.371143   \n",
       "PP-4136                                        0.324685   \n",
       "\n",
       "                ref1_left_reference_Eigenvalue1  \\\n",
       "participant_id                                    \n",
       "PP-3101                                0.001470   \n",
       "PP-3102                                0.001348   \n",
       "PP-3104                                0.001319   \n",
       "PP-3105                                0.001318   \n",
       "PP-3106                                0.001405   \n",
       "...                                         ...   \n",
       "PP-4084                                0.001522   \n",
       "PP-4085                                0.001434   \n",
       "PP-4086                                0.001451   \n",
       "PP-4135                                0.001306   \n",
       "PP-4136                                0.001440   \n",
       "\n",
       "                ref1_left_reference_Eigenvalue2  \\\n",
       "participant_id                                    \n",
       "PP-3101                                0.000537   \n",
       "PP-3102                                0.000393   \n",
       "PP-3104                                0.000355   \n",
       "PP-3105                                0.000230   \n",
       "PP-3106                                0.000504   \n",
       "...                                         ...   \n",
       "PP-4084                                0.000460   \n",
       "PP-4085                                0.000280   \n",
       "PP-4086                                0.000437   \n",
       "PP-4135                                0.000206   \n",
       "PP-4136                                0.000385   \n",
       "\n",
       "                ref1_left_reference_Eigenvalue3  \\\n",
       "participant_id                                    \n",
       "PP-3101                                0.000258   \n",
       "PP-3102                                0.000153   \n",
       "PP-3104                                0.000221   \n",
       "PP-3105                                0.000039   \n",
       "PP-3106                                0.000220   \n",
       "...                                         ...   \n",
       "PP-4084                                0.000331   \n",
       "PP-4085                                0.000117   \n",
       "PP-4086                                0.000194   \n",
       "PP-4135                                0.000031   \n",
       "PP-4136                                0.000210   \n",
       "\n",
       "                ref1_left_reference_Fractional Anisotropy  \\\n",
       "participant_id                                              \n",
       "PP-3101                                          0.565928   \n",
       "PP-3102                                          0.632944   \n",
       "PP-3104                                          0.612216   \n",
       "PP-3105                                          0.728970   \n",
       "PP-3106                                          0.579911   \n",
       "...                                                   ...   \n",
       "PP-4084                                          0.569118   \n",
       "PP-4085                                          0.692710   \n",
       "PP-4086                                          0.617197   \n",
       "PP-4135                                          0.739090   \n",
       "PP-4136                                          0.625138   \n",
       "\n",
       "                ref2_right_reference_Eigenvalue1  \\\n",
       "participant_id                                     \n",
       "PP-3101                                 0.001434   \n",
       "PP-3102                                 0.001318   \n",
       "PP-3104                                 0.001410   \n",
       "PP-3105                                 0.001533   \n",
       "PP-3106                                 0.001460   \n",
       "...                                          ...   \n",
       "PP-4084                                 0.001427   \n",
       "PP-4085                                 0.001349   \n",
       "PP-4086                                 0.001703   \n",
       "PP-4135                                 0.001521   \n",
       "PP-4136                                 0.001383   \n",
       "\n",
       "                ref2_right_reference_Eigenvalue2  \\\n",
       "participant_id                                     \n",
       "PP-3101                                 0.000411   \n",
       "PP-3102                                 0.000269   \n",
       "PP-3104                                 0.000370   \n",
       "PP-3105                                 0.000422   \n",
       "PP-3106                                 0.000452   \n",
       "...                                          ...   \n",
       "PP-4084                                 0.000329   \n",
       "PP-4085                                 0.000414   \n",
       "PP-4086                                 0.000468   \n",
       "PP-4135                                 0.000351   \n",
       "PP-4136                                 0.000395   \n",
       "\n",
       "                ref2_right_reference_Eigenvalue3  \\\n",
       "participant_id                                     \n",
       "PP-3101                                 0.000243   \n",
       "PP-3102                                 0.000116   \n",
       "PP-3104                                 0.000213   \n",
       "PP-3105                                 0.000207   \n",
       "PP-3106                                 0.000197   \n",
       "...                                          ...   \n",
       "PP-4084                                 0.000142   \n",
       "PP-4085                                 0.000195   \n",
       "PP-4086                                 0.000259   \n",
       "PP-4135                                 0.000186   \n",
       "PP-4136                                 0.000214   \n",
       "\n",
       "                ref2_right_reference_Fractional Anisotropy  \n",
       "participant_id                                              \n",
       "PP-3101                                           0.603173  \n",
       "PP-3102                                           0.685334  \n",
       "PP-3104                                           0.624466  \n",
       "PP-3105                                           0.627681  \n",
       "PP-3106                                           0.612912  \n",
       "...                                                    ...  \n",
       "PP-4084                                           0.667300  \n",
       "PP-4085                                           0.608474  \n",
       "PP-4086                                           0.618275  \n",
       "PP-4135                                           0.654761  \n",
       "PP-4136                                           0.611940  \n",
       "\n",
       "[262 rows x 32 columns]"
      ]
     },
     "execution_count": 45,
     "metadata": {},
     "output_type": "execute_result"
    }
   ],
   "source": [
    "DTI_data_cleaned_and_pivotted"
   ]
  },
  {
   "cell_type": "code",
   "execution_count": null,
   "id": "7696edba",
   "metadata": {},
   "outputs": [],
   "source": [
    "DTI_data_cleaned_and_pivotted=DTI_data_cleaned_and_pivotted.reset_index()"
   ]
  },
  {
   "cell_type": "code",
   "execution_count": null,
   "id": "798113f6",
   "metadata": {},
   "outputs": [
    {
     "data": {
      "text/plain": [
       "count\n",
       "1    262\n",
       "Name: count, dtype: int64"
      ]
     },
     "execution_count": 47,
     "metadata": {},
     "output_type": "execute_result"
    }
   ],
   "source": [
    "DTI_data_cleaned_and_pivotted.participant_id.value_counts().value_counts()"
   ]
  },
  {
   "cell_type": "code",
   "execution_count": null,
   "id": "7983f559",
   "metadata": {},
   "outputs": [],
   "source": []
  },
  {
   "cell_type": "code",
   "execution_count": null,
   "id": "b6f58d77",
   "metadata": {},
   "outputs": [],
   "source": [
    "cleaned_data = cleaned_data.merge(\n",
    "    DTI_data_cleaned_and_pivotted,\n",
    "    on=\"participant_id\", \n",
    "    how=\"left\"\n",
    ")    \n",
    "\n",
    "    "
   ]
  },
  {
   "cell_type": "code",
   "execution_count": null,
   "id": "beec1d7d",
   "metadata": {},
   "outputs": [
    {
     "data": {
      "text/html": [
       "<div>\n",
       "<style scoped>\n",
       "    .dataframe tbody tr th:only-of-type {\n",
       "        vertical-align: middle;\n",
       "    }\n",
       "\n",
       "    .dataframe tbody tr th {\n",
       "        vertical-align: top;\n",
       "    }\n",
       "\n",
       "    .dataframe thead th {\n",
       "        text-align: right;\n",
       "    }\n",
       "</style>\n",
       "<table border=\"1\" class=\"dataframe\">\n",
       "  <thead>\n",
       "    <tr style=\"text-align: right;\">\n",
       "      <th></th>\n",
       "      <th>participant_id</th>\n",
       "      <th>visit_name</th>\n",
       "      <th>visit_month</th>\n",
       "      <th>mds_updrs_part_i_summary_score</th>\n",
       "      <th>mds_updrs_part_ii_summary_score</th>\n",
       "      <th>mds_updrs_part_iii_summary_score</th>\n",
       "      <th>caff_drinks_ever_used_regularly</th>\n",
       "      <th>caff_drinks_current_use</th>\n",
       "      <th>age_at_baseline</th>\n",
       "      <th>sex</th>\n",
       "      <th>...</th>\n",
       "      <th>roi6_right_caudal_Eigenvalue3</th>\n",
       "      <th>roi6_right_caudal_Fractional Anisotropy</th>\n",
       "      <th>ref1_left_reference_Eigenvalue1</th>\n",
       "      <th>ref1_left_reference_Eigenvalue2</th>\n",
       "      <th>ref1_left_reference_Eigenvalue3</th>\n",
       "      <th>ref1_left_reference_Fractional Anisotropy</th>\n",
       "      <th>ref2_right_reference_Eigenvalue1</th>\n",
       "      <th>ref2_right_reference_Eigenvalue2</th>\n",
       "      <th>ref2_right_reference_Eigenvalue3</th>\n",
       "      <th>ref2_right_reference_Fractional Anisotropy</th>\n",
       "    </tr>\n",
       "  </thead>\n",
       "  <tbody>\n",
       "    <tr>\n",
       "      <th>1012</th>\n",
       "      <td>BF-1045</td>\n",
       "      <td>M0</td>\n",
       "      <td>0</td>\n",
       "      <td>7.0</td>\n",
       "      <td>12.0</td>\n",
       "      <td>39.0</td>\n",
       "      <td>NaN</td>\n",
       "      <td>NaN</td>\n",
       "      <td>72</td>\n",
       "      <td>Male</td>\n",
       "      <td>...</td>\n",
       "      <td>NaN</td>\n",
       "      <td>NaN</td>\n",
       "      <td>NaN</td>\n",
       "      <td>NaN</td>\n",
       "      <td>NaN</td>\n",
       "      <td>NaN</td>\n",
       "      <td>NaN</td>\n",
       "      <td>NaN</td>\n",
       "      <td>NaN</td>\n",
       "      <td>NaN</td>\n",
       "    </tr>\n",
       "  </tbody>\n",
       "</table>\n",
       "<p>1 rows × 52 columns</p>\n",
       "</div>"
      ],
      "text/plain": [
       "     participant_id visit_name  visit_month  mds_updrs_part_i_summary_score  \\\n",
       "1012        BF-1045         M0            0                             7.0   \n",
       "\n",
       "      mds_updrs_part_ii_summary_score  mds_updrs_part_iii_summary_score  \\\n",
       "1012                             12.0                              39.0   \n",
       "\n",
       "     caff_drinks_ever_used_regularly caff_drinks_current_use  age_at_baseline  \\\n",
       "1012                             NaN                     NaN               72   \n",
       "\n",
       "       sex  ... roi6_right_caudal_Eigenvalue3  \\\n",
       "1012  Male  ...                           NaN   \n",
       "\n",
       "     roi6_right_caudal_Fractional Anisotropy ref1_left_reference_Eigenvalue1  \\\n",
       "1012                                     NaN                             NaN   \n",
       "\n",
       "     ref1_left_reference_Eigenvalue2 ref1_left_reference_Eigenvalue3  \\\n",
       "1012                             NaN                             NaN   \n",
       "\n",
       "     ref1_left_reference_Fractional Anisotropy  \\\n",
       "1012                                       NaN   \n",
       "\n",
       "      ref2_right_reference_Eigenvalue1  ref2_right_reference_Eigenvalue2  \\\n",
       "1012                               NaN                               NaN   \n",
       "\n",
       "      ref2_right_reference_Eigenvalue3  \\\n",
       "1012                               NaN   \n",
       "\n",
       "      ref2_right_reference_Fractional Anisotropy  \n",
       "1012                                         NaN  \n",
       "\n",
       "[1 rows x 52 columns]"
      ]
     },
     "metadata": {},
     "output_type": "display_data"
    }
   ],
   "source": [
    "display(cleaned_data[cleaned_data.participant_id==\"BF-1045\"])"
   ]
  },
  {
   "cell_type": "code",
   "execution_count": null,
   "id": "7cdbdc75",
   "metadata": {},
   "outputs": [],
   "source": [
    "cleaned_data.to_csv(\"cleaned_data.csv\", index=False)"
   ]
  }
 ],
 "metadata": {
  "kernelspec": {
   "display_name": "erdos_summer_2025",
   "language": "python",
   "name": "python3"
  },
  "language_info": {
   "codemirror_mode": {
    "name": "ipython",
    "version": 3
   },
   "file_extension": ".py",
   "mimetype": "text/x-python",
   "name": "python",
   "nbconvert_exporter": "python",
   "pygments_lexer": "ipython3",
   "version": "3.12.11"
  }
 },
 "nbformat": 4,
 "nbformat_minor": 5
}
