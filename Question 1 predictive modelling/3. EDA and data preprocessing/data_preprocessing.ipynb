{
 "cells": [
  {
   "cell_type": "code",
   "execution_count": null,
   "id": "ac14a3ac",
   "metadata": {},
   "outputs": [],
   "source": [
    "import pandas as pd\n",
    "import numpy as np\n",
    "import seaborn as sns\n",
    "import matplotlib.pyplot as plt\n",
    "import warnings\n",
    "warnings.filterwarnings(\"ignore\")\n",
    "\n",
    "sns.set_style(\"whitegrid\")"
   ]
  },
  {
   "cell_type": "code",
   "execution_count": 2,
   "id": "226cb3cf",
   "metadata": {},
   "outputs": [],
   "source": [
    "data=pd.read_csv(\"../2. Train Test Split/training_data.csv\")"
   ]
  },
  {
   "cell_type": "markdown",
   "id": "9178be4e",
   "metadata": {},
   "source": [
    "1. To Prevent Overfitting:\n",
    "Since a model can easily overfit to the noise in small sample sizes from a categorical feature, we identifying these rare categories based on a defined frequency threshold and grouping them into a single, more statistically stable \"other\" category. \n",
    "\n",
    "2. To Prevent Multicollinearity:\n",
    "We do this by drop one column in the `temp` dataframe."
   ]
  },
  {
   "cell_type": "code",
   "execution_count": 3,
   "id": "219659fb",
   "metadata": {},
   "outputs": [],
   "source": [
    "def get_dummies_and_sift(x, df, percent_threshold=0.01):\n",
    "    \"\"\"\n",
    "    Creates dummy variables for a column after grouping rare categories.\n",
    "    This version is self-contained and has no side effects.\n",
    "\n",
    "    Args:\n",
    "        x (str): The name of the column to process.\n",
    "        df (pd.DataFrame): The DataFrame containing the data.\n",
    "        threshold (int): Categories with a count below this threshold will be grouped.\n",
    "    \n",
    "    Returns:\n",
    "        tuple: A tuple containing:\n",
    "            - pd.DataFrame: The modified DataFrame.\n",
    "            - list: A list of the new dummy column names that were created.\n",
    "    \"\"\"\n",
    "\n",
    "    threshold = len(df) * percent_threshold\n",
    "    counts = df[x].value_counts()\n",
    "    categories_to_lump = counts[counts < threshold].index\n",
    "    df.loc[df[x].isin(categories_to_lump), x] = f'Other_{x}'\n",
    "\n",
    "    temp = pd.get_dummies(df[x], drop_first = True)\n",
    "    temp = temp * 1\n",
    "    \n",
    "    new_column_names = temp.columns.tolist()\n",
    "    \n",
    "    df = pd.concat([df, temp], axis = 1)\n",
    "    df.drop([x], axis = 1, inplace = True)\n",
    "    \n",
    "    return df, new_column_names"
   ]
  },
  {
   "cell_type": "code",
   "execution_count": 4,
   "id": "7daa804d",
   "metadata": {},
   "outputs": [],
   "source": [
    "initial_feature_cols=[\"age_at_baseline\", \"visit_month\"]\n",
    "\n",
    "data, new_cols_edu_hist = get_dummies_and_sift('education_level_years',data)\n",
    "initial_feature_cols += new_cols_edu_hist\n",
    "\n",
    "data, new_cols_race = get_dummies_and_sift('race', data)\n",
    "\n",
    "data, new_cols = get_dummies_and_sift('sex', data)"
   ]
  },
  {
   "cell_type": "markdown",
   "id": "3c882eda",
   "metadata": {},
   "source": [
    "Rename the target columns so that they can be more easily referred to."
   ]
  },
  {
   "cell_type": "code",
   "execution_count": 5,
   "id": "a6fb07fd",
   "metadata": {},
   "outputs": [],
   "source": [
    "data=data.rename(columns={\"mds_updrs_part_i_summary_score\":\"updrs_1\", \"mds_updrs_part_ii_summary_score\":\"updrs_2\", \"mds_updrs_part_iii_summary_score\":\"updrs_3\"})"
   ]
  },
  {
   "cell_type": "markdown",
   "id": "9fac908f",
   "metadata": {},
   "source": [
    "This columns only contain \"Yes\", \"No\" or NaN values, we replace \"Yes\" by 1 and \"No\" by 0, set their data type to be \"float64\", and add all these to `initial_feature_cols`."
   ]
  },
  {
   "cell_type": "code",
   "execution_count": 6,
   "id": "9ddf758d",
   "metadata": {},
   "outputs": [],
   "source": [
    "map_cols = [\"caff_drinks_current_use\",\n",
    "                \"caff_drinks_ever_used_regularly\", \n",
    "                \"biological_mother_with_pd\", \n",
    "                \"biological_father_with_pd\", \n",
    "                \"other_relative_with_pd\"]\n",
    "for col in map_cols:\n",
    "    if col in data.columns:\n",
    "        data[col] = data[col].map({'Yes': 1, 'No': 0})\n",
    "        data[col].astype(\"float64\")\n",
    "\n",
    "initial_feature_cols += map_cols\n"
   ]
  },
  {
   "cell_type": "markdown",
   "id": "671c12b2",
   "metadata": {},
   "source": [
    "Observe that in the dataframe, there are time dependent features and static (non-time-dependent data) features, we classify them by appending these features into different list and then output them so that they can be referred to in the later notebooks."
   ]
  },
  {
   "cell_type": "markdown",
   "id": "c1a87c01",
   "metadata": {},
   "source": [
    "By our analysis in the `Data Preparation`, only the features in the `releases_2023_v4release_1027_clinical_DaTSCAN_SBR.csv` are time-dependent features, all other features are static."
   ]
  },
  {
   "cell_type": "code",
   "execution_count": 7,
   "id": "8d463f7e",
   "metadata": {},
   "outputs": [],
   "source": [
    "time_dependent_clinical_features = ['sbr_caudate_r', 'sbr_caudate_l', 'sbr_putamen_r', 'sbr_putamen_l']\n",
    "\n",
    "with open('time_dependent_clinical_features.txt', 'w') as file:\n",
    "    for item in time_dependent_clinical_features:\n",
    "        file.write(item + '\\n')\n",
    "\n",
    "\n",
    "static_clinical_features = initial_feature_cols + [i for i in data.columns if (\"Eigenvalue\" in i) or (\"Fractional Anisotropy\" in i)]\n",
    "\n",
    "with open('static_clinical_features.txt', 'w') as file:\n",
    "    for item in static_clinical_features:\n",
    "        file.write(item + '\\n')\n"
   ]
  },
  {
   "cell_type": "code",
   "execution_count": 8,
   "id": "97b1de9a",
   "metadata": {},
   "outputs": [],
   "source": [
    "data.to_csv(\"preprocessed_training_data.csv\", index=False)"
   ]
  }
 ],
 "metadata": {
  "kernelspec": {
   "display_name": "erdos_summer_2025",
   "language": "python",
   "name": "python3"
  },
  "language_info": {
   "codemirror_mode": {
    "name": "ipython",
    "version": 3
   },
   "file_extension": ".py",
   "mimetype": "text/x-python",
   "name": "python",
   "nbconvert_exporter": "python",
   "pygments_lexer": "ipython3",
   "version": "3.12.11"
  }
 },
 "nbformat": 4,
 "nbformat_minor": 5
}
