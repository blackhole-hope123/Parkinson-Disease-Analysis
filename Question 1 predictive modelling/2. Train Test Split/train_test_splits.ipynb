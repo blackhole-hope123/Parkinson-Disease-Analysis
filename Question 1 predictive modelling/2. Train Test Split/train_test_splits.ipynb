{
  "cells": [
    {
      "cell_type": "code",
      "execution_count": 1,
      "metadata": {
        "collapsed": true,
        "id": "u2d1caRKI2Ub"
      },
      "outputs": [],
      "source": [
        "import pandas as pd\n",
        "import numpy as np\n",
        "import seaborn as sns\n",
        "import matplotlib.pyplot as plt\n",
        "from sklearn.model_selection import GroupKFold\n",
        "import warnings\n",
        "warnings.filterwarnings(\"ignore\")\n",
        "\n",
        "sns.set_style(\"whitegrid\")"
      ]
    },
    {
      "cell_type": "code",
      "execution_count": 2,
      "metadata": {
        "collapsed": true,
        "id": "Yd8_CuazJixV"
      },
      "outputs": [],
      "source": [
        "data=pd.read_csv(\"../1. Data Preparation/complete_data.csv\")"
      ]
    },
    {
      "cell_type": "code",
      "execution_count": 3,
      "metadata": {},
      "outputs": [
        {
          "data": {
            "text/plain": [
              "4051"
            ]
          },
          "execution_count": 3,
          "metadata": {},
          "output_type": "execute_result"
        }
      ],
      "source": [
        "len(data.participant_id.unique())"
      ]
    },
    {
      "cell_type": "markdown",
      "metadata": {},
      "source": [
        "### Group-wise split by patient\n",
        "\n",
        "Split the train and test data in a way such that for a patient, all of his record is entirely in the training or in the test set.\n",
        "\n"
      ]
    },
    {
      "cell_type": "code",
      "execution_count": 3,
      "metadata": {
        "colab": {
          "base_uri": "https://localhost:8080/",
          "height": 88
        },
        "id": "gUc-2QrtydA3",
        "outputId": "01b9ccde-74b5-4e3a-ae20-00ab0622f6b7"
      },
      "outputs": [
        {
          "name": "stdout",
          "output_type": "stream",
          "text": [
            "Splitting data into 5 folds using GroupKFold based on 'patient_id':\n",
            "\n",
            "[    0     1     2 ... 20311 20312 20313]\n",
            "[   15    16    19 ... 20293 20308 20309]\n",
            "training data occupies 0.800049370525796 of participants in the whole data set\n"
          ]
        }
      ],
      "source": [
        "groups = data['participant_id']\n",
        "\n",
        "n_splits = 5 \n",
        "\n",
        "gkf = GroupKFold(n_splits=n_splits)\n",
        "\n",
        "\n",
        "print(f\"Splitting data into {n_splits} folds using GroupKFold based on 'patient_id':\\n\")\n",
        "\n",
        "train_idx, test_idx = next(gkf.split(data, groups=groups))\n",
        "print(train_idx)\n",
        "print(test_idx)\n",
        "train_single, test_single = data.iloc[train_idx], data.iloc[test_idx]\n",
        "print(f\"training data occupies {len(train_single.participant_id.unique())/len(data.participant_id.unique())} of participants in the whole data set\")\n",
        "train_single.to_csv(\"training_data.csv\", index=False)\n",
        "test_single.to_csv(\"test_data.csv\", index=False)\n"
      ]
    }
  ],
  "metadata": {
    "accelerator": "GPU",
    "colab": {
      "gpuType": "T4",
      "provenance": []
    },
    "kernelspec": {
      "display_name": "erdos_summer_2025",
      "language": "python",
      "name": "python3"
    },
    "language_info": {
      "codemirror_mode": {
        "name": "ipython",
        "version": 3
      },
      "file_extension": ".py",
      "mimetype": "text/x-python",
      "name": "python",
      "nbconvert_exporter": "python",
      "pygments_lexer": "ipython3",
      "version": "3.12.11"
    }
  },
  "nbformat": 4,
  "nbformat_minor": 0
}
