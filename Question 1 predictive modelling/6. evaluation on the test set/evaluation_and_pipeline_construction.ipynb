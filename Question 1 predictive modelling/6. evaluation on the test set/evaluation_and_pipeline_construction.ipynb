{
 "cells": [
  {
   "cell_type": "markdown",
   "id": "633784ad",
   "metadata": {},
   "source": [
    "## Evaluation on the test data"
   ]
  },
  {
   "cell_type": "code",
   "execution_count": 1,
   "id": "d777b1bd",
   "metadata": {},
   "outputs": [],
   "source": [
    "# To import functions from utils.py, which is in the parent diretory\n",
    "\n",
    "import sys\n",
    "import os\n",
    "\n",
    "current_dir = os.path.dirname(os.path.abspath('__file__')) \n",
    "\n",
    "parent_dir = os.path.dirname(current_dir)\n",
    "\n",
    "sys.path.append(parent_dir)"
   ]
  },
  {
   "cell_type": "code",
   "execution_count": 2,
   "id": "e1cf46bd",
   "metadata": {},
   "outputs": [],
   "source": [
    "import pandas as pd\n",
    "import numpy as np\n",
    "import joblib\n",
    "import seaborn as sns\n",
    "import matplotlib.pyplot as plt\n",
    "from sklearn.metrics import mean_absolute_error\n",
    "from collections import defaultdict\n",
    "from sklearn.model_selection import GroupKFold\n",
    "from sklearn.impute import SimpleImputer\n",
    "from sklearn.ensemble import RandomForestRegressor\n",
    "from sklearn.multioutput import MultiOutputRegressor\n",
    "import xgboost as xgb\n",
    "import lightgbm as lgb\n",
    "import warnings\n",
    "from utils import create_all_features\n",
    "warnings.filterwarnings(\"ignore\")\n",
    "\n",
    "sns.set_style(\"whitegrid\")"
   ]
  },
  {
   "cell_type": "markdown",
   "id": "9fd8324d",
   "metadata": {},
   "source": [
    "### Load Data"
   ]
  },
  {
   "cell_type": "code",
   "execution_count": 3,
   "id": "783df216",
   "metadata": {},
   "outputs": [],
   "source": [
    "train = pd.read_csv(\"../2. Train Test Split/training_data.csv\")\n",
    "test = pd.read_csv(\"../2. Train Test Split/test_data.csv\")\n",
    "updrs_cols = ['updrs_1', 'updrs_2', 'updrs_3']\n",
    "clinical_feature_time_dependent = ['sbr_caudate_r', 'sbr_caudate_l', 'sbr_putamen_r', 'sbr_putamen_l']"
   ]
  },
  {
   "cell_type": "markdown",
   "id": "83d01518",
   "metadata": {},
   "source": [
    "### Transform test data using training-derived preprocessing and feature engineering\n",
    "\n",
    "To ensure compatibility between the training and test sets, we collect all preprocessing and feature engineering steps into the `create_and_modify_all_features` function in `utils.py`. To prevent data leakage, decisions such as grouping rare categories are learned from the training set and then applied to the test set."
   ]
  },
  {
   "cell_type": "code",
   "execution_count": 4,
   "id": "4ca8f238",
   "metadata": {},
   "outputs": [
    {
     "name": "stdout",
     "output_type": "stream",
     "text": [
      "Creating features for training data...\n",
      "Adding change rate features...\n",
      "Adding rolling average features...\n",
      "Adding volatility features...\n",
      "Adding time-adjusted features...\n",
      "Adding UPDRS ratio features...\n",
      "Creating features for test data...\n",
      "Adding change rate features...\n",
      "Adding rolling average features...\n",
      "Adding volatility features...\n",
      "Adding time-adjusted features...\n",
      "Adding UPDRS ratio features...\n"
     ]
    }
   ],
   "source": [
    "print(\"Creating features for training data...\")\n",
    "train_featured_df, learned_dummy_map, initial_feature_cols = create_all_features(train, updrs_cols, clinical_feature_time_dependent)\n",
    "\n",
    "print(\"Creating features for test data...\")\n",
    "test_featured_df = create_all_features(test, updrs_cols, clinical_feature_time_dependent, dummy_map = learned_dummy_map)[0]"
   ]
  },
  {
   "cell_type": "markdown",
   "id": "778b5eb6",
   "metadata": {},
   "source": [
    "### Align Columns (Crucial for Dummies)\n",
    "Ensure both dataframes have the exact same columns after dummy creation, since some categories might exist in train but not test, or vice-versa."
   ]
  },
  {
   "cell_type": "code",
   "execution_count": 5,
   "id": "d85d9d87",
   "metadata": {},
   "outputs": [
    {
     "name": "stdout",
     "output_type": "stream",
     "text": [
      "\n",
      "Feature engineering complete. Training and test sets now have the same structure.\n"
     ]
    }
   ],
   "source": [
    "train_cols = set(train_featured_df.columns)\n",
    "test_cols = set(test_featured_df.columns)\n",
    "\n",
    "missing_in_test = list(train_cols - test_cols)\n",
    "missing_in_train = list(test_cols - train_cols)\n",
    "\n",
    "# Add missing columns to the test set and fill with 0\n",
    "for col in missing_in_test:\n",
    "    if col not in updrs_cols:\n",
    "      test_featured_df[col] = 0\n",
    "for col in missing_in_train:\n",
    "    if col not in updrs_cols:\n",
    "      train_featured_df[col] = 0\n",
    "\n",
    "# Ensure the order is the same\n",
    "test_featured_df = test_featured_df[train_featured_df.columns]\n",
    "\n",
    "\n",
    "print(\"\\nFeature engineering complete. Training and test sets now have the same structure.\")"
   ]
  },
  {
   "cell_type": "markdown",
   "id": "69c03b87",
   "metadata": {},
   "source": [
    "### Collecting the feature columns"
   ]
  },
  {
   "cell_type": "code",
   "execution_count": 6,
   "id": "41c94efa",
   "metadata": {},
   "outputs": [],
   "source": [
    "cols_for_ts = updrs_cols + clinical_feature_time_dependent\n",
    "\n",
    "static_clinical_features = initial_feature_cols + [i for i in train_featured_df.columns if (\"Eigenvalue\" in i) or (\"Fractional Anisotropy\" in i)]\n",
    "\n",
    "lagged_feature_cols = [col for col in train_featured_df.columns if '_lag_' in col]\n",
    "\n",
    "trend_feature_cols = [col for col in train_featured_df.columns if any(x in col for x in ['slope', 'mean', 'weighted', 'std', 'range', 'adj', 'ratio', 'trend'])]\n",
    "\n",
    "final_feature_cols = static_clinical_features + lagged_feature_cols + trend_feature_cols + [\"age_x_visit_month\"]\n",
    "\n",
    "# avoid duplicated elements arising from both lagged_feature_cols and trend_feature_cols\n",
    "final_feature_cols = list(dict.fromkeys(final_feature_cols))\n"
   ]
  },
  {
   "cell_type": "markdown",
   "id": "af1bcd5f",
   "metadata": {},
   "source": [
    "### Train and test the pipeline obtained from hyperparameter tuning"
   ]
  },
  {
   "cell_type": "code",
   "execution_count": null,
   "id": "7b79a9e7",
   "metadata": {},
   "outputs": [
    {
     "name": "stdout",
     "output_type": "stream",
     "text": [
      "\n",
      "--- Final Test Results ---\n",
      "Average MAE for updrs_1: 2.5631\n",
      "Average MAE for updrs_2: 2.4625\n",
      "Average MAE for updrs_3: 5.5675\n"
     ]
    }
   ],
   "source": [
    "X_train, y_train = train_featured_df[final_feature_cols], train_featured_df[updrs_cols]\n",
    "\n",
    "X_test, y_test = test_featured_df[final_feature_cols], test_featured_df[updrs_cols]\n",
    "\n",
    "mae_results_best_model = defaultdict(list)\n",
    "\n",
    "best_model_pipeline = joblib.load(\"../5. model construction, feature engineering and model tuning/lgbm_model.pkl\")\n",
    "\n",
    "best_model_pipeline.fit(X_train, y_train)\n",
    "\n",
    "predictions_array = best_model_pipeline.predict(X_test)\n",
    "\n",
    "predictions_df = pd.DataFrame(predictions_array, index=y_test.index, columns=updrs_cols)\n",
    "\n",
    "for col in updrs_cols:\n",
    "    actual_values = y_test[col]\n",
    "    predicted_values = predictions_df[col]\n",
    "    \n",
    "    mae = mean_absolute_error(actual_values, predicted_values)\n",
    "    mae_results_best_model[col].append(mae)\n",
    "\n",
    "print(\"\\n--- Final Test Results ---\")\n",
    "for col, scores in mae_results_best_model.items():\n",
    "    avg_mae = np.mean(scores)\n",
    "    print(f\"Average MAE for {col}: {avg_mae:.4f}\")\n",
    "\n"
   ]
  },
  {
   "cell_type": "markdown",
   "id": "bb8a7f1c",
   "metadata": {},
   "source": [
    "### Compare with the strongest baseline"
   ]
  },
  {
   "cell_type": "code",
   "execution_count": 8,
   "id": "66f29a2a",
   "metadata": {},
   "outputs": [
    {
     "name": "stdout",
     "output_type": "stream",
     "text": [
      "\n",
      "\n",
      "Average MAE for updrs_1: 4.2170\n",
      "Average MAE for updrs_2: 5.1864\n",
      "Average MAE for updrs_3: 11.5018\n"
     ]
    }
   ],
   "source": [
    "mae_results_baseline = {}\n",
    "\n",
    "mean_by_month = train_featured_df.groupby('visit_month')[updrs_cols].mean()\n",
    "\n",
    "global_mean_preds = train_featured_df[updrs_cols].mean().to_dict()\n",
    "\n",
    "test_preds_mean = test_featured_df.copy()\n",
    "\n",
    "test_preds_month_mean = test_preds_mean.merge(\n",
    "    mean_by_month.rename(columns=lambda c: f'pred_{c}'),\n",
    "    on='visit_month',\n",
    "    how='left'\n",
    ")\n",
    "\n",
    "for col in updrs_cols:\n",
    "    test_preds_month_mean[f'pred_{col}']=test_preds_month_mean[f'pred_{col}'].fillna(global_mean_preds[col])\n",
    "\n",
    "for col in updrs_cols:\n",
    "    actual_values = test_preds_month_mean[col]\n",
    "    predicted_values = test_preds_month_mean[f'pred_{col}']\n",
    "\n",
    "    valid_indices = predicted_values.notna()\n",
    "    mae = mean_absolute_error(actual_values[valid_indices], predicted_values[valid_indices])\n",
    "    mae_results_baseline[col]=mae\n",
    "\n",
    "\n",
    "print(\"\\n\")\n",
    "for col, score in mae_results_baseline.items():\n",
    "    print(f\"Average MAE for {col}: {score:.4f}\")\n"
   ]
  },
  {
   "cell_type": "code",
   "execution_count": null,
   "id": "d49ff6d7",
   "metadata": {},
   "outputs": [
    {
     "data": {
      "image/png": "[encoded data removed]",
      "text/plain": [
       "<Figure size 1200x800 with 1 Axes>"
      ]
     },
     "metadata": {},
     "output_type": "display_data"
    }
   ],
   "source": [
    "mae_bs_averages = {col: np.mean(np.array([mae_results_baseline[col]])) for col in mae_results_baseline}\n",
    "\n",
    "baseline_metric = pd.DataFrame([mae_bs_averages])\n",
    "\n",
    "baseline_metric[\"model\"] = \"baseline\"\n",
    "\n",
    "mae_final_averages = {col: np.mean(np.array([mae_results_best_model[col]])) for col in mae_results_best_model}\n",
    "\n",
    "final_metric = pd.DataFrame([mae_final_averages])\n",
    "\n",
    "final_metric[\"model\"] = \"tuned LGBM w_Lags\"\n",
    "\n",
    "mae_comparison = pd.concat([final_metric, baseline_metric], ignore_index = True)\n",
    "\n",
    "df = mae_comparison.melt(id_vars='model', var_name='target', value_name='error').dropna()\n",
    "\n",
    "plt.style.use('seaborn-v0_8-whitegrid')\n",
    "fig, ax = plt.subplots(figsize=(12, 8))\n",
    "\n",
    "sns.barplot(data=df, x='target', y='error', hue='model', ax=ax)\n",
    "for p in ax.patches:\n",
    "    ax.annotate(\n",
    "        f'{p.get_height():.2f}',          \n",
    "        (p.get_x() + p.get_width() / 2., p.get_height()), \n",
    "        ha='center',                       \n",
    "        va='center',                       \n",
    "        xytext=(0, 10),                 \n",
    "        textcoords='offset points',\n",
    "        fontweight='bold'\n",
    "    )\n",
    "\n",
    "ax.set_title('Model Performance Improvement: Baseline vs. Final LGBM Model', fontsize=18, fontweight='bold')\n",
    "ax.set_ylabel('Mean Absolute Error (MAE)', fontsize=14)\n",
    "ax.set_xlabel('UPDRS Score Target', fontsize=14)\n",
    "ax.legend(title='Model Type', fontsize=12)\n",
    "ax.set_ylim(0, df['error'].max() * 1.15)\n",
    "\n",
    "baseline_maes = df[df['model'] == 'baseline']['error'].values\n",
    "final_maes = df[df['model'] == 'tuned LGBM w_Lags']['error'].values\n",
    "improvements = ((baseline_maes - final_maes) / baseline_maes) * 100\n",
    "\n",
    "x_coords = [p.get_x() + p.get_width() / 2. for p in ax.patches[:3]]\n",
    "\n",
    "for i, improvement in enumerate(improvements):\n",
    "    ax.annotate(\n",
    "        f'Improvement:\\n{improvement:.1f}%',\n",
    "        xy=(x_coords[i], 0.5), # Place it low on the plot for clarity\n",
    "        ha='center',\n",
    "        va='center',\n",
    "        color='white',\n",
    "        fontweight='bold',\n",
    "        fontsize=12,\n",
    "        bbox=dict(boxstyle=\"round,pad=0.3\", fc=\"green\", ec=\"black\", lw=1, alpha=0.8)\n",
    "    )\n",
    "\n",
    "# --- 4. Final Touches ---\n",
    "ax.set_title('Improvement By Feature Engineering', fontsize=18, fontweight='bold')\n",
    "ax.set_ylabel('Mean Absolute Error (MAE)', fontsize=14)\n",
    "ax.set_xlabel('UPDRS Score Target', fontsize=14)\n",
    "ax.legend(title='Model Type', fontsize=12)\n",
    "ax.set_ylim(0, df['error'].max() * 1.15)\n",
    "\n",
    "\n",
    "plt.tight_layout()\n",
    "plt.show()"
   ]
  },
  {
   "cell_type": "markdown",
   "id": "9c6bc783",
   "metadata": {},
   "source": [
    "### Observation: \n",
    "All the final mean absolute errors, falls in one standard deviation of the mean absolute errors we get during the hyperparameter tuning.\n",
    "\n",
    "\n",
    "### Analysis\n",
    "Our model avoided overfitting and learned some meaningful pattern in the dataset."
   ]
  },
  {
   "cell_type": "markdown",
   "id": "d35d3fcc",
   "metadata": {},
   "source": [
    "### Export the final pipeline"
   ]
  },
  {
   "cell_type": "code",
   "execution_count": 16,
   "id": "e2c5c4ec",
   "metadata": {},
   "outputs": [
    {
     "data": {
      "text/plain": [
       "['final_lgbm_model.pkl']"
      ]
     },
     "execution_count": 16,
     "metadata": {},
     "output_type": "execute_result"
    }
   ],
   "source": [
    "joblib.dump(best_model_pipeline, 'final_lgbm_model.pkl')"
   ]
  }
 ],
 "metadata": {
  "kernelspec": {
   "display_name": "erdos_summer_2025",
   "language": "python",
   "name": "python3"
  },
  "language_info": {
   "codemirror_mode": {
    "name": "ipython",
    "version": 3
   },
   "file_extension": ".py",
   "mimetype": "text/x-python",
   "name": "python",
   "nbconvert_exporter": "python",
   "pygments_lexer": "ipython3",
   "version": "3.12.11"
  }
 },
 "nbformat": 4,
 "nbformat_minor": 5
}
