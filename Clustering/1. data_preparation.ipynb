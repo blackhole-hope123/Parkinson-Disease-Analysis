{
 "cells": [
  {
   "cell_type": "code",
   "execution_count": 20,
   "id": "96abd7bc",
   "metadata": {},
   "outputs": [],
   "source": [
    "import pandas as pd\n",
    "import numpy as np\n",
    "import seaborn as sns\n",
    "import matplotlib.pyplot as plt\n",
    "import warnings\n",
    "from utils import delete_patients_with_the_same_GUID, averaging_scores\n",
    "warnings.filterwarnings('ignore')\n",
    "\n",
    "sns.set_style(\"whitegrid\")"
   ]
  },
  {
   "cell_type": "markdown",
   "id": "1c01a2c2",
   "metadata": {},
   "source": [
    "Observe some patients have different UPDRS score parogression types, and a natural question will be whether some medication will have different effect on them or not. We prepara the data to do a visualization for that. (Need revision?)"
   ]
  },
  {
   "cell_type": "code",
   "execution_count": 21,
   "id": "cab4abe4",
   "metadata": {},
   "outputs": [
    {
     "name": "stdout",
     "output_type": "stream",
     "text": [
      "Processing screening records by participant...\n",
      "Consolidated 474 screening records into 457 baseline records.\n",
      "Processing regular visit records by participant and month...\n",
      "Consolidated 10864 regular records into 10633 records.\n"
     ]
    }
   ],
   "source": [
    "enrollment = delete_patients_with_the_same_GUID(pd.read_csv(\"new-data/releases_2023_v4release_1027_clinical_Enrollment.csv\"))\n",
    "\n",
    "updrs_scores = pd.read_csv(\"cleaned_data.csv\")[['participant_id', 'visit_name', 'visit_month',\n",
    "       'mds_updrs_part_i_summary_score', 'mds_updrs_part_ii_summary_score',\n",
    "       'mds_updrs_part_iii_summary_score']]\n",
    "\n",
    "enrollment_pd = enrollment[enrollment['study_arm'] == 'PD']\n",
    "\n",
    "updrs_scores = updrs_scores[updrs_scores['participant_id'].isin(enrollment_pd['participant_id'])]\n",
    "\n",
    "updrs_scores.columns = ['participant_id', 'visit_name', 'visit_month', 'updrs_1', 'updrs_2', 'updrs_3']\n",
    "\n",
    "updrs_scores = averaging_scores(updrs_scores, ['updrs_1', 'updrs_2', 'updrs_3'])\n",
    "\n",
    "updrs_scores = updrs_scores.drop(columns = ['visit_name'])\n",
    "\n",
    "updrs_scores.to_csv(\"cleaned_updrs_scores.csv\", index=False)"
   ]
  },
  {
   "cell_type": "code",
   "execution_count": 22,
   "id": "747b0826",
   "metadata": {},
   "outputs": [],
   "source": [
    "med_data = delete_patients_with_the_same_GUID(pd.read_csv(\"new-data/releases_2023_v4release_1027_clinical_PD_Medical_History.csv\"))\n",
    "\n",
    "med_data = med_data[med_data['participant_id'].isin(enrollment_pd['participant_id'])]\n",
    "\n",
    "med_columns = ['on_levodopa', 'on_dopamine_agonist', 'on_other_pd_medications']\n",
    "for col in med_columns:\n",
    "    med_data[col] = med_data[col].apply(lambda x: 1 if x == 'Yes' else 0)\n",
    "\n",
    "med_data = med_data.groupby('participant_id').agg({\n",
    "    'on_levodopa': 'max',\n",
    "    'on_dopamine_agonist': 'max',\n",
    "    'on_other_pd_medications': 'max'\n",
    "}).reset_index()\n",
    "\n",
    "med_data.to_csv(\"cleaned_med_data.csv\", index=False)"
   ]
  },
  {
   "cell_type": "code",
   "execution_count": 23,
   "id": "d7358326",
   "metadata": {},
   "outputs": [
    {
     "data": {
      "text/plain": [
       "on_levodopa\n",
       "1    1730\n",
       "0     966\n",
       "Name: count, dtype: int64"
      ]
     },
     "execution_count": 23,
     "metadata": {},
     "output_type": "execute_result"
    }
   ],
   "source": [
    "med_data.on_levodopa.value_counts()"
   ]
  },
  {
   "cell_type": "code",
   "execution_count": 36,
   "id": "727dd0f7",
   "metadata": {},
   "outputs": [],
   "source": [
    "MOCA_data = delete_patients_with_the_same_GUID(pd.read_csv(\"new-data/releases_2023_v4release_1027_clinical_MOCA.csv\"))\n",
    "\n",
    "MOCA_data = MOCA_data[MOCA_data['participant_id'].isin(enrollment_pd['participant_id'])]\n",
    "\n",
    "\n",
    "\n"
   ]
  },
  {
   "cell_type": "code",
   "execution_count": 37,
   "id": "cb811a8f",
   "metadata": {},
   "outputs": [
    {
     "data": {
      "text/plain": [
       "Index(['participant_id', 'GUID', 'visit_name', 'visit_month',\n",
       "       'moca01_alternating_trail_making', 'moca02_visuoconstr_skills_cube',\n",
       "       'moca03_visuoconstr_skills_clock_cont',\n",
       "       'moca04_visuoconstr_skills_clock_num',\n",
       "       'moca05_visuoconstr_skills_clock_hands',\n",
       "       'moca_visuospatial_executive_subscore', 'moca06_naming_lion',\n",
       "       'moca07_naming_rhino', 'moca08_naming_camel', 'moca_naming_subscore',\n",
       "       'moca09_attention_forward_digit_span',\n",
       "       'moca10_attention_backward_digit_span',\n",
       "       'moca_attention_digits_subscore', 'moca11_attention_vigilance',\n",
       "       'moca12_attention_serial_7s', 'moca13_sentence_repetition',\n",
       "       'moca14_verbal_fluency_number_of_words', 'moca15_verbal_fluency',\n",
       "       'moca_language_subscore', 'moca16_abstraction',\n",
       "       'moca_abstraction_subscore', 'moca17_delayed_recall_face',\n",
       "       'moca18_delayed_recall_velvet', 'moca19_delayed_recall_church',\n",
       "       'moca20_delayed_recall_daisy', 'moca21_delayed_recall_red',\n",
       "       'moca_delayed_recall_subscore_optnl_cat_cue',\n",
       "       'moca_delayed_recall_subscore_optnl_mult_choice',\n",
       "       'moca_delayed_recall_subscore', 'moca22_orientation_date_score',\n",
       "       'moca23_orientation_month_score', 'moca24_orientation_year_score',\n",
       "       'moca25_orientation_day_score', 'moca26_orientation_place_score',\n",
       "       'moca27_orientation_city_score', 'moca_orientation_subscore',\n",
       "       'code_education_12years_complete', 'education_12years_complete',\n",
       "       'moca_total_score'],\n",
       "      dtype='object')"
      ]
     },
     "execution_count": 37,
     "metadata": {},
     "output_type": "execute_result"
    }
   ],
   "source": [
    "MOCA_data.columns"
   ]
  },
  {
   "cell_type": "code",
   "execution_count": 38,
   "id": "a90169af",
   "metadata": {},
   "outputs": [
    {
     "data": {
      "text/plain": [
       "array([  0,  12,  24,  36,  48,  60,  84,  96,  -1,  72, 108,  30,  18,\n",
       "         9,   3])"
      ]
     },
     "execution_count": 38,
     "metadata": {},
     "output_type": "execute_result"
    }
   ],
   "source": [
    "MOCA_data['visit_month'].unique()"
   ]
  },
  {
   "cell_type": "code",
   "execution_count": 43,
   "id": "4cb842e4",
   "metadata": {},
   "outputs": [
    {
     "data": {
      "text/plain": [
       "Index(['participant_id', 'GUID', 'visit_name', 'visit_month',\n",
       "       'moca01_alternating_trail_making', 'moca02_visuoconstr_skills_cube',\n",
       "       'moca03_visuoconstr_skills_clock_cont',\n",
       "       'moca04_visuoconstr_skills_clock_num',\n",
       "       'moca05_visuoconstr_skills_clock_hands',\n",
       "       'moca_visuospatial_executive_subscore', 'moca06_naming_lion',\n",
       "       'moca07_naming_rhino', 'moca08_naming_camel', 'moca_naming_subscore',\n",
       "       'moca09_attention_forward_digit_span',\n",
       "       'moca10_attention_backward_digit_span',\n",
       "       'moca_attention_digits_subscore', 'moca11_attention_vigilance',\n",
       "       'moca12_attention_serial_7s', 'moca13_sentence_repetition',\n",
       "       'moca14_verbal_fluency_number_of_words', 'moca15_verbal_fluency',\n",
       "       'moca_language_subscore', 'moca16_abstraction',\n",
       "       'moca_abstraction_subscore', 'moca17_delayed_recall_face',\n",
       "       'moca18_delayed_recall_velvet', 'moca19_delayed_recall_church',\n",
       "       'moca20_delayed_recall_daisy', 'moca21_delayed_recall_red',\n",
       "       'moca_delayed_recall_subscore_optnl_cat_cue',\n",
       "       'moca_delayed_recall_subscore_optnl_mult_choice',\n",
       "       'moca_delayed_recall_subscore', 'moca22_orientation_date_score',\n",
       "       'moca23_orientation_month_score', 'moca24_orientation_year_score',\n",
       "       'moca25_orientation_day_score', 'moca26_orientation_place_score',\n",
       "       'moca27_orientation_city_score', 'moca_orientation_subscore',\n",
       "       'code_education_12years_complete', 'education_12years_complete',\n",
       "       'moca_total_score'],\n",
       "      dtype='object')"
      ]
     },
     "execution_count": 43,
     "metadata": {},
     "output_type": "execute_result"
    }
   ],
   "source": [
    "MOCA_data.columns"
   ]
  },
  {
   "cell_type": "code",
   "execution_count": 42,
   "id": "dcace0e8",
   "metadata": {},
   "outputs": [
    {
     "data": {
      "text/plain": [
       "array(['M0', 'M12', 'M24', 'M36', 'M48', 'M60', 'M84', 'M96', 'SC', 'M72',\n",
       "       'M108', 'M30', 'M18', 'M9', 'M3'], dtype=object)"
      ]
     },
     "execution_count": 42,
     "metadata": {},
     "output_type": "execute_result"
    }
   ],
   "source": [
    "MOCA_data['visit_name'].unique()"
   ]
  },
  {
   "cell_type": "code",
   "execution_count": 45,
   "id": "6c1ce3e6",
   "metadata": {},
   "outputs": [],
   "source": [
    "MOCA_data_scores = MOCA_data[MOCA_data['visit_month'] >= 0][['participant_id','visit_month','moca_total_score']]"
   ]
  },
  {
   "cell_type": "code",
   "execution_count": 46,
   "id": "8cca8818",
   "metadata": {},
   "outputs": [
    {
     "data": {
      "text/html": [
       "<div>\n",
       "<style scoped>\n",
       "    .dataframe tbody tr th:only-of-type {\n",
       "        vertical-align: middle;\n",
       "    }\n",
       "\n",
       "    .dataframe tbody tr th {\n",
       "        vertical-align: top;\n",
       "    }\n",
       "\n",
       "    .dataframe thead th {\n",
       "        text-align: right;\n",
       "    }\n",
       "</style>\n",
       "<table border=\"1\" class=\"dataframe\">\n",
       "  <thead>\n",
       "    <tr style=\"text-align: right;\">\n",
       "      <th></th>\n",
       "      <th>participant_id</th>\n",
       "      <th>visit_month</th>\n",
       "      <th>moca_total_score</th>\n",
       "    </tr>\n",
       "  </thead>\n",
       "  <tbody>\n",
       "    <tr>\n",
       "      <th>1</th>\n",
       "      <td>BF-1002</td>\n",
       "      <td>0</td>\n",
       "      <td>29.0</td>\n",
       "    </tr>\n",
       "    <tr>\n",
       "      <th>2</th>\n",
       "      <td>BF-1003</td>\n",
       "      <td>0</td>\n",
       "      <td>30.0</td>\n",
       "    </tr>\n",
       "    <tr>\n",
       "      <th>3</th>\n",
       "      <td>BF-1004</td>\n",
       "      <td>0</td>\n",
       "      <td>28.0</td>\n",
       "    </tr>\n",
       "    <tr>\n",
       "      <th>5</th>\n",
       "      <td>BF-1006</td>\n",
       "      <td>0</td>\n",
       "      <td>25.0</td>\n",
       "    </tr>\n",
       "    <tr>\n",
       "      <th>6</th>\n",
       "      <td>BF-1008</td>\n",
       "      <td>0</td>\n",
       "      <td>29.0</td>\n",
       "    </tr>\n",
       "  </tbody>\n",
       "</table>\n",
       "</div>"
      ],
      "text/plain": [
       "  participant_id  visit_month  moca_total_score\n",
       "1        BF-1002            0              29.0\n",
       "2        BF-1003            0              30.0\n",
       "3        BF-1004            0              28.0\n",
       "5        BF-1006            0              25.0\n",
       "6        BF-1008            0              29.0"
      ]
     },
     "execution_count": 46,
     "metadata": {},
     "output_type": "execute_result"
    }
   ],
   "source": [
    "MOCA_data_scores.head()"
   ]
  },
  {
   "cell_type": "code",
   "execution_count": 48,
   "id": "20a7ccaa",
   "metadata": {},
   "outputs": [],
   "source": [
    "MOCA_data_scores.to_csv(\"MOCA_cleaned.csv\", index = False)"
   ]
  }
 ],
 "metadata": {
  "kernelspec": {
   "display_name": "erdos_summer_2025",
   "language": "python",
   "name": "python3"
  },
  "language_info": {
   "codemirror_mode": {
    "name": "ipython",
    "version": 3
   },
   "file_extension": ".py",
   "mimetype": "text/x-python",
   "name": "python",
   "nbconvert_exporter": "python",
   "pygments_lexer": "ipython3",
   "version": "3.12.10"
  }
 },
 "nbformat": 4,
 "nbformat_minor": 5
}
