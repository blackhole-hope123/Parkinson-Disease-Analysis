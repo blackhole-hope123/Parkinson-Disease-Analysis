{
 "cells": [
  {
   "cell_type": "code",
   "execution_count": 2,
   "id": "4fd46840",
   "metadata": {},
   "outputs": [],
   "source": [
    "import pandas as pd\n",
    "import numpy as np\n",
    "import seaborn as sns\n",
    "import matplotlib.pyplot as plt\n",
    "from sklearn.model_selection import GroupShuffleSplit\n",
    "\n",
    "\n",
    "sns.set_style(\"whitegrid\")"
   ]
  },
  {
   "cell_type": "code",
   "execution_count": 3,
   "id": "b2dc4e03",
   "metadata": {},
   "outputs": [],
   "source": [
    "data = pd.read_csv(\"data_final.csv\")\n"
   ]
  },
  {
   "cell_type": "markdown",
   "id": "ec0c2589",
   "metadata": {},
   "source": [
    "We split the dataset into two equal halves, using 50% for training and 50% for testing the Cox proportional hazards model."
   ]
  },
  {
   "cell_type": "code",
   "execution_count": 4,
   "id": "2fc6a798",
   "metadata": {},
   "outputs": [],
   "source": [
    "groups = data['participant_id']\n",
    "gss = GroupShuffleSplit(n_splits=1, test_size=0.5, random_state=42)\n",
    "\n",
    "train_idx, test_idx = next(gss.split(data, groups=groups))\n",
    "train_split = data.iloc[train_idx]\n",
    "test_split = data.iloc[test_idx]\n",
    "\n"
   ]
  },
  {
   "cell_type": "code",
   "execution_count": 5,
   "id": "5a7a34d2",
   "metadata": {},
   "outputs": [],
   "source": [
    "train_split.to_csv(\"training_data_50.csv\", index=False)\n",
    "test_split.to_csv(\"testing_data_50.csv\", index=False)"
   ]
  }
 ],
 "metadata": {
  "kernelspec": {
   "display_name": "erdos_summer_2025",
   "language": "python",
   "name": "python3"
  },
  "language_info": {
   "codemirror_mode": {
    "name": "ipython",
    "version": 3
   },
   "file_extension": ".py",
   "mimetype": "text/x-python",
   "name": "python",
   "nbconvert_exporter": "python",
   "pygments_lexer": "ipython3",
   "version": "3.12.10"
  }
 },
 "nbformat": 4,
 "nbformat_minor": 5
}
