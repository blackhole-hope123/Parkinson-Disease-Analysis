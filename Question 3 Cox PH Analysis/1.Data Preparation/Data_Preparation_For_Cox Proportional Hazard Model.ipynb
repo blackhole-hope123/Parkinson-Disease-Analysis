{
 "cells": [
  {
   "cell_type": "code",
   "execution_count": null,
   "id": "e057ba28",
   "metadata": {},
   "outputs": [],
   "source": [
    "import pandas as pd\n",
    "import numpy as np\n",
    "import seaborn as sns\n",
    "import matplotlib.pyplot as plt\n",
    "from utils import delete_patients_with_the_same_GUID\n",
    "\n",
    "\n",
    "\n",
    "sns.set_style(\"whitegrid\")"
   ]
  },
  {
   "cell_type": "markdown",
   "id": "eb182e50",
   "metadata": {},
   "source": [
    "We load the data into aptly made variables and delete patients with different participant id but same GUID, to ensure that there is no data leakage."
   ]
  },
  {
   "cell_type": "code",
   "execution_count": 75,
   "id": "ff3ea68a",
   "metadata": {},
   "outputs": [],
   "source": [
    "updrs_1=pd.read_csv(\"../Data/releases_2023_v4release_1027_clinical_MDS_UPDRS_Part_I.csv\")\n",
    "updrs_1_cleaned=delete_patients_with_the_same_GUID(updrs_1)"
   ]
  },
  {
   "cell_type": "code",
   "execution_count": 76,
   "id": "842f58d7",
   "metadata": {},
   "outputs": [],
   "source": [
    "updrs_2=pd.read_csv(\"../Data/releases_2023_v4release_1027_clinical_MDS_UPDRS_Part_II.csv\")\n",
    "updrs_2_cleaned=delete_patients_with_the_same_GUID(updrs_2)"
   ]
  },
  {
   "cell_type": "code",
   "execution_count": 77,
   "id": "9a6cf651",
   "metadata": {},
   "outputs": [],
   "source": [
    "updrs_3=pd.read_csv(\"../Data/releases_2023_v4release_1027_clinical_MDS_UPDRS_Part_III.csv\")\n",
    "updrs_3_cleaned=delete_patients_with_the_same_GUID(updrs_3)\n"
   ]
  },
  {
   "cell_type": "code",
   "execution_count": 78,
   "id": "cf6dfccd",
   "metadata": {},
   "outputs": [],
   "source": [
    "demographic_data=pd.read_csv(\"../Data/releases_2023_v4release_1027_clinical_Demographics.csv\")\n",
    "demographic_data_cleaned=delete_patients_with_the_same_GUID(demographic_data)"
   ]
  },
  {
   "cell_type": "code",
   "execution_count": 79,
   "id": "bb493038",
   "metadata": {},
   "outputs": [],
   "source": [
    "family_data=pd.read_csv(\"../Data/releases_2023_v4release_1027_clinical_Family_History_PD.csv\")\n",
    "family_data_cleaned=delete_patients_with_the_same_GUID(family_data)"
   ]
  },
  {
   "cell_type": "code",
   "execution_count": 94,
   "id": "fb4eb358",
   "metadata": {},
   "outputs": [],
   "source": [
    "caffeine_data=pd.read_csv(\"../Data/releases_2023_v4release_1027_clinical_Caffeine_history.csv\")\n",
    "caffeine_data_cleaned=delete_patients_with_the_same_GUID(caffeine_data)\n"
   ]
  },
  {
   "cell_type": "code",
   "execution_count": 96,
   "id": "b7d32ab2",
   "metadata": {},
   "outputs": [],
   "source": [
    "DTI_data=pd.read_csv(\"../Data/releases_2023_v4release_1027_clinical_DTI.csv\")\n",
    "DTI_data_cleaned=delete_patients_with_the_same_GUID(DTI_data)\n"
   ]
  },
  {
   "cell_type": "code",
   "execution_count": 80,
   "id": "8d215ec1",
   "metadata": {},
   "outputs": [
    {
     "data": {
      "text/plain": [
       "Index(['participant_id', 'GUID', 'visit_name', 'visit_month',\n",
       "       'mds_updrs_part_i_primary_info_source',\n",
       "       'code_upd2101_cognitive_impairment',\n",
       "       'code_upd2102_hallucinations_and_psychosis',\n",
       "       'code_upd2103_depressed_mood', 'code_upd2104_anxious_mood',\n",
       "       'code_upd2105_apathy',\n",
       "       'code_upd2106_dopamine_dysregulation_syndrome_features',\n",
       "       'upd2101_cognitive_impairment', 'upd2102_hallucinations_and_psychosis',\n",
       "       'upd2103_depressed_mood', 'upd2104_anxious_mood', 'upd2105_apathy',\n",
       "       'upd2106_dopamine_dysregulation_syndrome_features',\n",
       "       'mds_updrs_part_i_sub_score',\n",
       "       'mds_updrs_part_i_pat_quest_primary_info_source',\n",
       "       'code_upd2107_pat_quest_sleep_problems',\n",
       "       'code_upd2108_pat_quest_daytime_sleepiness',\n",
       "       'code_upd2109_pat_quest_pain_and_other_sensations',\n",
       "       'code_upd2110_pat_quest_urinary_problems',\n",
       "       'code_upd2111_pat_quest_constipation_problems',\n",
       "       'code_upd2112_pat_quest_lightheadedness_on_standing',\n",
       "       'code_upd2113_pat_quest_fatigue', 'upd2107_pat_quest_sleep_problems',\n",
       "       'upd2108_pat_quest_daytime_sleepiness',\n",
       "       'upd2109_pat_quest_pain_and_other_sensations',\n",
       "       'upd2110_pat_quest_urinary_problems',\n",
       "       'upd2111_pat_quest_constipation_problems',\n",
       "       'upd2112_pat_quest_lightheadedness_on_standing',\n",
       "       'upd2113_pat_quest_fatigue', 'mds_updrs_part_i_pat_quest_sub_score',\n",
       "       'mds_updrs_part_i_summary_score'],\n",
       "      dtype='object')"
      ]
     },
     "execution_count": 80,
     "metadata": {},
     "output_type": "execute_result"
    }
   ],
   "source": [
    "updrs_1_cleaned.columns"
   ]
  },
  {
   "cell_type": "markdown",
   "id": "99264408",
   "metadata": {},
   "source": [
    "We include as features all the UPDRS Scores at the baseline except the indicators of freezing of gait, the 13th question and the 11th question of  the UPDRS Part II and Part III scores respectively."
   ]
  },
  {
   "cell_type": "code",
   "execution_count": 81,
   "id": "846160d1",
   "metadata": {},
   "outputs": [],
   "source": [
    "updrs_1_at_baseline = updrs_1_cleaned[(updrs_1_cleaned[\"visit_month\"] == 0)].drop(columns = ['GUID', 'visit_name', 'visit_month'])\n",
    "updrs_2_at_baseline = updrs_2_cleaned[(updrs_2_cleaned[\"visit_month\"] == 0)].drop(columns = [\"code_upd2213_freezing\",'GUID', \"visit_month\", \"visit_name\"])\n",
    "updrs_3_at_baseline = updrs_3_cleaned[(updrs_3_cleaned[\"visit_month\"] == 0)].drop(columns= [\"code_upd2311_freezing_of_gait\", 'GUID', \"visit_month\", \"visit_name\"])\n"
   ]
  },
  {
   "cell_type": "code",
   "execution_count": 82,
   "id": "81e77b4f",
   "metadata": {},
   "outputs": [],
   "source": [
    "updrs_at_baseline = updrs_1_at_baseline.merge(updrs_2_at_baseline, on ='participant_id', how = 'outer').merge(updrs_3_at_baseline, on ='participant_id', how = 'outer')"
   ]
  },
  {
   "cell_type": "code",
   "execution_count": 83,
   "id": "d0fdb6ee",
   "metadata": {},
   "outputs": [
    {
     "data": {
      "text/plain": [
       "Index(['participant_id', 'mds_updrs_part_i_primary_info_source',\n",
       "       'code_upd2101_cognitive_impairment',\n",
       "       'code_upd2102_hallucinations_and_psychosis',\n",
       "       'code_upd2103_depressed_mood', 'code_upd2104_anxious_mood',\n",
       "       'code_upd2105_apathy',\n",
       "       'code_upd2106_dopamine_dysregulation_syndrome_features',\n",
       "       'upd2101_cognitive_impairment', 'upd2102_hallucinations_and_psychosis',\n",
       "       ...\n",
       "       'upd2317d_rest_tremor_amplitude_left_lower_extremity',\n",
       "       'upd2317e_rest_tremor_amplitude_lip_or_jaw',\n",
       "       'upd2318_consistency_of_rest_tremor', 'upd2da_dyskinesias_during_exam',\n",
       "       'upd2db_movements_interfere_with_ratings',\n",
       "       'code_upd2hy_hoehn_and_yahr_stage', 'upd2hy_hoehn_and_yahr_stage',\n",
       "       'upd23a_medication_for_pd', 'upd23b_clinical_state_on_medication',\n",
       "       'mds_updrs_part_iii_summary_score'],\n",
       "      dtype='object', length=131)"
      ]
     },
     "execution_count": 83,
     "metadata": {},
     "output_type": "execute_result"
    }
   ],
   "source": [
    "updrs_at_baseline.columns"
   ]
  },
  {
   "cell_type": "markdown",
   "id": "7c726ac3",
   "metadata": {},
   "source": [
    "The updrs_fog on the other hand stores the indicator scores of freezing of gate for each month."
   ]
  },
  {
   "cell_type": "code",
   "execution_count": 84,
   "id": "29b6c263",
   "metadata": {},
   "outputs": [
    {
     "name": "stderr",
     "output_type": "stream",
     "text": [
      "C:\\Users\\sayan\\AppData\\Local\\Temp\\ipykernel_24428\\1095606179.py:7: UserWarning: You are merging on int and float columns where the float values are not equal to their int representation.\n",
      "  updrs_fog = updrs_2_fog.merge(updrs_3_fog, on = [\"participant_id\", \"visit_month\"], how = \"outer\")\n"
     ]
    }
   ],
   "source": [
    "updrs_2_visitname = updrs_2_cleaned[~((updrs_2_cleaned['visit_name'].str.contains('#')) | (updrs_2_cleaned['visit_name'] == 'SC'))]\n",
    "updrs_2_fog =updrs_2_visitname[[\"participant_id\",  \"visit_month\", \"code_upd2213_freezing\"]]\n",
    "\n",
    "updrs_3_visitname = updrs_3_cleaned[~((updrs_3_cleaned['visit_name'].str.contains('#')) | (updrs_3_cleaned['visit_name'] == 'SC'))]\n",
    "\n",
    "updrs_3_fog =updrs_3_visitname[[\"participant_id\", \"visit_month\", \"code_upd2311_freezing_of_gait\"]]\n",
    "updrs_fog = updrs_2_fog.merge(updrs_3_fog, on = [\"participant_id\", \"visit_month\"], how = \"outer\")\n",
    "updrs = updrs_at_baseline.merge(updrs_fog, on = ['participant_id'], how = 'outer')"
   ]
  },
  {
   "cell_type": "code",
   "execution_count": 85,
   "id": "7906e736",
   "metadata": {},
   "outputs": [
    {
     "name": "stdout",
     "output_type": "stream",
     "text": [
      "<class 'pandas.core.frame.DataFrame'>\n",
      "RangeIndex: 5084 entries, 0 to 5083\n",
      "Columns: 131 entries, participant_id to mds_updrs_part_iii_summary_score\n",
      "dtypes: float64(63), object(68)\n",
      "memory usage: 5.1+ MB\n"
     ]
    }
   ],
   "source": [
    "updrs_at_baseline.info()"
   ]
  },
  {
   "cell_type": "code",
   "execution_count": 86,
   "id": "2299112a",
   "metadata": {},
   "outputs": [
    {
     "data": {
      "text/plain": [
       "array([nan,  0.,  1.,  2.,  3.,  4.])"
      ]
     },
     "execution_count": 86,
     "metadata": {},
     "output_type": "execute_result"
    }
   ],
   "source": [
    "updrs['code_upd2213_freezing'].unique()"
   ]
  },
  {
   "cell_type": "code",
   "execution_count": 87,
   "id": "9d5befdd",
   "metadata": {},
   "outputs": [
    {
     "data": {
      "text/plain": [
       "array([ 0.,  1.,  2.,  3.,  4., nan])"
      ]
     },
     "execution_count": 87,
     "metadata": {},
     "output_type": "execute_result"
    }
   ],
   "source": [
    "updrs['code_upd2311_freezing_of_gait'].unique()"
   ]
  },
  {
   "cell_type": "markdown",
   "id": "e13fd45f",
   "metadata": {},
   "source": [
    "We define a new time-dependent binary variable, `FOG`, indicating the presence of freezing of gait: `FOG` = 1 if freezing of gait is present, and `FOG` = 0 otherwise. In accordance with established research protocols, freezing of gait is considered present if either Question 13 of UPDRS Part II or Question 11 of UPDRS Part III has a score greater than 1."
   ]
  },
  {
   "cell_type": "code",
   "execution_count": 88,
   "id": "9af35b14",
   "metadata": {},
   "outputs": [],
   "source": [
    "updrs['FOG'] = ((updrs['code_upd2213_freezing'] >= 1) | \n",
    "                        (updrs['code_upd2311_freezing_of_gait'] >= 1)).astype(int)\n"
   ]
  },
  {
   "cell_type": "code",
   "execution_count": 89,
   "id": "5c53b7a8",
   "metadata": {},
   "outputs": [
    {
     "data": {
      "text/plain": [
       "Index(['participant_id', 'mds_updrs_part_i_primary_info_source',\n",
       "       'code_upd2101_cognitive_impairment',\n",
       "       'code_upd2102_hallucinations_and_psychosis',\n",
       "       'code_upd2103_depressed_mood', 'code_upd2104_anxious_mood',\n",
       "       'code_upd2105_apathy',\n",
       "       'code_upd2106_dopamine_dysregulation_syndrome_features',\n",
       "       'upd2101_cognitive_impairment', 'upd2102_hallucinations_and_psychosis',\n",
       "       ...\n",
       "       'upd2db_movements_interfere_with_ratings',\n",
       "       'code_upd2hy_hoehn_and_yahr_stage', 'upd2hy_hoehn_and_yahr_stage',\n",
       "       'upd23a_medication_for_pd', 'upd23b_clinical_state_on_medication',\n",
       "       'mds_updrs_part_iii_summary_score', 'visit_month',\n",
       "       'code_upd2213_freezing', 'code_upd2311_freezing_of_gait', 'FOG'],\n",
       "      dtype='object', length=135)"
      ]
     },
     "execution_count": 89,
     "metadata": {},
     "output_type": "execute_result"
    }
   ],
   "source": [
    "updrs.columns"
   ]
  },
  {
   "cell_type": "markdown",
   "id": "c4dbce49",
   "metadata": {},
   "source": [
    "We only consider patients who do not have freezing of gait at the baseline."
   ]
  },
  {
   "cell_type": "code",
   "execution_count": 90,
   "id": "7493d4d9",
   "metadata": {},
   "outputs": [],
   "source": [
    "participants_fog0_baseline = updrs[\n",
    "    (updrs['FOG'] == 0) & \n",
    "    (updrs['visit_month'] == 0)\n",
    "]['participant_id'].unique()\n",
    "\n",
    "updrs_no_fog_at_baseline = updrs[\n",
    "    updrs['participant_id'].isin(participants_fog0_baseline)\n",
    "]"
   ]
  },
  {
   "cell_type": "code",
   "execution_count": 91,
   "id": "a11cc3f0",
   "metadata": {},
   "outputs": [
    {
     "name": "stdout",
     "output_type": "stream",
     "text": [
      "<class 'pandas.core.frame.DataFrame'>\n",
      "Index: 19301 entries, 0 to 21630\n",
      "Columns: 135 entries, participant_id to FOG\n",
      "dtypes: float64(66), int64(1), object(68)\n",
      "memory usage: 20.0+ MB\n"
     ]
    }
   ],
   "source": [
    "updrs_no_fog_at_baseline.info()"
   ]
  },
  {
   "cell_type": "code",
   "execution_count": 92,
   "id": "6b06ede9",
   "metadata": {},
   "outputs": [
    {
     "data": {
      "text/plain": [
       "4316"
      ]
     },
     "execution_count": 92,
     "metadata": {},
     "output_type": "execute_result"
    }
   ],
   "source": [
    "len(participants_fog0_baseline)"
   ]
  },
  {
   "cell_type": "code",
   "execution_count": null,
   "id": "833953af",
   "metadata": {},
   "outputs": [],
   "source": [
    "updrs_freezing_dropped = updrs_no_fog_at_baseline.drop(columns = ['code_upd2213_freezing', 'code_upd2311_freezing_of_gait']   )"
   ]
  },
  {
   "cell_type": "markdown",
   "id": "d1e3e650",
   "metadata": {},
   "source": [
    "We process the rest of the data in a similar way as we do for the Parkinsons Progression prediction. We only include time independant features for our Cox Model."
   ]
  },
  {
   "cell_type": "code",
   "execution_count": 175,
   "id": "965181c9",
   "metadata": {},
   "outputs": [],
   "source": [
    "demographic_data_drop =demographic_data_cleaned.drop([\"GUID\",\"visit_name\",\"visit_month\"],axis=1)\n",
    "data = updrs_freezing_dropped.merge(\n",
    "    demographic_data_drop,\n",
    "    on=\"participant_id\", \n",
    "    how=\"left\"\n",
    ")\n"
   ]
  },
  {
   "cell_type": "code",
   "execution_count": 176,
   "id": "8dc042c1",
   "metadata": {},
   "outputs": [
    {
     "name": "stderr",
     "output_type": "stream",
     "text": [
      "C:\\Users\\sayan\\AppData\\Local\\Temp\\ipykernel_24428\\3283215029.py:29: DeprecationWarning: DataFrameGroupBy.apply operated on the grouping columns. This behavior is deprecated, and in a future version of pandas the grouping columns will be excluded from the operation. Either pass `include_groups=False` to exclude the groupings or explicitly select the grouping columns after groupby to silence this warning.\n",
      "  family_data_cleaned = family_data_cleaned.groupby('participant_id').apply(consolidate_history).reset_index(drop=True)\n"
     ]
    }
   ],
   "source": [
    "def consolidate_history(group):\n",
    "    \"\"\"\n",
    "    Consolidates multiple family history records for a single participant\n",
    "    into one record based on the \"if any is Yes, then Yes\" rule.\n",
    "    \n",
    "    It also keeps the visit information from the most recent record.\n",
    "    \"\"\"\n",
    "\n",
    "    latest_record = group.sort_values('visit_month', ascending=False).iloc[0]\n",
    "    \n",
    "\n",
    "    mother_history = 'Yes' if 'Yes' in group['biological_mother_with_pd'].values else 'No'\n",
    "    father_history = 'Yes' if 'Yes' in group['biological_father_with_pd'].values else 'No'\n",
    "    other_history = 'Yes' if 'Yes' in group['other_relative_with_pd'].values else 'No'\n",
    "    \n",
    "    consolidated_data = {\n",
    "        'participant_id': group['participant_id'].iloc[0],\n",
    "        'GUID': group['GUID'].iloc[0],\n",
    "        'visit_name': latest_record['visit_name'],\n",
    "        'visit_month': latest_record['visit_month'],\n",
    "        'biological_mother_with_pd': mother_history,\n",
    "        'biological_father_with_pd': father_history,\n",
    "        'other_relative_with_pd': other_history\n",
    "    }\n",
    "    \n",
    "    return pd.Series(consolidated_data)\n",
    "\n",
    "try:\n",
    "    family_data_cleaned = family_data_cleaned.groupby('participant_id').apply(consolidate_history).reset_index(drop=True)\n",
    "\n",
    "except FileNotFoundError:\n",
    "    print(\"Error: The file 'releases_2023_v4release_1027_clinical_Family_History_PD.csv' was not found.\")\n",
    "except Exception as e:\n",
    "    print(f\"An error occurred: {e}\")"
   ]
  },
  {
   "cell_type": "code",
   "execution_count": 177,
   "id": "293a2295",
   "metadata": {},
   "outputs": [],
   "source": [
    "family_data_drop =family_data_cleaned.drop([\"GUID\",\"visit_name\",\"visit_month\"],axis=1)\n",
    "data =data.merge(\n",
    "    family_data_drop,\n",
    "    on=\"participant_id\", \n",
    "    how=\"left\"\n",
    ")\n",
    "\n"
   ]
  },
  {
   "cell_type": "code",
   "execution_count": 178,
   "id": "8d2ad773",
   "metadata": {},
   "outputs": [],
   "source": [
    "def appropriate_pivotting(df):\n",
    "    df=df.drop([\"GUID\", \"visit_name\", \"visit_month\",\"dti_brain_tissue\"], axis=1)\n",
    "    df_pivotted=df.pivot(columns=[\"dti_measure\"], index=\"participant_id\")\n",
    "    df_pivotted.columns = ['_'.join(map(str, col)).strip() for col in df_pivotted.columns.values]\n",
    "    cols=df_pivotted.columns\n",
    "    for col in cols:\n",
    "        if \"#\" in col:\n",
    "            df_pivotted=df_pivotted.drop(col, axis=1)\n",
    "    return df_pivotted \n",
    "DTI_data_cleaned_and_pivotted=appropriate_pivotting(DTI_data_cleaned)\n",
    "\n"
   ]
  },
  {
   "cell_type": "code",
   "execution_count": 179,
   "id": "9b3c485f",
   "metadata": {},
   "outputs": [
    {
     "data": {
      "text/plain": [
       "Index(['participant_id', 'roi1_left_rostral_Eigenvalue1',\n",
       "       'roi1_left_rostral_Eigenvalue2', 'roi1_left_rostral_Eigenvalue3',\n",
       "       'roi1_left_rostral_Fractional Anisotropy',\n",
       "       'roi2_left_middle_Eigenvalue1', 'roi2_left_middle_Eigenvalue2',\n",
       "       'roi2_left_middle_Eigenvalue3',\n",
       "       'roi2_left_middle_Fractional Anisotropy',\n",
       "       'roi3_left_caudal_Eigenvalue1', 'roi3_left_caudal_Eigenvalue2',\n",
       "       'roi3_left_caudal_Eigenvalue3',\n",
       "       'roi3_left_caudal_Fractional Anisotropy',\n",
       "       'roi4_right_rostral_Eigenvalue1', 'roi4_right_rostral_Eigenvalue2',\n",
       "       'roi4_right_rostral_Eigenvalue3',\n",
       "       'roi4_right_rostral_Fractional Anisotropy',\n",
       "       'roi5_right_middle_Eigenvalue1', 'roi5_right_middle_Eigenvalue2',\n",
       "       'roi5_right_middle_Eigenvalue3',\n",
       "       'roi5_right_middle_Fractional Anisotropy',\n",
       "       'roi6_right_caudal_Eigenvalue1', 'roi6_right_caudal_Eigenvalue2',\n",
       "       'roi6_right_caudal_Eigenvalue3',\n",
       "       'roi6_right_caudal_Fractional Anisotropy',\n",
       "       'ref1_left_reference_Eigenvalue1', 'ref1_left_reference_Eigenvalue2',\n",
       "       'ref1_left_reference_Eigenvalue3',\n",
       "       'ref1_left_reference_Fractional Anisotropy',\n",
       "       'ref2_right_reference_Eigenvalue1', 'ref2_right_reference_Eigenvalue2',\n",
       "       'ref2_right_reference_Eigenvalue3',\n",
       "       'ref2_right_reference_Fractional Anisotropy'],\n",
       "      dtype='object')"
      ]
     },
     "execution_count": 179,
     "metadata": {},
     "output_type": "execute_result"
    }
   ],
   "source": [
    "DTI_data_cleaned_and_pivotted=DTI_data_cleaned_and_pivotted.reset_index()\n",
    "DTI_data_cleaned_and_pivotted.columns"
   ]
  },
  {
   "cell_type": "code",
   "execution_count": 180,
   "id": "6f1e074e",
   "metadata": {},
   "outputs": [],
   "source": [
    "data = data.merge(DTI_data_cleaned_and_pivotted,\n",
    "    on=\"participant_id\", \n",
    "    how=\"left\"\n",
    ")"
   ]
  },
  {
   "cell_type": "code",
   "execution_count": 181,
   "id": "db838c3c",
   "metadata": {},
   "outputs": [
    {
     "data": {
      "text/plain": [
       "participant_id                                    0\n",
       "mds_updrs_part_i_primary_info_source           1035\n",
       "code_upd2101_cognitive_impairment              1004\n",
       "code_upd2102_hallucinations_and_psychosis      1004\n",
       "code_upd2103_depressed_mood                    1004\n",
       "                                              ...  \n",
       "ref1_left_reference_Fractional Anisotropy     16716\n",
       "ref2_right_reference_Eigenvalue1              16716\n",
       "ref2_right_reference_Eigenvalue2              16716\n",
       "ref2_right_reference_Eigenvalue3              16716\n",
       "ref2_right_reference_Fractional Anisotropy    16716\n",
       "Length: 172, dtype: int64"
      ]
     },
     "execution_count": 181,
     "metadata": {},
     "output_type": "execute_result"
    }
   ],
   "source": [
    "data.isna().sum()"
   ]
  },
  {
   "cell_type": "markdown",
   "id": "091cae77",
   "metadata": {},
   "source": [
    "We clean up the columns with too many missing values and then drop all the NAN values.\n"
   ]
  },
  {
   "cell_type": "code",
   "execution_count": 182,
   "id": "6a1f73c1",
   "metadata": {},
   "outputs": [
    {
     "name": "stdout",
     "output_type": "stream",
     "text": [
      "39\n",
      "['mds_updrs_part_i_pat_quest_primary_info_source', 'mds_updrs_part_ii_primary_info_source', 'upd2db_movements_interfere_with_ratings', 'upd23b_clinical_state_on_medication', 'biological_mother_with_pd', 'biological_father_with_pd', 'other_relative_with_pd', 'roi1_left_rostral_Eigenvalue1', 'roi1_left_rostral_Eigenvalue2', 'roi1_left_rostral_Eigenvalue3', 'roi1_left_rostral_Fractional Anisotropy', 'roi2_left_middle_Eigenvalue1', 'roi2_left_middle_Eigenvalue2', 'roi2_left_middle_Eigenvalue3', 'roi2_left_middle_Fractional Anisotropy', 'roi3_left_caudal_Eigenvalue1', 'roi3_left_caudal_Eigenvalue2', 'roi3_left_caudal_Eigenvalue3', 'roi3_left_caudal_Fractional Anisotropy', 'roi4_right_rostral_Eigenvalue1', 'roi4_right_rostral_Eigenvalue2', 'roi4_right_rostral_Eigenvalue3', 'roi4_right_rostral_Fractional Anisotropy', 'roi5_right_middle_Eigenvalue1', 'roi5_right_middle_Eigenvalue2', 'roi5_right_middle_Eigenvalue3', 'roi5_right_middle_Fractional Anisotropy', 'roi6_right_caudal_Eigenvalue1', 'roi6_right_caudal_Eigenvalue2', 'roi6_right_caudal_Eigenvalue3', 'roi6_right_caudal_Fractional Anisotropy', 'ref1_left_reference_Eigenvalue1', 'ref1_left_reference_Eigenvalue2', 'ref1_left_reference_Eigenvalue3', 'ref1_left_reference_Fractional Anisotropy', 'ref2_right_reference_Eigenvalue1', 'ref2_right_reference_Eigenvalue2', 'ref2_right_reference_Eigenvalue3', 'ref2_right_reference_Fractional Anisotropy']\n"
     ]
    }
   ],
   "source": [
    "cols_more_nan = data.columns[data.isna().sum() > 1500].tolist()\n",
    "print(len(cols_more_nan))\n",
    "print(cols_more_nan)"
   ]
  },
  {
   "cell_type": "code",
   "execution_count": 183,
   "id": "26e4e487",
   "metadata": {},
   "outputs": [],
   "source": [
    "data_drop_cols = data.drop(columns = cols_more_nan)"
   ]
  },
  {
   "cell_type": "code",
   "execution_count": 184,
   "id": "58460d53",
   "metadata": {},
   "outputs": [],
   "source": [
    "data_final = data_drop_cols.dropna()"
   ]
  },
  {
   "cell_type": "code",
   "execution_count": 185,
   "id": "9bdf4cba",
   "metadata": {},
   "outputs": [
    {
     "name": "stdout",
     "output_type": "stream",
     "text": [
      "<class 'pandas.core.frame.DataFrame'>\n",
      "Index: 18030 entries, 947 to 19300\n",
      "Columns: 133 entries, participant_id to education_level_years\n",
      "dtypes: float64(64), int64(2), object(67)\n",
      "memory usage: 18.4+ MB\n"
     ]
    }
   ],
   "source": [
    "data_final.info()"
   ]
  },
  {
   "cell_type": "code",
   "execution_count": 186,
   "id": "af04a08e",
   "metadata": {},
   "outputs": [
    {
     "data": {
      "text/plain": [
       "3275"
      ]
     },
     "execution_count": 186,
     "metadata": {},
     "output_type": "execute_result"
    }
   ],
   "source": [
    "data_final['participant_id'].nunique()\n"
   ]
  },
  {
   "cell_type": "code",
   "execution_count": 269,
   "id": "cd4dd3cf",
   "metadata": {},
   "outputs": [],
   "source": [
    "data_final.to_csv(\"data_final.csv\")"
   ]
  }
 ],
 "metadata": {
  "kernelspec": {
   "display_name": "erdos_summer_2025",
   "language": "python",
   "name": "python3"
  },
  "language_info": {
   "codemirror_mode": {
    "name": "ipython",
    "version": 3
   },
   "file_extension": ".py",
   "mimetype": "text/x-python",
   "name": "python",
   "nbconvert_exporter": "python",
   "pygments_lexer": "ipython3",
   "version": "3.12.10"
  }
 },
 "nbformat": 4,
 "nbformat_minor": 5
}
